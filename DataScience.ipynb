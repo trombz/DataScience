{
 "cells": [
  {
   "cell_type": "markdown",
   "id": "1627b5da",
   "metadata": {},
   "source": [
    "## Goals and Objectives"
   ]
  },
  {
   "cell_type": "markdown",
   "id": "c0a627a7",
   "metadata": {},
   "source": [
    " -  Learn programming in python or R \n",
    " -  Learn basic statistics for data science \n",
    " -  Start projects as soon as you can (Kaggle)\n",
    " -  Take notes on what algorithms and packages others use\n",
    " -  Learn the source code for the algorithms and try to implement them from scratch\n",
    " -  Work on more advanced projects where you collect your own data or use advanced concepts like deep learning, nlp, or computer vision.\n",
    " -  Data Visualization\n",
    " -  Exploratory Data analysis\n",
    " -  Data scraping/API's\n",
    " -  Databases \n",
    " "
   ]
  },
  {
   "cell_type": "markdown",
   "id": "c8533806",
   "metadata": {},
   "source": [
    "Why learn about data?\n",
    "5 v's of Big Data\n",
    "Volume\n",
    "Variety\n",
    "Velocity\n",
    "Veracity\n",
    "Value"
   ]
  },
  {
   "cell_type": "markdown",
   "id": "a9070687",
   "metadata": {},
   "source": [
    "#Descriptive Analytics = The process of using current and historical data to identify trends and relationships\n",
    "#Data Scientist = Experts in the most advanced analytical methods\n",
    "#Data User = People who use data and have some core data skills,but dont yet have the full data and analytics skill set\n",
    "#Data Enthuasiast = A person who understands the importance of data and have a desire to learn,utilize and help\n",
    "#Data Skeptic\n",
    "\n",
    "Data = Individual facts or items of information collected about the world\n",
    "Random Error = An error caused when measurements differ slightly from one measurement to the next\n",
    "Systematic error = An error caused when there is a consistent difference between the observed and true values of something\n",
    "Sampling error = An error arising from the unrepresentativeness of a sample taken\n",
    "\n",
    "clear ownership\n",
    "wider leadership support\n",
    "training\n",
    "invest in the right tools\n",
    "measurement\n",
    "\n",
    "\n",
    "Data types:\n",
    "    Categorical:\n",
    "        Nominal and Ordinal\n",
    "    Numerical:\n",
    "        Discrete and Continuous\n",
    "\n",
    "\n",
    "\n",
    "Discrete data = Numerical information that can take a finite,countable number of values ,ex: dice counting, number of cisco social media posts\n",
    "Continuous data = Numerical information that can take on an infinite number of potential values(Within a certain range) ex: watts\n",
    "\n",
    "Categorical data = Information that can be divided into groups\n",
    "    Nominal data = Labelled information that can be divided into groups, where each value does not provide any quantitative or ordering value\n",
    "    Ordinal data = Categorial information in which the values follows a natural order, ex: low ,medium, high\n",
    "\n",
    "\n",
    "Data source layer = all data types\n",
    "\n",
    "Data warehouse architecture:\n",
    "    Data Source layer\n",
    "    Staging Area = temporary storage area\n",
    "    Data Warehouse = metadata,summary,raw\n",
    "    Presentation layer\n",
    "\n",
    "\n",
    "Metadata = A set of data that describes and gives information about other data\n",
    "\n",
    "4 A's frameworks:\n",
    "\n",
    "ask analyze "
   ]
  },
  {
   "cell_type": "code",
   "execution_count": null,
   "id": "10e21497-f8ff-48b7-b013-1851871bf38a",
   "metadata": {},
   "outputs": [],
   "source": [
    "########DATA SCIENCE SNIPPETS/SCRIPTS/EXAMPLES########\n",
    "\n",
    "# Functions --->>>min,max,sum,range\n",
    "# Functions --->>>mean,media,mode\n",
    "\n",
    "\"Mean significa a media de um valor em um conjunto de valores\"\n",
    "\"Media significa o valor medio entre todos os valores arranjados de forma sortida\"\n",
    "\"Mode significa o valor mais frequente/ocorrente\"\n",
    "\n",
    "\n",
    "minimum = min(45,67,76,24,98,9)\n",
    "print('The minimium valor is: ', minimum,sep=' \\n')\n",
    "\n",
    "maximum = max(45,67,76,24,98,9)\n",
    "print('The maximum valor is: ', maximum,sep=' \\n')\n",
    "\n",
    "\n",
    "from decimal import Decimal\n",
    "\n",
    "principal = Decimal('1000.00')\n",
    "rate = Decimal('0.05')\n",
    "\n",
    "print('Saída desse script está descrita abaixo\\n')\n",
    "for year in range(1,11):\n",
    "    amount = principal * (1 + rate) ** year\n",
    "    print(f'{year:>2} {amount:>10.2f}')"
   ]
  },
  {
   "cell_type": "code",
   "execution_count": null,
   "id": "8b3a9bce-e0df-438b-b80e-6d8efdb7dac8",
   "metadata": {},
   "outputs": [],
   "source": [
    "grades = [45,467,894,379,903,45]\n",
    "sum(grades) / len(grades)\n",
    "\n",
    "import statistics\n",
    "statistics.mean(grades)"
   ]
  },
  {
   "cell_type": "code",
   "execution_count": null,
   "id": "772d7fd1-1547-4803-87da-1aa27bbbd8a5",
   "metadata": {},
   "outputs": [],
   "source": [
    "import statistics\n",
    "statistics.mode(grades)\n",
    "\n"
   ]
  },
  {
   "cell_type": "code",
   "execution_count": null,
   "id": "6bfb95ad-d3e2-46c0-b492-aadb73991941",
   "metadata": {},
   "outputs": [],
   "source": [
    "import statistics\n",
    "statistics.median(grades)"
   ]
  },
  {
   "cell_type": "code",
   "execution_count": null,
   "id": "a53e6796-3877-4104-bbed-a08105ccfcf2",
   "metadata": {},
   "outputs": [],
   "source": [
    "sorted(grades)"
   ]
  },
  {
   "cell_type": "code",
   "execution_count": null,
   "id": "6add13f5-55e7-42f0-b1f8-f97fb1e99f3f",
   "metadata": {},
   "outputs": [],
   "source": [
    "import statistics\n",
    "\n",
    "valores = [47,95,88,73,88,84]\n",
    "\n",
    "statistics.mean(valores)"
   ]
  },
  {
   "cell_type": "code",
   "execution_count": null,
   "id": "b3989955-fc25-48c3-b2e0-d26031af1f7f",
   "metadata": {},
   "outputs": [],
   "source": [
    "import statistics\n",
    "\n",
    "valores = [47,95,88,73,88,84]\n",
    "\n",
    "statistics.median(valores)"
   ]
  },
  {
   "cell_type": "code",
   "execution_count": null,
   "id": "b5272d29-7cac-4c89-b7bc-11b6ae3b807c",
   "metadata": {},
   "outputs": [],
   "source": [
    "import statistics\n",
    "\n",
    "valores = [47,95,88,73,88,84]\n",
    "\n",
    "statistics.mode(valores)"
   ]
  },
  {
   "cell_type": "code",
   "execution_count": null,
   "id": "0a73a5fb-1127-42da-adb5-8e93dec9bf1c",
   "metadata": {
    "tags": []
   },
   "outputs": [],
   "source": [
    "sorted(valores)"
   ]
  },
  {
   "cell_type": "code",
   "execution_count": null,
   "id": "793f3756-2f04-4b28-91df-beee908ed10a",
   "metadata": {},
   "outputs": [],
   "source": [
    "statistics.quantiles(valores)"
   ]
  },
  {
   "cell_type": "code",
   "execution_count": null,
   "id": "4f0c6129-bb09-4675-b6a0-809eae6b1b0d",
   "metadata": {},
   "outputs": [],
   "source": [
    "statistics.variance(valores)"
   ]
  },
  {
   "cell_type": "code",
   "execution_count": null,
   "id": "7e59d4d6-8740-4bfc-a117-a6627b42ae19",
   "metadata": {},
   "outputs": [],
   "source": [
    "statistics.stdev(valores)"
   ]
  },
  {
   "cell_type": "markdown",
   "id": "50cc15bc-e8be-4608-a92c-6341c7c79fb9",
   "metadata": {},
   "source": [
    "###MEASURES OF DISPERSION###\n",
    "\n",
    "measures of central tendency - mean,median and mode\n",
    "An entire group is called a population\n",
    "A subset of population is called a sample\n",
    "\n",
    "Variance\n",
    "\n",
    "\n",
    "Standard Deviation"
   ]
  },
  {
   "cell_type": "code",
   "execution_count": null,
   "id": "e3f53b22-7b76-496e-a53c-970f329a2183",
   "metadata": {},
   "outputs": [],
   "source": [
    "import statistics\n",
    "\n",
    "statistics.pvariance([1,3,4,2,6,5,3,4,5,2])"
   ]
  },
  {
   "cell_type": "code",
   "execution_count": null,
   "id": "9c01a80c-59d5-47d5-aba0-8ad8d315ead1",
   "metadata": {},
   "outputs": [],
   "source": [
    "import statistics\n",
    "\n",
    "statistics.pstdev([1,3,4,2,6,5,3,4,5,2])"
   ]
  },
  {
   "cell_type": "markdown",
   "id": "c11f900f-d02f-4acc-b851-bdbcf74b0fae",
   "metadata": {},
   "source": [
    "#Data\n",
    "\n",
    "Sensor data:\n",
    "RFID\n",
    "GPS\n",
    "Industrial\n",
    "IoT\n",
    "\n",
    "Web data:\n",
    "Application logs\n",
    "Transactions\n",
    "Advertising\n",
    "Social Media\n",
    "\n",
    "Mobile:\n",
    "Location\n",
    "Photos\n",
    "Messages\n",
    "Metadata\n",
    "\n",
    "\n",
    "Personal:\n",
    "Fitbit\n",
    "23andMe\n",
    "MyFitnessPal\n",
    "Smart Meter\n"
   ]
  },
  {
   "cell_type": "code",
   "execution_count": null,
   "id": "8c004aa0-5f4a-4677-8d4d-11660f040596",
   "metadata": {},
   "outputs": [],
   "source": [
    "a_var = 4\n",
    "\n",
    "lista1 = [1, \"tromba\", [1,2,4], a_var]"
   ]
  },
  {
   "cell_type": "code",
   "execution_count": null,
   "id": "77756554-555e-4014-b3ff-0c083db2b826",
   "metadata": {},
   "outputs": [],
   "source": [
    "lista1"
   ]
  },
  {
   "cell_type": "code",
   "execution_count": null,
   "id": "901ce9ff-780d-4c45-af10-25524b8756cb",
   "metadata": {},
   "outputs": [],
   "source": [
    "lista1[:2]"
   ]
  },
  {
   "cell_type": "code",
   "execution_count": null,
   "id": "05af93c0-542c-4993-843f-f005f682b15f",
   "metadata": {},
   "outputs": [],
   "source": [
    "lista1[:-1]"
   ]
  },
  {
   "cell_type": "code",
   "execution_count": null,
   "id": "56b47e55-18c0-48d9-9f45-dc0b137631c1",
   "metadata": {},
   "outputs": [],
   "source": [
    "lista1.append(10)"
   ]
  },
  {
   "cell_type": "code",
   "execution_count": null,
   "id": "4ec21e3d-959a-4655-84b8-b8b9255a166e",
   "metadata": {},
   "outputs": [],
   "source": [
    "lista1"
   ]
  },
  {
   "cell_type": "code",
   "execution_count": null,
   "id": "7fb9500e-5ff8-4261-ba88-c0ec89817313",
   "metadata": {},
   "outputs": [],
   "source": [
    "lista1[2] = \"tromba\""
   ]
  },
  {
   "cell_type": "code",
   "execution_count": null,
   "id": "74837681-0957-4bd7-8798-0e189ff56387",
   "metadata": {},
   "outputs": [],
   "source": [
    "lista1"
   ]
  },
  {
   "cell_type": "code",
   "execution_count": null,
   "id": "6e46f726-3e28-4329-94c1-060470f76962",
   "metadata": {},
   "outputs": [],
   "source": [
    "lista1 + [1,2,3]"
   ]
  },
  {
   "cell_type": "code",
   "execution_count": null,
   "id": "b7fb0888-bbbe-41ab-a327-b969209d6b84",
   "metadata": {},
   "outputs": [],
   "source": [
    "lista1 += [11,12,13]"
   ]
  },
  {
   "cell_type": "code",
   "execution_count": null,
   "id": "b108bae9-3afc-4d7c-bac5-5ba4004d9fe3",
   "metadata": {},
   "outputs": [],
   "source": [
    "lista1"
   ]
  },
  {
   "cell_type": "code",
   "execution_count": null,
   "id": "ccbc6524-443c-4179-be93-178de95ecc99",
   "metadata": {},
   "outputs": [],
   "source": [
    "nu1 = [3,45,6,7,8,98,9,454,53,43,2,22]\n",
    "\n",
    "sorted(nu1)"
   ]
  },
  {
   "cell_type": "code",
   "execution_count": null,
   "id": "17582ac8-4454-4241-956f-49d16666ca1a",
   "metadata": {},
   "outputs": [],
   "source": [
    "nu1.sort()"
   ]
  },
  {
   "cell_type": "code",
   "execution_count": null,
   "id": "f7bb386e-69e8-44d9-8f19-ebf823c92c1c",
   "metadata": {},
   "outputs": [],
   "source": [
    "nu1"
   ]
  },
  {
   "cell_type": "code",
   "execution_count": null,
   "id": "c5801582-7ac4-48df-97be-b86918deb210",
   "metadata": {},
   "outputs": [],
   "source": [
    "tup = (\"satan\",234,56,7)"
   ]
  },
  {
   "cell_type": "code",
   "execution_count": null,
   "id": "63238fa3-b4b5-4839-af07-871d3d875356",
   "metadata": {},
   "outputs": [],
   "source": [
    "tup[0]"
   ]
  },
  {
   "cell_type": "code",
   "execution_count": null,
   "id": "025ca977-d906-412a-8a5f-eae497106bb8",
   "metadata": {},
   "outputs": [],
   "source": [
    "tup[1] = 5"
   ]
  },
  {
   "cell_type": "code",
   "execution_count": null,
   "id": "8f9718d7-b665-4941-b845-b70dddeff130",
   "metadata": {},
   "outputs": [],
   "source": [
    "emplo = {'Tromba':35,'Anna':45}"
   ]
  },
  {
   "cell_type": "code",
   "execution_count": null,
   "id": "bd22d592-6fcb-4979-b6b5-a7d5002a23df",
   "metadata": {},
   "outputs": [],
   "source": [
    "emplo['SaThan'] = 666"
   ]
  },
  {
   "cell_type": "code",
   "execution_count": null,
   "id": "6567b502-fadc-48b5-bb06-b2389962f48d",
   "metadata": {},
   "outputs": [],
   "source": [
    "emplo"
   ]
  },
  {
   "cell_type": "code",
   "execution_count": null,
   "id": "e6937fd0-290f-425c-986f-d0b27cf3296f",
   "metadata": {},
   "outputs": [],
   "source": [
    "'SaThan' in emplo"
   ]
  },
  {
   "cell_type": "code",
   "execution_count": null,
   "id": "0f5c97ec-ccf2-474f-bfd5-1d3d0455fca4",
   "metadata": {},
   "outputs": [],
   "source": [
    "del emplo ['Tromba']"
   ]
  },
  {
   "cell_type": "code",
   "execution_count": null,
   "id": "9c784243-55b2-4803-ab07-eb21c7665db7",
   "metadata": {},
   "outputs": [],
   "source": [
    "emplo"
   ]
  },
  {
   "cell_type": "code",
   "execution_count": null,
   "id": "ecaa4962-e0e0-4880-a22c-c8fb564150c6",
   "metadata": {},
   "outputs": [],
   "source": [
    "emplo.items()"
   ]
  },
  {
   "cell_type": "code",
   "execution_count": null,
   "id": "1b2694b2-9dd5-4b3c-90f9-cf6819dd71de",
   "metadata": {},
   "outputs": [],
   "source": [
    "emplo[tup] = 345"
   ]
  },
  {
   "cell_type": "code",
   "execution_count": null,
   "id": "1ec86de5-8b0f-405f-9f8d-0cb0e79c4093",
   "metadata": {},
   "outputs": [],
   "source": [
    "emplo"
   ]
  },
  {
   "cell_type": "code",
   "execution_count": null,
   "id": "66f840c5-8b97-46ea-bd16-630557911a4f",
   "metadata": {},
   "outputs": [],
   "source": [
    "palavras = set(['Minha', 'rola' ,'é', 'gigante', 'porém', 'não' ,'tanto', 'assim', 'porque', 'não', 'pode', 'ser', 'assim', 'e', 'palavras', 'repetidas', 'não', 'serão', 'printadas', 'no', 'conjunto', 'set', 'e'])"
   ]
  },
  {
   "cell_type": "code",
   "execution_count": null,
   "id": "38f292d5-f057-4ef3-b074-a7424ee7b4de",
   "metadata": {},
   "outputs": [],
   "source": [
    "print(palavras)"
   ]
  },
  {
   "cell_type": "code",
   "execution_count": null,
   "id": "04a5086b-ce08-4f82-ac85-9e6b14204daa",
   "metadata": {},
   "outputs": [],
   "source": [
    "'galinah' in palavras"
   ]
  },
  {
   "cell_type": "code",
   "execution_count": null,
   "id": "607f4914-a78b-4fca-8e43-158a88a11b0c",
   "metadata": {},
   "outputs": [],
   "source": [
    "nu2 = set([2,3,4,4,5,56,7,8,8,'rola' ,'é', 'gigante', 'porém', 'não' ,'tanto',])"
   ]
  },
  {
   "cell_type": "code",
   "execution_count": null,
   "id": "c828803a-e1e4-422e-9d9a-f1a3cf665f8d",
   "metadata": {},
   "outputs": [],
   "source": [
    "palavras - nu2#Difference"
   ]
  },
  {
   "cell_type": "code",
   "execution_count": null,
   "id": "95463574-3196-4bfc-89f3-db4291a1199f",
   "metadata": {},
   "outputs": [],
   "source": [
    "nu2 - palavras"
   ]
  },
  {
   "cell_type": "code",
   "execution_count": null,
   "id": "cfb38df8-2749-460d-b153-8aba3af58347",
   "metadata": {},
   "outputs": [],
   "source": [
    "nu2 | palavras #Union"
   ]
  },
  {
   "cell_type": "code",
   "execution_count": null,
   "id": "68686f5b-a7ab-4d0a-91f3-e5733196e17c",
   "metadata": {},
   "outputs": [],
   "source": [
    "nu2 & palavras#Intersection"
   ]
  },
  {
   "cell_type": "code",
   "execution_count": null,
   "id": "f45f264d-4e51-484f-bd9a-893055bcdf25",
   "metadata": {},
   "outputs": [],
   "source": [
    "'Numbers work' if 666 == 666 else 'Sadly,this shit is not working!'#ternary operator!"
   ]
  },
  {
   "cell_type": "code",
   "execution_count": null,
   "id": "e10f6dd8-5c06-41bd-8aea-93a4b5786c84",
   "metadata": {},
   "outputs": [],
   "source": [
    "for i in nu1[4:]:\n",
    "    print(i)"
   ]
  },
  {
   "cell_type": "code",
   "execution_count": null,
   "id": "a75e6080-1f64-4fd0-84e3-f06754c4926a",
   "metadata": {},
   "outputs": [],
   "source": [
    "for idx in range(3):\n",
    "    print(nu1[idx])"
   ]
  },
  {
   "cell_type": "code",
   "execution_count": null,
   "id": "f0b917b4-1392-4517-9515-84ec50fca329",
   "metadata": {},
   "outputs": [],
   "source": [
    "input_arr = ['hello','world','my','name','is','tromba']\n",
    "\n",
    "def wordbuzz(input_arr):\n",
    "    \"\"\"sorting words\"\"\"\n",
    "    for word in input_arr:\n",
    "        counts = {}\n",
    "        for letter in word:\n",
    "            if letter in counts:\n",
    "                counts[letter] += 1\n",
    "            else:\n",
    "                counts[letter] = 1\n",
    "        if max(counts.values()) > 1:\n",
    "            print(word)\n",
    "\n"
   ]
  },
  {
   "cell_type": "code",
   "execution_count": null,
   "id": "0b23129e-d786-462a-a7a8-c8e64a11512b",
   "metadata": {},
   "outputs": [],
   "source": [
    "wordbuzz(input_arr)"
   ]
  },
  {
   "cell_type": "code",
   "execution_count": null,
   "id": "7d59293a-122d-400d-9517-9b1135d9908c",
   "metadata": {},
   "outputs": [],
   "source": [
    "#Simulation and Static visualizations\n",
    "\n",
    "'Static bar charts showing the final results of a six-sided-dice-rolling simulation'\n",
    "'Visualizations help you \"get to know\" your data'\n",
    "'Visualization libraries Seaborn and Matplotlib'\n",
    "'Seaborn is built over Matplotlib'#simplifies many Matplotlib operations\n",
    "\n",
    "%matplotlib in ipython\n",
    "%matplotlib inline"
   ]
  },
  {
   "cell_type": "code",
   "execution_count": null,
   "id": "4d2be9ef-1ab1-497e-b9ee-50e9d3ed36a7",
   "metadata": {},
   "outputs": [],
   "source": [
    "#Rolling a six sided dice rolling simulation\n",
    "import matplotlib.pyplot as plt #plt is a best practice to call matplotlib module\n",
    "import numpy as np\n",
    "import random\n",
    "import seaborn as sns\n",
    "\n",
    "#dice logic\n",
    "rolls=[random.randrange(1,7)for i in range(600)]\n",
    "values,frequencies = np.unique(rolls,return_counts=True)\n",
    "\n",
    "#graph\n",
    "title = f'Rolling a Six-sided Die {len(rolls):,} Times'\n",
    "sns.set_style('whitegrid')\n",
    "axes = sns.barplot(x =values,y=frequencies,palette='deep')\n",
    "axes.set_title(title)\n",
    "axes.set(xlabel='Die Value',ylabel='Frequency')#text inserted on the axes\n",
    "axes.set_ylim(top=max(frequencies)* 1.10)#setting the limit of the Y axe,10% larger of the actual value\n",
    "\n",
    "for bar, frequency in zip(axes.patches,frequencies):\n",
    "    text_x = bar.get_x() + bar.get_width() / 2.0\n",
    "    text_y= bar.get_height()\n",
    "    text = f'{frequency:,}\\n{frequency / len(rolls):.3%}'\n",
    "    axes.text(text_x,text_y,text,fontsize=11, ha='center',va='bottom')#ha means horizontal alignment and va means vertical alignment"
   ]
  },
  {
   "cell_type": "code",
   "execution_count": null,
   "id": "9992c525-beca-4942-8bc6-23c9d7496a47",
   "metadata": {},
   "outputs": [],
   "source": [
    "%recall 54"
   ]
  },
  {
   "cell_type": "code",
   "execution_count": null,
   "id": "8479bd66-1a7e-4255-9613-c69c4fb54bf9",
   "metadata": {},
   "outputs": [],
   "source": [
    "#Rolling a six sided dice rolling simulation\n",
    "import matplotlib.pyplot as plt #plt is a best practice to call matplotlib module\n",
    "import numpy as np\n",
    "import random\n",
    "import seaborn as sns\n",
    "\n",
    "#dice logic\n",
    "rolls=[random.randrange(1,7)for i in range(60000)]\n",
    "values,frequencies = np.unique(rolls,return_counts=True)\n",
    "\n",
    "#graph\n",
    "title = f'Rolling a Six-sided Die {len(rolls):,} Times'\n",
    "sns.set_style('whitegrid')\n",
    "axes = sns.barplot(x =values,y=frequencies,palette='deep')\n",
    "axes.set_title(title)\n",
    "axes.set(xlabel='Die Value',ylabel='Frequency')#text inserted on the axes\n",
    "axes.set_ylim(top=max(frequencies)* 1.10)#setting the limit of the Y axe,10% larger of the actual value\n",
    "\n",
    "for bar, frequency in zip(axes.patches,frequencies):\n",
    "    text_x = bar.get_x() + bar.get_width() / 2.0\n",
    "    text_y= bar.get_height()\n",
    "    text = f'{frequency:,}\\n{frequency / len(rolls):.3%}'\n",
    "    axes.text(text_x,text_y,text,fontsize=11, ha='center',va='bottom')#ha means horizontal alignment and va means vertical alignment"
   ]
  },
  {
   "cell_type": "code",
   "execution_count": null,
   "id": "2574e603-3ae6-4c5b-a649-e8ce02eb0855",
   "metadata": {},
   "outputs": [],
   "source": [
    "plt.cla()#clear function from matplotlib"
   ]
  },
  {
   "cell_type": "code",
   "execution_count": null,
   "id": "235f4d1e-5d02-44d4-8413-758e23f21722",
   "metadata": {},
   "outputs": [],
   "source": [
    "%recall 57 #magic to recall a snippet"
   ]
  },
  {
   "cell_type": "code",
   "execution_count": null,
   "id": "d30cf5d7-5723-448b-b485-6edaecb0ff21",
   "metadata": {},
   "outputs": [],
   "source": [
    "#Rolling a six sided dice rolling simulation\n",
    "import matplotlib.pyplot as plt #plt is a best practice to call matplotlib module\n",
    "import numpy as np\n",
    "import random\n",
    "import seaborn as sns\n",
    "\n",
    "#dice logic\n",
    "rolls=[random.randrange(1,7)for i in range(60000)]\n",
    "values,frequencies = np.unique(rolls,return_counts=True)\n",
    "\n",
    "#graph\n",
    "title = f'Rolling a Six-sided Die {len(rolls):,} Times'\n",
    "sns.set_style('whitegrid')\n",
    "axes = sns.barplot(x =values,y=frequencies,palette='bright')\n",
    "axes.set_title(title)\n",
    "axes.set(xlabel='Die Value',ylabel='Frequency')#text inserted on the axes\n",
    "axes.set_ylim(top=max(frequencies)* 1.10)#setting the limit of the Y axe,10% larger of the actual value\n",
    "\n",
    "for bar, frequency in zip(axes.patches,frequencies):\n",
    "    text_x = bar.get_x() + bar.get_width() / 2.0\n",
    "    text_y= bar.get_height()\n",
    "    text = f'{frequency:,}\\n{frequency / len(rolls):.3%}'\n",
    "    axes.text(text_x,text_y,text,fontsize=11, ha='center',va='bottom')#ha means horizontal alignment and va means vertical alignment"
   ]
  },
  {
   "cell_type": "code",
   "execution_count": null,
   "id": "98710db7-adae-467c-82b7-1a2192e99abf",
   "metadata": {},
   "outputs": [],
   "source": [
    "%save temp.py 15-57 #save and generate a file with the snippets"
   ]
  },
  {
   "cell_type": "code",
   "execution_count": null,
   "id": "02c4af76-6d69-462d-a0fc-a9050f7b30e0",
   "metadata": {},
   "outputs": [],
   "source": [
    "#Dynamic Visualization\n",
    "#Static visualizations displayed after simulation completes\n",
    "#Matplotlib FuncAnimation updates visualization dynamically\n",
    "#FuncAnimation drives a frame by frama naimation, each animation frame species everything to change during one update, stringing these together produces the animmation effect\n",
    "\n",
    "'Each frame will'\n",
    "roll the dice a specified nubmer of times\n",
    "clear the current visualization\n",
    "create a new visualization with the update die frequencies\n",
    "\n",
    "'more frames = more smooth animation'\n",
    "\n",
    "'amount of work in eachr frame can affect animation speed'\n",
    "\n",
    "example. 30(1000/33)fps"
   ]
  },
  {
   "cell_type": "code",
   "execution_count": null,
   "id": "1564d327-e8fb-4561-ae70-09928926cb30",
   "metadata": {},
   "outputs": [],
   "source": [
    "#Dinammycally graphing frequencies of die rolls\n",
    "\n",
    "from matplotlib import animation\n",
    "import matplotlib.pyplot as plt\n",
    "import random\n",
    "import seaborn as sns\n",
    "import sys \n",
    "\n",
    "#contains a list that represents the strings of inform that will pass into the application as command line arguments\n",
    "\n",
    "\n",
    "def update(frame_number,rolls,faces,frequencies):\n",
    "    \"\"\"Configures bar plot contents for each animation frame\"\"\"\n",
    "    #roll die and update frequencies\n",
    "    for i in range(rolls):\n",
    "        frequencies[random.randrange(1,7)-1] += 1\n",
    "        \n",
    "    #reconfigure plot for updated die frequencies\n",
    "    plt.cla()#clear old contents for current figure\n",
    "    axes = sns.barplot(faces,frequencies,palette='bright')#new bars\n",
    "    axes.set_title(f'Die Frequencies for {sum(frequencies):,}Rolls')\n",
    "    axes.set(xlabel='Die Value',ylabel='Frequency')\n",
    "    axes.set_ylim(top=max(frequencies)*1.10)#scale y-axis by 10%\n",
    "    \n",
    "    #display frequency & percentage above each patch(bar)\n",
    "    for bar, frequency in zip(axes.patches, frequencies):\n",
    "        text_x = bar.get_x() + bar.get_width() / 2.0\n",
    "        text_y =bar.get_height()\n",
    "        text = f'{frequency:,}\\n{frequency / sum(frequencies):.3%}'\n",
    "        axes.text(text_x,text_y,text,ha='center',va='bottom')\n",
    "\n",
    "        \n",
    "# read command-line arguments for number of frames and rolls per frame\n",
    "number_of_frames = int(sys.argv[1])\n",
    "rolls_per_frame = int(sys.argv[2])\n",
    "\n",
    "sns.set_style('whitegrid')#white background with gray grid lines\n",
    "figure = plt.figure('Rolling a Six-Sided Die')#figure for animation\n",
    "values = list(range(1,7))#die faces for display on x-axis\n",
    "frequencies = [0] * 6\n",
    "\n",
    "\n",
    "\n",
    "#configure and start animation that calls function udpate\n",
    "\n",
    "die_animation = animation.FuncAnimation(figure,update,repeat=False,frames=number_of_frames,interval=165,fargs=(rolls_per_frame,values,frequencies))\n",
    "plt.show()"
   ]
  },
  {
   "cell_type": "code",
   "execution_count": null,
   "id": "94af8611-5934-448f-9c3a-6e56bb0692e3",
   "metadata": {},
   "outputs": [],
   "source": [
    "import csv\n",
    "csvfile = open('reviews.csv','r',encoding=\"latin-1\")#file handle\n",
    "\n",
    "reader = csv.reader(csvfile)\n",
    "next(reader)"
   ]
  },
  {
   "cell_type": "code",
   "execution_count": null,
   "id": "d9b62b8b-5bba-402c-a7a6-088a2aa15c3c",
   "metadata": {},
   "outputs": [],
   "source": [
    "with open('reviews.csv',encoding=\"latin-1\")as file_object:\n",
    "    contents = file_object.read()\n",
    "    print(contents)"
   ]
  },
  {
   "cell_type": "code",
   "execution_count": null,
   "id": "fca6a252-b27e-419e-aa11-2d8119737aee",
   "metadata": {},
   "outputs": [],
   "source": [
    "rows = 0\n",
    "for now in reader:\n",
    "    rows += 1"
   ]
  },
  {
   "cell_type": "code",
   "execution_count": null,
   "id": "9a11f256-ff4e-4f23-92a3-98e385a8eb2b",
   "metadata": {},
   "outputs": [],
   "source": [
    "rows"
   ]
  },
  {
   "cell_type": "code",
   "execution_count": null,
   "id": "7abaf1ba-925e-4dea-ad94-ef92314bd70d",
   "metadata": {},
   "outputs": [],
   "source": [
    "headers = next(reader)"
   ]
  },
  {
   "cell_type": "code",
   "execution_count": null,
   "id": "d081fcfd-3b3a-45fe-b226-45e28d0f615e",
   "metadata": {},
   "outputs": [],
   "source": [
    "records = list(reader)"
   ]
  },
  {
   "cell_type": "code",
   "execution_count": null,
   "id": "cd9916d0-47b7-4b85-80d5-177df4a3b54c",
   "metadata": {},
   "outputs": [],
   "source": [
    "records[0]"
   ]
  },
  {
   "cell_type": "code",
   "execution_count": null,
   "id": "3bd53bef-4a5d-47a3-931a-c49b2b560577",
   "metadata": {},
   "outputs": [],
   "source": [
    "for row in records:\n",
    "    pass"
   ]
  },
  {
   "cell_type": "code",
   "execution_count": null,
   "id": "5b980180-a2c0-4687-987f-d91a51713c6b",
   "metadata": {},
   "outputs": [],
   "source": [
    "len(records)"
   ]
  },
  {
   "cell_type": "code",
   "execution_count": null,
   "id": "14f73557-73a1-42d7-9524-b17116ff6c02",
   "metadata": {},
   "outputs": [],
   "source": [
    "headers"
   ]
  },
  {
   "cell_type": "code",
   "execution_count": null,
   "id": "0980fc3e-2cab-4638-bc91-3f2ed8dde954",
   "metadata": {},
   "outputs": [],
   "source": [
    "zip(headers,records[0])"
   ]
  },
  {
   "cell_type": "code",
   "execution_count": null,
   "id": "06f9cefc-d87d-4c28-ba7e-b8609c67d40d",
   "metadata": {},
   "outputs": [],
   "source": [
    "list(zip(headers,records[0]))"
   ]
  },
  {
   "attachments": {
    "21978323-c1b4-43f6-89c1-3b87895775d3.png": {
     "image/png": "[encoded data removed]"
    }
   },
   "cell_type": "markdown",
   "id": "6feca704-5830-401b-81d2-6c6d16d416a1",
   "metadata": {},
   "source": [
    "![image.png](attachment:21978323-c1b4-43f6-89c1-3b87895775d3.png)"
   ]
  },
  {
   "cell_type": "code",
   "execution_count": null,
   "id": "38566cad-a72c-41b1-a863-77f27ac8d82f",
   "metadata": {},
   "outputs": [],
   "source": []
  },
  {
   "cell_type": "code",
   "execution_count": null,
   "id": "11ce4315-baf5-4675-95d6-05f51d1779d6",
   "metadata": {},
   "outputs": [],
   "source": [
    "#Data science,examples of datasets\n",
    "\n",
    "import pandas as pd\n",
    "df = pd.read_csv(\"https://raw.githubusercontent.com/noahgift/food/master/data/features.en.openfoodfacts.org.products.csv\")\n",
    "df.drop([\"Unnamed: 0\",\"exceeded\",\"g_sum\",\"energy_100g\"],axis=1,inplace=True)\n",
    "df.rename(index=str,columns={\"reconstructed_energy\":\"energy_100g\"},inplace=True)\n",
    "df.head()"
   ]
  },
  {
   "cell_type": "code",
   "execution_count": null,
   "id": "811bfb18-628d-4bd9-ac35-a55e4ceec926",
   "metadata": {},
   "outputs": [],
   "source": [
    "!pip install plotly"
   ]
  },
  {
   "cell_type": "code",
   "execution_count": null,
   "id": "6b1418e5-d6c3-49cc-8547-5027c758725a",
   "metadata": {},
   "outputs": [],
   "source": [
    "import plotly.offline as py\n",
    "import plotly.graph_objs as go\n",
    "from plotly.offline import init_notebook_mode\n",
    "\n",
    "\n",
    "def enable_plotly_in_cell():\n",
    "    import IPython\n",
    "    from plotly.offline import init_notebook_mode\n",
    "    display(IPython.core.display.HTML('''<script src=\"/static/components/requirejs/require.js\"></script>'''))\n",
    "    init_notebook_mode(connected=False)\n",
    "    \n",
    "enable_plotly_in_cell\n",
    "\n",
    "tracel = go.Scatter3d(\n",
    "x=df[\"fat_100g\"],\n",
    "y=df[\"carbohydrates_100g\"],\n",
    "z=df[\"proteins_100g\"],\n",
    "mode='markers',\n",
    "text=df[\"product\"],\n",
    "marker=dict(\n",
    "    size=12,color=df['scatter'],\n",
    "    colorscale='Viridis',\n",
    "    opacity=0.8\n",
    "               )\n",
    ")\n",
    "data=[tracel]\n",
    "layout = go.Layout(showlegend=False,title=\"Protein-Fat-Carb: Food Energy Types\",scene=dict(xaxis = dict(title='X: Fat Content-100g'),\n",
    "                                                                                           yaxis = dict(title='Y:Carbohydrate Content-100g'),\n",
    "                                                                                           zaxis = dict(title=\"Z: Protein Content-100g\"),\n",
    "                  ),\n",
    "width=1000,\n",
    "height=900,\n",
    "                  )\n",
    "fig = go.Figure(data=data,layout=layout)\n",
    "py.iplot(fig,filename='3d-scatter-colorscale')"
   ]
  },
  {
   "cell_type": "markdown",
   "id": "d59653f1",
   "metadata": {},
   "source": [
    "## INTRODUCTION TO PANDAS"
   ]
  },
  {
   "cell_type": "code",
   "execution_count": null,
   "id": "e7cd0a70-42ac-450d-9593-655aabbb1be8",
   "metadata": {},
   "outputs": [],
   "source": [
    "import pandas as pd\n",
    "import numpy as np\n",
    "\n",
    "#Series are 1-dimensional set of data\n",
    "grades = pd.Series([85,100,95])\n",
    "grades"
   ]
  },
  {
   "cell_type": "code",
   "execution_count": null,
   "id": "4c50fffa",
   "metadata": {},
   "outputs": [],
   "source": [
    "carbrands = pd.Series(['BMW','Porsche','Mercedes','Audi'])\n",
    "carbrands"
   ]
  },
  {
   "cell_type": "code",
   "execution_count": null,
   "id": "b3e2b6a5",
   "metadata": {},
   "outputs": [],
   "source": [
    "colors = pd.Series(['red','blue','green','purple'])"
   ]
  },
  {
   "cell_type": "code",
   "execution_count": null,
   "id": "70140514",
   "metadata": {},
   "outputs": [],
   "source": [
    "#dataframes are 2 dimensional data types\n",
    "\n",
    "cardata = pd.DataFrame({\"Manufacturer\":carbrands,'colors':colors})\n",
    "cardata"
   ]
  },
  {
   "cell_type": "code",
   "execution_count": null,
   "id": "ffe5f9b2",
   "metadata": {},
   "outputs": [],
   "source": [
    "!dir"
   ]
  },
  {
   "cell_type": "code",
   "execution_count": null,
   "id": "e1b8cce5",
   "metadata": {},
   "outputs": [],
   "source": [
    "teste = pd.read_excel('teste.xlsb')\n",
    "teste"
   ]
  },
  {
   "cell_type": "code",
   "execution_count": null,
   "id": "89edef6f",
   "metadata": {},
   "outputs": [],
   "source": [
    "!pip install pyxlsb"
   ]
  },
  {
   "cell_type": "code",
   "execution_count": null,
   "id": "84cfcb97",
   "metadata": {},
   "outputs": [],
   "source": [
    "teste = pd.read_excel('teste.xlsb')\n",
    "teste"
   ]
  },
  {
   "cell_type": "code",
   "execution_count": null,
   "id": "72619864",
   "metadata": {},
   "outputs": [],
   "source": [
    "car_sales = pd.read_csv('car-sales.csv')\n",
    "car_sales\n",
    "#index number starts at 0 by default\n",
    "#row(axis=0)\n",
    "#column(axis=1)"
   ]
  },
  {
   "cell_type": "code",
   "execution_count": null,
   "id": "939893e6",
   "metadata": {},
   "outputs": [],
   "source": [
    "#Exporting a dataframe\n",
    "\n",
    "car_sales.to_csv(\"exported-car-sales.csv\",index=False) #index=False option removes the \"Unamed\" column from a csv file"
   ]
  },
  {
   "cell_type": "code",
   "execution_count": null,
   "id": "433f9e41",
   "metadata": {},
   "outputs": [],
   "source": [
    "exported_car_sales = pd.read_csv('exported-car-sales.csv')\n",
    "exported_car_sales"
   ]
  },
  {
   "cell_type": "code",
   "execution_count": null,
   "id": "d31fc269",
   "metadata": {},
   "outputs": [],
   "source": [
    "car_sales.dtypes"
   ]
  },
  {
   "cell_type": "code",
   "execution_count": null,
   "id": "9caf74c4",
   "metadata": {},
   "outputs": [],
   "source": [
    "car_sales.columns"
   ]
  },
  {
   "cell_type": "code",
   "execution_count": null,
   "id": "03ed4fe9",
   "metadata": {},
   "outputs": [],
   "source": [
    "car_sales.index"
   ]
  },
  {
   "cell_type": "code",
   "execution_count": null,
   "id": "418623d3",
   "metadata": {},
   "outputs": [],
   "source": [
    "car_sales.describe()"
   ]
  },
  {
   "cell_type": "code",
   "execution_count": null,
   "id": "97482a58",
   "metadata": {},
   "outputs": [],
   "source": [
    "car_sales.info()"
   ]
  },
  {
   "cell_type": "code",
   "execution_count": null,
   "id": "7fa6c16a",
   "metadata": {},
   "outputs": [],
   "source": [
    "car_sales[\"Colour\"]"
   ]
  },
  {
   "cell_type": "code",
   "execution_count": null,
   "id": "2de0d04c",
   "metadata": {},
   "outputs": [],
   "source": [
    "len(car_sales)"
   ]
  },
  {
   "cell_type": "code",
   "execution_count": null,
   "id": "3f17186f",
   "metadata": {},
   "outputs": [],
   "source": [
    "car_sales.head()"
   ]
  },
  {
   "cell_type": "code",
   "execution_count": null,
   "id": "7390f3c4",
   "metadata": {},
   "outputs": [],
   "source": [
    "car_sales.head(3)"
   ]
  },
  {
   "cell_type": "code",
   "execution_count": null,
   "id": "d60d76fd",
   "metadata": {},
   "outputs": [],
   "source": [
    "car_sales.tail()"
   ]
  },
  {
   "cell_type": "code",
   "execution_count": null,
   "id": "a08d3c6e",
   "metadata": {},
   "outputs": [],
   "source": [
    "car_sales.tail(3)"
   ]
  },
  {
   "cell_type": "code",
   "execution_count": null,
   "id": "c07cb2cb",
   "metadata": {},
   "outputs": [],
   "source": [
    "animais = pd.Series(['gato','cão','passaro','urso','cobra'],index=[0,3,9,8,3])\n",
    "animais"
   ]
  },
  {
   "cell_type": "code",
   "execution_count": null,
   "id": "aa158feb",
   "metadata": {},
   "outputs": [],
   "source": [
    "animais.loc[3]"
   ]
  },
  {
   "cell_type": "code",
   "execution_count": null,
   "id": "0d4b0fba",
   "metadata": {},
   "outputs": [],
   "source": [
    "car_sales.iloc[3] #refers to position"
   ]
  },
  {
   "cell_type": "code",
   "execution_count": null,
   "id": "d65f733e",
   "metadata": {},
   "outputs": [],
   "source": [
    "animais.loc[3] #refers to index"
   ]
  },
  {
   "cell_type": "code",
   "execution_count": null,
   "id": "a4069774",
   "metadata": {},
   "outputs": [],
   "source": [
    "car_sales[:3]"
   ]
  },
  {
   "cell_type": "code",
   "execution_count": null,
   "metadata": {},
   "outputs": [],
   "source": [
    "car_sales.Make"
   ]
  },
  {
   "cell_type": "code",
   "execution_count": null,
   "id": "9c584ce5",
   "metadata": {},
   "outputs": [],
   "source": [
    "car_sales['Make']"
   ]
  },
  {
   "cell_type": "code",
   "execution_count": null,
   "id": "16c45836",
   "metadata": {},
   "outputs": [],
   "source": [
    "car_sales[car_sales['Make'] == 'BMW']"
   ]
  },
  {
   "cell_type": "code",
   "execution_count": null,
   "id": "d4248a67",
   "metadata": {},
   "outputs": [],
   "source": []
  },
  {
   "cell_type": "code",
   "execution_count": null,
   "id": "f822146c",
   "metadata": {},
   "outputs": [],
   "source": []
  },
  {
   "cell_type": "code",
   "execution_count": null,
   "id": "4c804983-e2a7-4c70-9c38-076f17171ad3",
   "metadata": {},
   "outputs": [],
   "source": [
    "pd.Series(65.0,range(3))"
   ]
  },
  {
   "cell_type": "code",
   "execution_count": null,
   "id": "6f01d7fc-d89c-41a2-b739-be9e540483e0",
   "metadata": {},
   "outputs": [],
   "source": [
    "grades[0]"
   ]
  },
  {
   "cell_type": "code",
   "execution_count": null,
   "id": "f48de933-fe48-4a7e-b51e-504a06615ab9",
   "metadata": {},
   "outputs": [],
   "source": [
    "grades.count()"
   ]
  },
  {
   "cell_type": "code",
   "execution_count": null,
   "id": "36ce166b-2aa1-4510-968a-c79db635e2d5",
   "metadata": {},
   "outputs": [],
   "source": [
    "grades.mean()"
   ]
  },
  {
   "cell_type": "code",
   "execution_count": null,
   "id": "48db5448-0311-43fa-b499-2d29b80d2348",
   "metadata": {},
   "outputs": [],
   "source": [
    "grades.min()"
   ]
  },
  {
   "cell_type": "code",
   "execution_count": null,
   "id": "da9ee84e-b601-4d40-8611-ee78730baf01",
   "metadata": {},
   "outputs": [],
   "source": [
    "grades.max()"
   ]
  },
  {
   "cell_type": "code",
   "execution_count": null,
   "id": "a33b68a1-23b6-4582-b37d-53366effbfe4",
   "metadata": {},
   "outputs": [],
   "source": [
    "grades.std()"
   ]
  },
  {
   "cell_type": "code",
   "execution_count": null,
   "id": "8f3a72e3-6e03-40bc-9d9b-eae1ba6005cb",
   "metadata": {},
   "outputs": [],
   "source": [
    "grades.describe()"
   ]
  },
  {
   "cell_type": "code",
   "execution_count": null,
   "id": "350e80b4-1d99-4df0-ad4d-934f8d23b23b",
   "metadata": {},
   "outputs": [],
   "source": [
    "grades.median()"
   ]
  },
  {
   "cell_type": "code",
   "execution_count": null,
   "id": "ec860917-500b-46cd-a3bc-d8299df27928",
   "metadata": {},
   "outputs": [],
   "source": [
    "grades = pd.Series([54,56,98],index = ['casa','satan','xereca'])\n",
    "g"
   ]
  },
  {
   "cell_type": "code",
   "execution_count": null,
   "id": "13bef065-9544-4c5a-ac04-e1126169cb11",
   "metadata": {},
   "outputs": [],
   "source": [
    "grades = pd.Series({'casa':50,'satan':50,'xereca':50})\n",
    "grades"
   ]
  },
  {
   "cell_type": "code",
   "execution_count": null,
   "id": "75273a41-8abb-4e05-93b2-7c1b037e9aba",
   "metadata": {},
   "outputs": [],
   "source": [
    "grades['casa']"
   ]
  },
  {
   "cell_type": "code",
   "execution_count": null,
   "id": "a9ac1140-0c95-4837-a015-4ce9e24f6bd3",
   "metadata": {},
   "outputs": [],
   "source": [
    "grades.casa"
   ]
  },
  {
   "cell_type": "code",
   "execution_count": null,
   "id": "7938ffe5-30bc-4cd6-8276-01318d9d4f30",
   "metadata": {},
   "outputs": [],
   "source": [
    "grades.dtype"
   ]
  },
  {
   "cell_type": "code",
   "execution_count": null,
   "id": "613beff2-dc8c-4d72-8b2c-f2bde036bd24",
   "metadata": {},
   "outputs": [],
   "source": [
    "hardware = pd.Series(['hammer','saw','wrench'])\n",
    "hardware"
   ]
  },
  {
   "cell_type": "code",
   "execution_count": null,
   "id": "ee9a9409-c4db-418a-825e-e0d2fef6e889",
   "metadata": {},
   "outputs": [],
   "source": [
    "hardware.str.contains('a') #boolean search"
   ]
  },
  {
   "cell_type": "code",
   "execution_count": null,
   "id": "9dec0821-b100-4a3b-8534-47ec1435ad74",
   "metadata": {},
   "outputs": [],
   "source": [
    "hardware.str.upper()"
   ]
  },
  {
   "cell_type": "code",
   "execution_count": null,
   "id": "218d9803-b649-428a-9294-f798053db300",
   "metadata": {},
   "outputs": [],
   "source": [
    "hardware"
   ]
  },
  {
   "cell_type": "code",
   "execution_count": null,
   "id": "f6ace1df-e5f3-4367-8fbd-d8387af1f805",
   "metadata": {},
   "outputs": [],
   "source": [
    "temps = np.random.randint(60,101,5)\n",
    "temps"
   ]
  },
  {
   "cell_type": "code",
   "execution_count": null,
   "id": "be577bff-addb-4d18-8fb9-5e3c3c4f0379",
   "metadata": {},
   "outputs": [],
   "source": [
    "temperatures = pd.Series(temps)\n",
    "temperatures"
   ]
  },
  {
   "cell_type": "code",
   "execution_count": null,
   "id": "d2345df1-a1c6-4e58-8722-10b775e7fe58",
   "metadata": {},
   "outputs": [],
   "source": [
    "temperatures.min()"
   ]
  },
  {
   "cell_type": "code",
   "execution_count": null,
   "id": "80f54d57-4678-4693-8ad6-ff84dca80894",
   "metadata": {},
   "outputs": [],
   "source": [
    "temperatures.max()"
   ]
  },
  {
   "cell_type": "code",
   "execution_count": null,
   "id": "bb7544e0-390c-4eaa-954d-322a8e203051",
   "metadata": {},
   "outputs": [],
   "source": [
    "temperatures.mean()"
   ]
  },
  {
   "cell_type": "code",
   "execution_count": null,
   "id": "a0ac242f-1324-4c55-81b8-65e2198f7735",
   "metadata": {},
   "outputs": [],
   "source": [
    "temperatures.describe()"
   ]
  },
  {
   "cell_type": "code",
   "execution_count": null,
   "id": "ee7b2ac3-3ff6-4d5e-99ab-1032963f478c",
   "metadata": {},
   "outputs": [],
   "source": [
    "gradesdict = {'tromba':[54,668,321],'Eva':[42,453,48],'sam':[44,235,786],'katie':[87,21,221],'bob':[45,8995,77]}"
   ]
  },
  {
   "cell_type": "markdown",
   "id": "87ae3076",
   "metadata": {},
   "source": [
    "## Pandas DataFrames"
   ]
  },
  {
   "cell_type": "code",
   "execution_count": null,
   "id": "1e068cff-945a-4ec2-91b4-64692ffc4093",
   "metadata": {},
   "outputs": [],
   "source": [
    "#Pandas DataFrames\n",
    "\n",
    "grades = pd.DataFrame(gradesdict)\n",
    "grades"
   ]
  },
  {
   "cell_type": "code",
   "execution_count": null,
   "id": "1485f929-b9b0-45f6-b2db-57846e1aa7ef",
   "metadata": {},
   "outputs": [],
   "source": [
    "grades.index = ['test1','test2','test3']#corresponds to the rows in the data frame"
   ]
  },
  {
   "cell_type": "code",
   "execution_count": null,
   "id": "513a0794-37d0-4151-91f5-c1bba9991855",
   "metadata": {},
   "outputs": [],
   "source": [
    "grades"
   ]
  },
  {
   "cell_type": "code",
   "execution_count": null,
   "id": "4158a372-7165-43d5-9077-aae7b9a92cbd",
   "metadata": {},
   "outputs": [],
   "source": [
    "grades['Eva'] #accessing one specific column"
   ]
  },
  {
   "cell_type": "code",
   "execution_count": null,
   "id": "d57ca5be-b935-40e3-993d-967f1c342b4b",
   "metadata": {},
   "outputs": [],
   "source": [
    "grades.loc['test1'] #accessing rows"
   ]
  },
  {
   "cell_type": "code",
   "execution_count": null,
   "id": "1533694b-0c92-424b-b2b2-f0ec130089a4",
   "metadata": {},
   "outputs": [],
   "source": [
    "grades.loc['test2']"
   ]
  },
  {
   "cell_type": "code",
   "execution_count": null,
   "id": "c758b020-af61-4aff-a897-0cd1bd6fa975",
   "metadata": {},
   "outputs": [],
   "source": [
    "grades.loc['test3']"
   ]
  },
  {
   "cell_type": "code",
   "execution_count": null,
   "id": "c6e2ef0b-3feb-46c3-a376-d9ba9c264e8c",
   "metadata": {},
   "outputs": [],
   "source": [
    "grades.iloc[1] #index with a position number ,an integer"
   ]
  },
  {
   "cell_type": "code",
   "execution_count": null,
   "id": "78084482-add9-4e88-91d6-e73e21fc266f",
   "metadata": {},
   "outputs": [],
   "source": [
    "grades.loc['test1':'test3'] #slicing"
   ]
  },
  {
   "cell_type": "code",
   "execution_count": null,
   "id": "31d70d76-31b1-4717-838a-283c785b6481",
   "metadata": {},
   "outputs": [],
   "source": [
    "grades.loc[:'test3']"
   ]
  },
  {
   "cell_type": "code",
   "execution_count": null,
   "id": "20259cf3-f921-4b41-8c4f-6988e49ec52d",
   "metadata": {},
   "outputs": [],
   "source": [
    "grades.loc['test1':'test2']"
   ]
  },
  {
   "cell_type": "code",
   "execution_count": null,
   "id": "5e9a35fb-ed5e-4ef7-bfb8-fff9bc6a320c",
   "metadata": {},
   "outputs": [],
   "source": [
    "grades.iloc[0:2]"
   ]
  },
  {
   "cell_type": "code",
   "execution_count": null,
   "id": "7c8e1d92-50e6-4803-93d6-2421d7d6ad4a",
   "metadata": {},
   "outputs": [],
   "source": [
    "grades.iloc[0:2]"
   ]
  },
  {
   "cell_type": "code",
   "execution_count": null,
   "id": "9f4c6f78-2896-46c3-bb8e-dfe69afd82db",
   "metadata": {},
   "outputs": [],
   "source": [
    "grades.iloc[[0,1]]"
   ]
  },
  {
   "cell_type": "code",
   "execution_count": null,
   "id": "ea541cad-fb8c-45ef-8945-7fb3090c72fb",
   "metadata": {},
   "outputs": [],
   "source": [
    "grades.loc[['test1','test2']]"
   ]
  },
  {
   "cell_type": "code",
   "execution_count": null,
   "id": "b1d27e02-6a25-4e7a-b206-6736a4f8b1b8",
   "metadata": {},
   "outputs": [],
   "source": [
    "grades.loc['test1':'test2',['Eva','katie']]"
   ]
  },
  {
   "cell_type": "code",
   "execution_count": null,
   "id": "21ff1567",
   "metadata": {},
   "outputs": [],
   "source": [
    "grades.iloc[[0,1],0:3]"
   ]
  },
  {
   "cell_type": "code",
   "execution_count": null,
   "id": "a34d933c",
   "metadata": {},
   "outputs": [],
   "source": [
    "#boolean  indexing\n",
    "#NaN means not a number\n",
    "\n",
    "grades[(grades>=40) & (grades < 100)]"
   ]
  },
  {
   "cell_type": "code",
   "execution_count": null,
   "id": "7585af7f",
   "metadata": {},
   "outputs": [],
   "source": [
    "grades[(grades>=40)]"
   ]
  },
  {
   "cell_type": "code",
   "execution_count": null,
   "id": "03295af5",
   "metadata": {},
   "outputs": [],
   "source": [
    "grades[(grades <=100)]"
   ]
  },
  {
   "cell_type": "code",
   "execution_count": null,
   "id": "aa1577a1",
   "metadata": {},
   "outputs": [],
   "source": [
    "grades.at['test1','Eva'] #searching a specific value"
   ]
  },
  {
   "cell_type": "code",
   "execution_count": null,
   "id": "414e45fa",
   "metadata": {},
   "outputs": [],
   "source": [
    "grades.iat[2,0]"
   ]
  },
  {
   "cell_type": "code",
   "execution_count": null,
   "id": "e5d40caf",
   "metadata": {},
   "outputs": [],
   "source": [
    "grades.at['test1','Eva'] = 100 #replacing values,must be separated by commas\n",
    "grades"
   ]
  },
  {
   "cell_type": "code",
   "execution_count": null,
   "id": "e7bb9005",
   "metadata": {},
   "outputs": [],
   "source": [
    "grades.iat[1,1] = 100\n",
    "grades"
   ]
  },
  {
   "cell_type": "code",
   "execution_count": null,
   "id": "f0b68897",
   "metadata": {},
   "outputs": [],
   "source": [
    "grades.iat[1,1] #always needs to be a numeric value"
   ]
  },
  {
   "cell_type": "code",
   "execution_count": null,
   "id": "81803b8b",
   "metadata": {},
   "outputs": [],
   "source": [
    "grades"
   ]
  },
  {
   "cell_type": "code",
   "execution_count": null,
   "id": "91235999",
   "metadata": {},
   "outputs": [],
   "source": [
    "grades.describe()  #column by column basis"
   ]
  },
  {
   "cell_type": "code",
   "execution_count": null,
   "id": "e63aead0",
   "metadata": {},
   "outputs": [],
   "source": [
    "import pandas as pd\n",
    "pd.set_option('precision',2) #setting option  for precision"
   ]
  },
  {
   "cell_type": "code",
   "execution_count": null,
   "id": "5f468c58",
   "metadata": {},
   "outputs": [],
   "source": [
    "grades.mean()"
   ]
  },
  {
   "cell_type": "code",
   "execution_count": null,
   "id": "bbabc01a",
   "metadata": {},
   "outputs": [],
   "source": [
    "grades.T"
   ]
  },
  {
   "cell_type": "code",
   "execution_count": null,
   "id": "1007d595",
   "metadata": {},
   "outputs": [],
   "source": [
    "grades.T.describe()"
   ]
  },
  {
   "cell_type": "code",
   "execution_count": null,
   "id": "86ed8cb8",
   "metadata": {},
   "outputs": [],
   "source": [
    "grades.T.mean()"
   ]
  },
  {
   "cell_type": "code",
   "execution_count": null,
   "id": "8b62daec",
   "metadata": {},
   "outputs": [],
   "source": [
    "grades.sort_index(ascending=True)"
   ]
  },
  {
   "cell_type": "code",
   "execution_count": null,
   "id": "2df0b8e4",
   "metadata": {},
   "outputs": [],
   "source": [
    "grades.sort_index(axis=1) #column"
   ]
  },
  {
   "cell_type": "code",
   "execution_count": null,
   "id": "b3752399",
   "metadata": {},
   "outputs": [],
   "source": [
    "grades"
   ]
  },
  {
   "cell_type": "code",
   "execution_count": null,
   "id": "a11c5511",
   "metadata": {},
   "outputs": [],
   "source": [
    "grades.sort_values(by='test1',axis=1,ascending=False)"
   ]
  },
  {
   "cell_type": "code",
   "execution_count": null,
   "id": "d5257630",
   "metadata": {},
   "outputs": [],
   "source": [
    "grades.sort_values(by='test2',axis=1,ascending=True)"
   ]
  },
  {
   "cell_type": "code",
   "execution_count": null,
   "id": "6cfd5954",
   "metadata": {},
   "outputs": [],
   "source": [
    "grades.sort_values(by='test3',axis=1,ascending=False)"
   ]
  },
  {
   "cell_type": "code",
   "execution_count": null,
   "id": "9f4abd68",
   "metadata": {},
   "outputs": [],
   "source": [
    "grades.T.sort_values(by='test1',ascending=False)"
   ]
  },
  {
   "cell_type": "code",
   "execution_count": null,
   "id": "fbb2bd82",
   "metadata": {},
   "outputs": [],
   "source": [
    "grades.loc['test1'].sort_values(ascending=False)"
   ]
  },
  {
   "cell_type": "code",
   "execution_count": null,
   "id": "24c9246a-3662-4f3b-ad1d-e82471d34600",
   "metadata": {
    "scrolled": true
   },
   "outputs": [],
   "source": [
    "grades.loc['test2'].sort_values(ascending=False)"
   ]
  },
  {
   "cell_type": "code",
   "execution_count": null,
   "id": "74836492-ef86-4611-bb76-c71dd3de3db8",
   "metadata": {
    "scrolled": true
   },
   "outputs": [],
   "source": [
    "grades.loc['test3'].sort_values(ascending=False)"
   ]
  },
  {
   "cell_type": "code",
   "execution_count": null,
   "id": "1fc35523",
   "metadata": {},
   "outputs": [],
   "source": [
    "grades.sort_values(by='test3',axis=1,ascending=False,inplace=True)\n",
    "grades"
   ]
  },
  {
   "cell_type": "code",
   "execution_count": null,
   "id": "40fe5e5a",
   "metadata": {},
   "outputs": [],
   "source": [
    "temps = {'Mon':[20,30],'Tue':[42,23],'Wed':[44,20],'Thu':[10,1],'Fri':[0,-1]}"
   ]
  },
  {
   "cell_type": "code",
   "execution_count": null,
   "id": "93c35160",
   "metadata": {},
   "outputs": [],
   "source": [
    "temperatures = pd.DataFrame(temps,index=['Low','High'])\n",
    "temperatures"
   ]
  },
  {
   "cell_type": "code",
   "execution_count": null,
   "id": "125505a0",
   "metadata": {},
   "outputs": [],
   "source": [
    "temperatures.loc[:,'Mon':'Wed']"
   ]
  },
  {
   "cell_type": "code",
   "execution_count": null,
   "id": "85d74954",
   "metadata": {},
   "outputs": [],
   "source": [
    "temperatures.loc['Low']"
   ]
  },
  {
   "cell_type": "code",
   "execution_count": null,
   "id": "907d4f37",
   "metadata": {},
   "outputs": [],
   "source": [
    "temperatures.loc['High']"
   ]
  },
  {
   "cell_type": "code",
   "execution_count": null,
   "id": "3fddfb9b",
   "metadata": {},
   "outputs": [],
   "source": [
    "temperatures.mean()"
   ]
  },
  {
   "cell_type": "code",
   "execution_count": null,
   "id": "6767c72b",
   "metadata": {},
   "outputs": [],
   "source": [
    "temperatures.max()"
   ]
  },
  {
   "cell_type": "code",
   "execution_count": null,
   "id": "7f0c4831",
   "metadata": {},
   "outputs": [],
   "source": [
    "temperatures.median()"
   ]
  },
  {
   "cell_type": "code",
   "execution_count": null,
   "id": "0816fb1b",
   "metadata": {},
   "outputs": [],
   "source": [
    "temperatures.min()"
   ]
  },
  {
   "cell_type": "code",
   "execution_count": null,
   "id": "3db543d7",
   "metadata": {},
   "outputs": [],
   "source": [
    "temperatures.mean(axis=1)"
   ]
  },
  {
   "cell_type": "markdown",
   "id": "9c5485ee",
   "metadata": {},
   "source": [
    "## Numpy Non-GPU Mandelbrot"
   ]
  },
  {
   "cell_type": "code",
   "execution_count": null,
   "id": "5dbca79d",
   "metadata": {},
   "outputs": [],
   "source": [
    "import numpy as np\n",
    "from pylab import imshow,show\n",
    "from timeit import default_timer as timer\n",
    "\n",
    "def mandel(x,y,max_iters):\n",
    "    \"\"\"Given the real and imaginary parts of a complex number,determine if it is a candidate for membership in the Mandelbrot set given a fixed number of iterarations\"\"\"\n",
    "\n",
    "    c = complex(x,y)\n",
    "    z = 0.0j\n",
    "    for i in range(max_iters):\n",
    "        z = z*z + c\n",
    "        if(z.real*z.real + z.imag*z.imag) >= 4:\n",
    "            return i\n",
    "    return max_iters\n",
    "\n",
    "def create_fractal(min_x,max_x,min_y,max_y,image,iters):\n",
    "    height= image.shape[0]\n",
    "    width = image.shape[1]\n",
    "\n",
    "    pixel_size_x = (max_x - min_x) / width   \n",
    "    pixel_size_y = (max_y - min_y) / height\n",
    "\n",
    "    for x in range(width):\n",
    "        real = min_x + x * pixel_size_x\n",
    "        for y in range(height):\n",
    "            imag = min_y + pixel_size_y\n",
    "            color = mandel(real,imag,iters)\n",
    "            image[y,x] = color  \n",
    "\n",
    "image = np.zeros((1024,1536),dtype = np.uint8)\n",
    "start = timer()\n",
    "create_fractal(-2.0,1.0,-1.0,1.0,image,20)\n",
    "dt = timer() - start\n",
    "\n",
    "print(\"Mandelbrot created in %f s\" %dt)\n",
    "imshow(image)\n",
    "show()"
   ]
  },
  {
   "cell_type": "code",
   "execution_count": null,
   "id": "ffd93948",
   "metadata": {},
   "outputs": [],
   "source": [
    "import numpy as np\n",
    "from numba import jit\n",
    "from timeit import default_timer as timer\n",
    "\n",
    "@jit\n",
    "def mandel(x,y,max_iters):\n",
    "    \"\"\"Given the real and imaginary parts of a complex number,determine if it is a candidate for membership in the Mandelbrot set given a fixed number of iterarations\"\"\"\n",
    "\n",
    "    c = complex(x,y)\n",
    "    z = 0.0j\n",
    "    for i in range(max_iters):\n",
    "        z = z*z + c\n",
    "        if(z.real*z.real + z.imag*z.imag) >= 4:\n",
    "            return i\n",
    "    return max_iters\n",
    "\n",
    "@jit\n",
    "def create_fractal(min_x,max_x,min_y,max_y,image,iters):\n",
    "    height= image.shape[0]\n",
    "    width = image.shape[1]\n",
    "\n",
    "    pixel_size_x = (max_x - min_x) / width   \n",
    "    pixel_size_y = (max_y - min_y) / height\n",
    "\n",
    "    for x in range(width):\n",
    "        real = min_x + x * pixel_size_x\n",
    "        for y in range(height):\n",
    "            imag = min_y + pixel_size_y\n",
    "            color = mandel(real,imag,iters)\n",
    "            image[y,x] = color \n",
    "\n",
    "image = np.zeros((1024,1536),dtype = np.uint8)\n",
    "start = timer()\n",
    "create_fractal(-2.0,1.0,-1.0,1.0,image,20)\n",
    "dt = timer() - start\n",
    "\n",
    "print(\"Mandelbrot created in %f s\" %dt)\n",
    "imshow(image)\n",
    "show()"
   ]
  },
  {
   "cell_type": "code",
   "execution_count": null,
   "id": "9626377e",
   "metadata": {},
   "outputs": [],
   "source": [
    "from numba import cuda\n",
    "from numba import *\n",
    "\n",
    "mandel_gpu = cuda.jit(restype=uint32,argtypes=[f8,f8,uint32],device=True)(mandel)\n",
    "\n",
    "@cuda.jit(argtypes=[f8,f8,f8,f8,uint8[::],uint32])\n",
    "def mandel_kernel(min_x,max_x,min_y,max_y,image,iters):\n",
    "    height= image.shape[0]\n",
    "    width = image.shape[1]\n",
    "    pixel_size_x = (max_x - min_x) / width   \n",
    "    pixel_size_y = (max_y - min_y) / height\n",
    "\n",
    "    startX,startY = cuda.grid(2)\n",
    "    gridX = cuda.gridDim.x * cuda.blockDim.x; \n",
    "    gridY = cuda.gridDim.y * cuda.blockDim.y;\n",
    "\n",
    "    for x in range(startX,width,gridX):\n",
    "        real = min_x + x * pixel_size_x\n",
    "        for y in range(startY,height,gridY):\n",
    "            imag = min_y + y * pixel_size_y\n",
    "            image[y,x] = mandel_gpu(real,imag,iters)\n",
    "\n",
    "image = np.zeros((1024,1536),dtype = np.uint8)\n",
    "start = timer()\n",
    "create_fractal(-2.0,1.0,-1.0,1.0,image,20)\n",
    "dt = timer() - start\n",
    "\n",
    "print(\"Mandelbrot created in %f s\" %dt)\n",
    "imshow(image)\n",
    "show()            \n",
    "        "
   ]
  },
  {
   "cell_type": "markdown",
   "id": "0f8ec047",
   "metadata": {},
   "source": [
    "## NUMPY"
   ]
  },
  {
   "cell_type": "code",
   "execution_count": null,
   "id": "5a777a7e",
   "metadata": {},
   "outputs": [],
   "source": []
  },
  {
   "cell_type": "code",
   "execution_count": null,
   "id": "39c02435-2a57-4c1b-9bcb-ffc37f4fd046",
   "metadata": {},
   "outputs": [],
   "source": [
    ">>>>>>>>>>>>>>NUMPY<<<<<<<<<<<<<\n",
    "\n",
    "#Arrays in numpy\n",
    "import numpy as np\n",
    "nu = np.array([2,4,5,6,4,8])\n",
    "type(nu)"
   ]
  },
  {
   "cell_type": "code",
   "execution_count": null,
   "id": "67479f70-5cc9-47b4-a0ab-c200402dbd08",
   "metadata": {},
   "outputs": [],
   "source": [
    "nu"
   ]
  },
  {
   "cell_type": "code",
   "execution_count": null,
   "id": "a5c78662-a91b-4f6d-8677-c5b7134372c1",
   "metadata": {},
   "outputs": [],
   "source": [
    "nu = ([[1,2,3,4],[5,6,7,8]])"
   ]
  },
  {
   "cell_type": "code",
   "execution_count": null,
   "id": "2e9819d7-093d-4e2d-b4ec-17c603ec2f70",
   "metadata": {},
   "outputs": [],
   "source": [
    "np.array([x for x in range(2,21,2)]) #list comprehension, one dimensional array"
   ]
  },
  {
   "cell_type": "code",
   "execution_count": null,
   "id": "c855b770-d309-4515-81fe-c7b56c94d229",
   "metadata": {},
   "outputs": [],
   "source": [
    "np.array([[2,4,6,8,10],[1,3,5,7,9]])"
   ]
  },
  {
   "cell_type": "code",
   "execution_count": null,
   "id": "34a78e81-4e65-4d55-96c1-3c6ae97e0aac",
   "metadata": {},
   "outputs": [],
   "source": [
    "integers = np.array([[1,2,3],[4,5,6]])\n",
    "integers"
   ]
  },
  {
   "cell_type": "code",
   "execution_count": null,
   "id": "1de077ee-ece0-4903-bdfc-19e1fc04d3b0",
   "metadata": {},
   "outputs": [],
   "source": [
    "floats = np.array([0.0,0.1,0.2,0.3,0.4])\n",
    "floats"
   ]
  },
  {
   "cell_type": "code",
   "execution_count": null,
   "id": "e8bb5026-6906-4156-871f-7c251ab350d3",
   "metadata": {},
   "outputs": [],
   "source": [
    "type(floats)"
   ]
  },
  {
   "cell_type": "code",
   "execution_count": null,
   "id": "3e4bcd85-c72e-4fd6-96c2-e75765a3f3e8",
   "metadata": {},
   "outputs": [],
   "source": [
    "integers.dtype"
   ]
  },
  {
   "cell_type": "code",
   "execution_count": null,
   "id": "e1ff8525-7c6f-402b-a801-740c690696b5",
   "metadata": {},
   "outputs": [],
   "source": [
    "floats.dtype #dtype"
   ]
  },
  {
   "cell_type": "code",
   "execution_count": null,
   "id": "5c34494e-c4c6-482a-a08c-96aaa9202c28",
   "metadata": {},
   "outputs": [],
   "source": [
    "integers.ndim  #dimensional size"
   ]
  },
  {
   "cell_type": "code",
   "execution_count": null,
   "id": "8e09107a-682a-461a-8fe2-ce404af5bd3b",
   "metadata": {},
   "outputs": [],
   "source": [
    "integers.shape #how many rows and columns"
   ]
  },
  {
   "cell_type": "code",
   "execution_count": null,
   "id": "479fb353-c936-4d75-8265-52a2e03d6af2",
   "metadata": {},
   "outputs": [],
   "source": [
    "floats.shape"
   ]
  },
  {
   "cell_type": "code",
   "execution_count": null,
   "id": "aeccbd17-bea9-41d6-9d12-46f0a5f4530a",
   "metadata": {},
   "outputs": [],
   "source": [
    "integers.size #size will show the multiplication by how many rows and columns"
   ]
  },
  {
   "cell_type": "code",
   "execution_count": null,
   "id": "8c7caba8-4ce5-4254-87dc-d393b0906a62",
   "metadata": {},
   "outputs": [],
   "source": [
    "integers.itemsize #how many bytes are stored"
   ]
  },
  {
   "cell_type": "code",
   "execution_count": null,
   "id": "145d8535-c289-4d19-aa0d-9a3ad18c2d17",
   "metadata": {},
   "outputs": [],
   "source": [
    "floats.size"
   ]
  },
  {
   "cell_type": "code",
   "execution_count": null,
   "id": "7f3534e0-7919-4781-a15e-bce25955f9cd",
   "metadata": {},
   "outputs": [],
   "source": [
    "floats.itemsize"
   ]
  },
  {
   "cell_type": "code",
   "execution_count": null,
   "id": "17afe236-33ca-4ea9-8fdb-c8faa872abd2",
   "metadata": {},
   "outputs": [],
   "source": [
    "#displaying the array\n",
    "\n",
    "for row in integers:\n",
    "    for column in row:\n",
    "        print(column,end=' ')\n",
    "    print()    "
   ]
  },
  {
   "cell_type": "code",
   "execution_count": null,
   "id": "788118d0-594b-4352-9a7a-ba65571d78d3",
   "metadata": {},
   "outputs": [],
   "source": [
    "#displaying the array as a flat line sequence\n",
    "for i in integers.flat:\n",
    "    print(i, end=' ')"
   ]
  },
  {
   "cell_type": "code",
   "execution_count": null,
   "id": "0c1a29fd-8762-4e98-a34e-b745f888400a",
   "metadata": {},
   "outputs": [],
   "source": [
    "x = np.array([[2,4,6,8,10],[1,3,5,7,9]])"
   ]
  },
  {
   "cell_type": "code",
   "execution_count": null,
   "id": "5a8a8c4f-dca9-4310-9f9a-bfbf3ffba218",
   "metadata": {},
   "outputs": [],
   "source": [
    "x.ndim"
   ]
  },
  {
   "cell_type": "code",
   "execution_count": null,
   "id": "10e81d67-71dd-4384-8873-16173d6f1fa1",
   "metadata": {},
   "outputs": [],
   "source": [
    "x.shape"
   ]
  },
  {
   "cell_type": "code",
   "execution_count": null,
   "id": "a4b51f51-37d0-4d53-a8f8-d8226ca41483",
   "metadata": {},
   "outputs": [],
   "source": [
    "np.zeros(5)"
   ]
  },
  {
   "cell_type": "code",
   "execution_count": null,
   "id": "ee75ab31-ef57-4ffb-ac75-82212f7e5291",
   "metadata": {},
   "outputs": [],
   "source": [
    "np.ones((2,4),dtype=int)"
   ]
  },
  {
   "cell_type": "code",
   "execution_count": null,
   "id": "cf52b781-e122-4358-8e2f-67695157fe70",
   "metadata": {},
   "outputs": [],
   "source": [
    "np.full((4,5),13)"
   ]
  },
  {
   "cell_type": "code",
   "execution_count": null,
   "id": "9dad2e56-bbb8-4408-abd8-2fc588ebab5e",
   "metadata": {},
   "outputs": [],
   "source": [
    "np.arange(5)"
   ]
  },
  {
   "cell_type": "code",
   "execution_count": null,
   "id": "3b139b17-a933-410c-8a5c-505f12b1b054",
   "metadata": {},
   "outputs": [],
   "source": [
    "np.arange(5,10)"
   ]
  },
  {
   "cell_type": "code",
   "execution_count": null,
   "id": "6b744707-3ba8-4478-8231-646264cb4521",
   "metadata": {},
   "outputs": [],
   "source": [
    "np.arange(10,1,-2)"
   ]
  },
  {
   "cell_type": "code",
   "execution_count": null,
   "id": "0625c69b-0b8d-44d4-837f-245865b1bfa8",
   "metadata": {},
   "outputs": [],
   "source": [
    "np.linspace(0.0,1.0,num=15)#start,stop,how many numbers"
   ]
  },
  {
   "cell_type": "code",
   "execution_count": null,
   "id": "40132a7c-3d07-4296-ad83-cfab4f78ec25",
   "metadata": {},
   "outputs": [],
   "source": [
    "np.arange(1,21).reshape(4,5)# 4 rows and 5 columns"
   ]
  },
  {
   "cell_type": "code",
   "execution_count": null,
   "id": "ef3d830a-9698-46a2-a696-f91e6e5cfe6c",
   "metadata": {},
   "outputs": [],
   "source": [
    "np.arange(1,100001).reshape(4,25000)"
   ]
  },
  {
   "cell_type": "code",
   "execution_count": null,
   "id": "36771b81-b3df-4eed-a0a4-f7bc23d78d3d",
   "metadata": {},
   "outputs": [],
   "source": [
    "#Exercise\n",
    "x = np.array([x for x in range(2,41,2)])"
   ]
  },
  {
   "cell_type": "code",
   "execution_count": null,
   "id": "16fd8c61-c907-4328-8971-caad72d596c4",
   "metadata": {},
   "outputs": [],
   "source": [
    "x.reshape(4,5)"
   ]
  },
  {
   "cell_type": "code",
   "execution_count": null,
   "id": "0d83c384-0b22-445a-b471-a49fcd4eeb6a",
   "metadata": {},
   "outputs": [],
   "source": [
    "#answer\n",
    "\n",
    "np.arange(2,41,2).reshape(4,5)"
   ]
  },
  {
   "cell_type": "code",
   "execution_count": null,
   "id": "d20a526a",
   "metadata": {},
   "outputs": [],
   "source": [
    "np.linspace(0.5,10,11) #start,stop,how many numbers"
   ]
  },
  {
   "cell_type": "code",
   "execution_count": null,
   "id": "617d1fa4",
   "metadata": {},
   "outputs": [],
   "source": [
    "np.eye(5)"
   ]
  },
  {
   "cell_type": "code",
   "execution_count": null,
   "id": "1dbcf0ef",
   "metadata": {},
   "outputs": [],
   "source": [
    "np.random.randn(10)"
   ]
  },
  {
   "cell_type": "code",
   "execution_count": null,
   "id": "496ef41f",
   "metadata": {},
   "outputs": [],
   "source": [
    "np.random.randn(4,5)"
   ]
  },
  {
   "cell_type": "code",
   "execution_count": null,
   "id": "2f73644a",
   "metadata": {},
   "outputs": [],
   "source": [
    "np.random.seed(2)\n",
    "np.random.rand(3)"
   ]
  },
  {
   "cell_type": "code",
   "execution_count": null,
   "id": "14c7efdf",
   "metadata": {},
   "outputs": [],
   "source": [
    "a = np.arange(0,29)\n",
    "a"
   ]
  },
  {
   "cell_type": "code",
   "execution_count": null,
   "id": "ffa38b63",
   "metadata": {},
   "outputs": [],
   "source": [
    "a.argmax()"
   ]
  },
  {
   "cell_type": "code",
   "execution_count": null,
   "id": "7131292f",
   "metadata": {},
   "outputs": [],
   "source": [
    "a.argmin()"
   ]
  },
  {
   "cell_type": "code",
   "execution_count": null,
   "id": "33ef3897",
   "metadata": {},
   "outputs": [],
   "source": [
    "a.argsort()"
   ]
  },
  {
   "cell_type": "code",
   "execution_count": null,
   "id": "6405d572",
   "metadata": {},
   "outputs": [],
   "source": [
    "a.ravel()"
   ]
  },
  {
   "cell_type": "markdown",
   "id": "102dfc18",
   "metadata": {},
   "source": [
    "## Pandas, Regular Expressions and Data Munging Part 1: Introduction"
   ]
  },
  {
   "cell_type": "markdown",
   "id": "f3f68bdf",
   "metadata": {},
   "source": [
    "* Cleaning\n",
    "    * deleting observations with missing values\n",
    "    * substituting reasonable values for missing values\n",
    "    * deleting observations with bad values\n",
    "    * substituting reasonable values for bad values\n",
    "    * tossing outliers\n",
    "    * duplication elimination\n",
    "    * dealith with inconsistent data"
   ]
  },
  {
   "cell_type": "markdown",
   "id": "f78f7880",
   "metadata": {},
   "source": [
    "* Transforming\n",
    "    * removing unnecessary data and features\n",
    "    * combining related features\n",
    "    * sampling data to obtain a representative subset\n",
    "    * standardizing data formats\n",
    "    * grouping data"
   ]
  },
  {
   "cell_type": "code",
   "execution_count": null,
   "id": "b3beb0c6",
   "metadata": {},
   "outputs": [],
   "source": [
    "import pandas as pd\n",
    "\n",
    "zips = pd.Series({'Boston': '02215', 'Miami': '3310'})\n",
    "zips"
   ]
  },
  {
   "cell_type": "code",
   "execution_count": null,
   "id": "d44b19bb",
   "metadata": {},
   "outputs": [],
   "source": [
    "zips.str.match(r'\\d{5}')"
   ]
  },
  {
   "cell_type": "code",
   "execution_count": null,
   "id": "0b5d5079",
   "metadata": {},
   "outputs": [],
   "source": [
    "cities = pd.Series(['Boston','MA 02215', 'Miami', 'FL 3310'])\n",
    "cities"
   ]
  },
  {
   "cell_type": "code",
   "execution_count": null,
   "id": "79e5bc29",
   "metadata": {},
   "outputs": [],
   "source": [
    "cities.str.contains(r' [A-Z]{2}')"
   ]
  },
  {
   "cell_type": "code",
   "execution_count": null,
   "id": "d48f8719",
   "metadata": {},
   "outputs": [],
   "source": [
    "cities.str.match(r' [A-Z]{2} ')"
   ]
  },
  {
   "cell_type": "markdown",
   "id": "07631104",
   "metadata": {},
   "source": [
    "## Reformatting Your Data"
   ]
  },
  {
   "cell_type": "code",
   "execution_count": null,
   "id": "77325fad",
   "metadata": {},
   "outputs": [],
   "source": [
    "contacts = [['Tromba Tromba','tromba1@exemplo.com','546653025'],['Judas Priest','judas@exemplo.com','589703984']]"
   ]
  },
  {
   "cell_type": "code",
   "execution_count": null,
   "id": "9b994f18",
   "metadata": {},
   "outputs": [],
   "source": [
    "contactsdf = pd.DataFrame(contacts,columns=['Name','Email','Phone'])\n",
    "contactsdf"
   ]
  },
  {
   "cell_type": "code",
   "execution_count": null,
   "id": "fc71b256",
   "metadata": {},
   "outputs": [],
   "source": [
    "import re\n",
    "def get_formatted_phone(value):\n",
    "    \"\"\"mapping function\"\"\"\n",
    "    result = re.fullmatch(r'(\\d{3})(\\d{3})(\\d{3})',value)\n",
    "    return '-'.join(result.groups()) if result else value"
   ]
  },
  {
   "cell_type": "code",
   "execution_count": null,
   "id": "4ec2ed40",
   "metadata": {},
   "outputs": [],
   "source": [
    "formattedphone = contactsdf['Phone'].map(get_formatted_phone) #mapping operation\n",
    "formattedphone"
   ]
  },
  {
   "cell_type": "code",
   "execution_count": null,
   "id": "dcb36d0d",
   "metadata": {},
   "outputs": [],
   "source": [
    "contactsdf"
   ]
  },
  {
   "cell_type": "code",
   "execution_count": null,
   "id": "8360501b",
   "metadata": {},
   "outputs": [],
   "source": [
    "contactsdf['Phone'] = formattedphone\n",
    "contactsdf"
   ]
  },
  {
   "cell_type": "code",
   "execution_count": null,
   "id": "1defa6a5",
   "metadata": {},
   "outputs": [],
   "source": [
    "#Exercise\n",
    "\n",
    "contacts = [['Cesar Tromba','tromba1@exemplo.com','5466530253'],['Judas Priest','judas@exemplo.com','5897039844']]\n",
    "contactsdf = pd.DataFrame(contacts,columns=['Name','Email','Phone'])\n",
    "\n",
    "import re\n",
    "def get_formatted_phone(value):\n",
    "    \"\"\"mapping function\"\"\"\n",
    "    result = re.fullmatch(r'(\\d{3})(\\d{3})(\\d{4})',value)\n",
    "    if result:\n",
    "        part1,part2,part3 = result.groups()\n",
    "        return '('  + part1 + ') '+ part2 + '-' + part3\n",
    "    else:\n",
    "        return value"
   ]
  },
  {
   "cell_type": "code",
   "execution_count": null,
   "id": "3bd5379d",
   "metadata": {},
   "outputs": [],
   "source": [
    "contactsdf['Phone'] = contactsdf['Phone'].map(get_formatted_phone)\n",
    "contactsdf"
   ]
  },
  {
   "cell_type": "markdown",
   "id": "032a3e84",
   "metadata": {},
   "source": [
    "## Working with CSV Files--Python Standard Library Module csv"
   ]
  },
  {
   "cell_type": "code",
   "execution_count": null,
   "id": "4d65de83",
   "metadata": {},
   "outputs": [],
   "source": [
    "import csv\n",
    "\n",
    "with open('accounts.csv', mode='w',newline='')as accounts:\n",
    "    writer = csv.writer(accounts)\n",
    "    writer.writerow([100,'Jones',25.20])\n",
    "    writer.writerow([200,'Doe',654.20])\n",
    "    writer.writerow([300,'White',984.20])\n",
    "    writer.writerow([400,'Stone',1.20])\n",
    "    writer.writerow([500,'Rich',345.20])\n",
    "    writer.writerow([600,'Tromba',-444.20])\n",
    "    writer.writerow([700,'Aneczka',-25.20])\n"
   ]
  },
  {
   "cell_type": "code",
   "execution_count": null,
   "id": "6f0154ce",
   "metadata": {},
   "outputs": [],
   "source": [
    "!more accounts.csv"
   ]
  },
  {
   "cell_type": "code",
   "execution_count": null,
   "id": "158ed812",
   "metadata": {},
   "outputs": [],
   "source": [
    "with open('accounts.csv',mode='r',newline='')as accounts:\n",
    "    print(f'{\"Account\":<10}{\"Name\":<10}{\"Balance\":<10}')\n",
    "    reader = csv.reader(accounts)\n",
    "    for record in reader:\n",
    "        account,name,balance=record\n",
    "        print(f'{account:<10}{name:<10}{balance:<10}')"
   ]
  },
  {
   "cell_type": "code",
   "execution_count": null,
   "id": "caa7a4af",
   "metadata": {},
   "outputs": [],
   "source": [
    "with open('grades.csv',mode='w',newline='')as grades:\n",
    "    writer = csv.writer(grades)\n",
    "    writer.writerow([1,'Red','A\\t'])\n",
    "    writer.writerow([2,'Green','B\\t'])\n",
    "    writer.writerow([3,'Blue','C\\t'])"
   ]
  },
  {
   "cell_type": "code",
   "execution_count": null,
   "id": "0d7fd1a8",
   "metadata": {},
   "outputs": [],
   "source": [
    "with open('grades.csv',mode='r',newline='')as grades:\n",
    "    print(f'{\"Student ID\":<7} {\"Last Name\":<4} {\"Grade\"}')\n",
    "    reader = csv.reader(grades)\n",
    "    for record in reader:\n",
    "        studentID,LastName,grade=record\n",
    "        print(f'{studentID:<12}{LastName:<10}{grade}')\n"
   ]
  },
  {
   "cell_type": "markdown",
   "id": "94922fe8",
   "metadata": {},
   "source": [
    "## Working with CSV Files--Reading CSV Files into Pandas DataFrames"
   ]
  },
  {
   "cell_type": "code",
   "execution_count": null,
   "id": "be9392ba",
   "metadata": {},
   "outputs": [],
   "source": [
    "import pandas as pd\n",
    "import matplotlib.pyplot\n",
    "\n",
    "df = pd.read_csv('accounts.csv', names=['account','name','balance'])\n",
    "df"
   ]
  },
  {
   "cell_type": "code",
   "execution_count": null,
   "id": "5387c300",
   "metadata": {},
   "outputs": [],
   "source": [
    "df.to_csv('accounts_from_dataframe.csv', index=False)"
   ]
  },
  {
   "cell_type": "code",
   "execution_count": null,
   "id": "1d9ed3db",
   "metadata": {},
   "outputs": [],
   "source": [
    "!more accounts_from_dataframe.csv"
   ]
  },
  {
   "cell_type": "code",
   "execution_count": null,
   "id": "10e96bb0",
   "metadata": {},
   "outputs": [],
   "source": [
    "titanic = pd.read_csv('https://vincentarelbundock.github.io/Rdatasets/csv/carData/TitanicSurvival.csv')\n",
    "pd.set_option('display.precision',1)# format for floating-point values\n",
    "titanic.head()"
   ]
  },
  {
   "cell_type": "code",
   "execution_count": null,
   "id": "99a4f4a1",
   "metadata": {},
   "outputs": [],
   "source": [
    "titanic.tail()"
   ]
  },
  {
   "cell_type": "code",
   "execution_count": null,
   "id": "604f719a",
   "metadata": {},
   "outputs": [],
   "source": [
    "titanic.columns = ['Name','Survived','Sex','Age','Class']\n",
    "titanic.head()"
   ]
  },
  {
   "cell_type": "code",
   "execution_count": null,
   "id": "d132813c",
   "metadata": {},
   "outputs": [],
   "source": [
    "titanic.describe() #age statistics"
   ]
  },
  {
   "cell_type": "code",
   "execution_count": null,
   "id": "9ab52155",
   "metadata": {},
   "outputs": [],
   "source": [
    "(titanic.Survived == 'yes').describe()"
   ]
  },
  {
   "cell_type": "code",
   "execution_count": null,
   "id": "f94f5dec",
   "metadata": {},
   "outputs": [],
   "source": [
    "histogram = titanic.hist()\n",
    "histogram"
   ]
  },
  {
   "cell_type": "markdown",
   "id": "1b407d7d",
   "metadata": {},
   "source": [
    "# Data Mining Twitter"
   ]
  },
  {
   "cell_type": "code",
   "execution_count": null,
   "id": "1622256a",
   "metadata": {},
   "outputs": [],
   "source": [
    "!pip install tweepy"
   ]
  },
  {
   "cell_type": "code",
   "execution_count": null,
   "id": "f28d862c",
   "metadata": {},
   "outputs": [],
   "source": [
    "!pip install geopy"
   ]
  },
  {
   "cell_type": "code",
   "execution_count": 1,
   "id": "e142fa12",
   "metadata": {},
   "outputs": [
    {
     "name": "stdout",
     "output_type": "stream",
     "text": [
      "Overwriting keys.py\n"
     ]
    }
   ],
   "source": [
    "%%writefile keys.py\n",
    "API_key = 'MNMuQ5QvkNo5NJLtOzFCrsKhr' #Think of the API key as the user name that represents your App when making API requests. It helps us verify who you are.\n",
    "API_key_secret = 'yFV5z8NSdWxQsUnAJnLl36fFVhHr2ssFjxX1uyYGtmOZqwHjAq' #Your API Key Secret is like a password and helps verify your API Key. This will be one of the last times you'll see it displayed, so remember to save it in a safe place.\n",
    "Access_token = '819270331-OSHWKBrv2blkMW7vUokV9dzkgoKEAA3kUGAwv9OL'\n",
    "Access_secret = 's6CyrMKIMDKbyOu8hpIRx5zhc2EVQvkhn01oSuQlEFPX2'\n",
    "Client_ID = 'M0tkRUw4bmpaR3h6ODQtZkxKVVg6MTpjaQ' #Think of your Client ID as the user name that allows you to use OAuth 2.0 as an authentication method.\n",
    "Client_secret = 'hGvI4AxsfpGnOlYVZoJF-N05y3kcWyXH7EbHEpi51vAYY9DfZ-' #Think of your Client Secret as the password that allows you to use OAuth 2.0 as an authentication method.\n",
    "Bearer_token = 'AAAAAAAAAAAAAAAAAAAAAP5FjgEAAAAA%2BzvhMLG8YqGpmetPI%2Bwh6%2Fh4WG8%3DgXu3nWpiD6mrjhkWfvi9otuTmA9atCQkKC0fQjSF9gYGHSGZK6' #An Access Token used in authentication that allows you to pull specific data."
   ]
  },
  {
   "cell_type": "code",
   "execution_count": 10,
   "id": "de14b205",
   "metadata": {},
   "outputs": [],
   "source": [
    "import tweepy\n",
    "import keys\n",
    "\n",
    "auth = tweepy.OAuthHandler(keys.API_key,keys.API_key_secret)\n",
    "auth.set_access_token(keys.Access_token,keys.Access_secret)\n",
    "api = tweepy.API(auth,wait_on_rate_limit=True)"
   ]
  },
  {
   "cell_type": "code",
   "execution_count": 13,
   "id": "e449ca24",
   "metadata": {},
   "outputs": [
    {
     "ename": "Forbidden",
     "evalue": "403 Forbidden\n453 - You currently have Essential access which includes access to Twitter API v2 endpoints only. If you need access to this endpoint, you’ll need to apply for Elevated access via the Developer Portal. You can learn more here: https://developer.twitter.com/en/docs/twitter-api/getting-started/about-twitter-api#v2-access-leve",
     "output_type": "error",
     "traceback": [
      "\u001b[1;31m---------------------------------------------------------------------------\u001b[0m",
      "\u001b[1;31mForbidden\u001b[0m                                 Traceback (most recent call last)",
      "\u001b[1;32mc:\\Users\\thefa\\Estudos em Python\\DataScience.ipynb Cell 287\u001b[0m in \u001b[0;36m<cell line: 1>\u001b[1;34m()\u001b[0m\n\u001b[1;32m----> <a href='vscode-notebook-cell:/c%3A/Users/thefa/Estudos%20em%20Python/DataScience.ipynb#Y555sZmlsZQ%3D%3D?line=0'>1</a>\u001b[0m users \u001b[39m=\u001b[39m api\u001b[39m.\u001b[39;49mget_user(screen_name\u001b[39m=\u001b[39;49m\u001b[39m'\u001b[39;49m\u001b[39mnasa\u001b[39;49m\u001b[39m'\u001b[39;49m)\n\u001b[0;32m      <a href='vscode-notebook-cell:/c%3A/Users/thefa/Estudos%20em%20Python/DataScience.ipynb#Y555sZmlsZQ%3D%3D?line=2'>3</a>\u001b[0m \u001b[39mprint\u001b[39m(users\u001b[39m.\u001b[39mid)\n",
      "File \u001b[1;32m~\\AppData\\Local\\Packages\\PythonSoftwareFoundation.Python.3.10_qbz5n2kfra8p0\\LocalCache\\local-packages\\Python310\\site-packages\\tweepy\\api.py:46\u001b[0m, in \u001b[0;36mpayload.<locals>.decorator.<locals>.wrapper\u001b[1;34m(*args, **kwargs)\u001b[0m\n\u001b[0;32m     44\u001b[0m kwargs[\u001b[39m'\u001b[39m\u001b[39mpayload_list\u001b[39m\u001b[39m'\u001b[39m] \u001b[39m=\u001b[39m payload_list\n\u001b[0;32m     45\u001b[0m kwargs[\u001b[39m'\u001b[39m\u001b[39mpayload_type\u001b[39m\u001b[39m'\u001b[39m] \u001b[39m=\u001b[39m payload_type\n\u001b[1;32m---> 46\u001b[0m \u001b[39mreturn\u001b[39;00m method(\u001b[39m*\u001b[39margs, \u001b[39m*\u001b[39m\u001b[39m*\u001b[39mkwargs)\n",
      "File \u001b[1;32m~\\AppData\\Local\\Packages\\PythonSoftwareFoundation.Python.3.10_qbz5n2kfra8p0\\LocalCache\\local-packages\\Python310\\site-packages\\tweepy\\api.py:2508\u001b[0m, in \u001b[0;36mAPI.get_user\u001b[1;34m(self, **kwargs)\u001b[0m\n\u001b[0;32m   2485\u001b[0m \u001b[39m@payload\u001b[39m(\u001b[39m'\u001b[39m\u001b[39muser\u001b[39m\u001b[39m'\u001b[39m)\n\u001b[0;32m   2486\u001b[0m \u001b[39mdef\u001b[39;00m \u001b[39mget_user\u001b[39m(\u001b[39mself\u001b[39m, \u001b[39m*\u001b[39m\u001b[39m*\u001b[39mkwargs):\n\u001b[0;32m   2487\u001b[0m     \u001b[39m\"\"\"get_user(*, user_id, screen_name, include_entities)\u001b[39;00m\n\u001b[0;32m   2488\u001b[0m \n\u001b[0;32m   2489\u001b[0m \u001b[39m    Returns information about the specified user.\u001b[39;00m\n\u001b[1;32m   (...)\u001b[0m\n\u001b[0;32m   2506\u001b[0m \u001b[39m    https://developer.twitter.com/en/docs/twitter-api/v1/accounts-and-users/follow-search-get-users/api-reference/get-users-show\u001b[39;00m\n\u001b[0;32m   2507\u001b[0m \u001b[39m    \"\"\"\u001b[39;00m\n\u001b[1;32m-> 2508\u001b[0m     \u001b[39mreturn\u001b[39;00m \u001b[39mself\u001b[39m\u001b[39m.\u001b[39mrequest(\n\u001b[0;32m   2509\u001b[0m         \u001b[39m'\u001b[39m\u001b[39mGET\u001b[39m\u001b[39m'\u001b[39m, \u001b[39m'\u001b[39m\u001b[39musers/show\u001b[39m\u001b[39m'\u001b[39m, endpoint_parameters\u001b[39m=\u001b[39m(\n\u001b[0;32m   2510\u001b[0m             \u001b[39m'\u001b[39m\u001b[39muser_id\u001b[39m\u001b[39m'\u001b[39m, \u001b[39m'\u001b[39m\u001b[39mscreen_name\u001b[39m\u001b[39m'\u001b[39m, \u001b[39m'\u001b[39m\u001b[39minclude_entities\u001b[39m\u001b[39m'\u001b[39m\n\u001b[0;32m   2511\u001b[0m         ), \u001b[39m*\u001b[39m\u001b[39m*\u001b[39mkwargs\n\u001b[0;32m   2512\u001b[0m     )\n",
      "File \u001b[1;32m~\\AppData\\Local\\Packages\\PythonSoftwareFoundation.Python.3.10_qbz5n2kfra8p0\\LocalCache\\local-packages\\Python310\\site-packages\\tweepy\\api.py:265\u001b[0m, in \u001b[0;36mAPI.request\u001b[1;34m(self, method, endpoint, endpoint_parameters, params, headers, json_payload, parser, payload_list, payload_type, post_data, files, require_auth, return_cursors, upload_api, use_cache, **kwargs)\u001b[0m\n\u001b[0;32m    263\u001b[0m     \u001b[39mraise\u001b[39;00m Unauthorized(resp)\n\u001b[0;32m    264\u001b[0m \u001b[39mif\u001b[39;00m resp\u001b[39m.\u001b[39mstatus_code \u001b[39m==\u001b[39m \u001b[39m403\u001b[39m:\n\u001b[1;32m--> 265\u001b[0m     \u001b[39mraise\u001b[39;00m Forbidden(resp)\n\u001b[0;32m    266\u001b[0m \u001b[39mif\u001b[39;00m resp\u001b[39m.\u001b[39mstatus_code \u001b[39m==\u001b[39m \u001b[39m404\u001b[39m:\n\u001b[0;32m    267\u001b[0m     \u001b[39mraise\u001b[39;00m NotFound(resp)\n",
      "\u001b[1;31mForbidden\u001b[0m: 403 Forbidden\n453 - You currently have Essential access which includes access to Twitter API v2 endpoints only. If you need access to this endpoint, you’ll need to apply for Elevated access via the Developer Portal. You can learn more here: https://developer.twitter.com/en/docs/twitter-api/getting-started/about-twitter-api#v2-access-leve"
     ]
    }
   ],
   "source": [
    "users = api.get_user(screen_name='nasa')\n",
    "\n",
    "print(users.id)"
   ]
  },
  {
   "cell_type": "code",
   "execution_count": null,
   "id": "56a4542a",
   "metadata": {},
   "outputs": [],
   "source": []
  },
  {
   "cell_type": "code",
   "execution_count": null,
   "id": "d0c32dce",
   "metadata": {},
   "outputs": [],
   "source": []
  },
  {
   "cell_type": "code",
   "execution_count": null,
   "id": "12742de1",
   "metadata": {},
   "outputs": [],
   "source": []
  },
  {
   "cell_type": "code",
   "execution_count": null,
   "id": "01a6372e",
   "metadata": {},
   "outputs": [],
   "source": []
  },
  {
   "cell_type": "code",
   "execution_count": null,
   "id": "01301bee",
   "metadata": {},
   "outputs": [],
   "source": []
  },
  {
   "cell_type": "code",
   "execution_count": null,
   "id": "bb42a843",
   "metadata": {},
   "outputs": [],
   "source": []
  },
  {
   "cell_type": "code",
   "execution_count": null,
   "id": "088b70eb",
   "metadata": {},
   "outputs": [],
   "source": []
  },
  {
   "cell_type": "code",
   "execution_count": null,
   "id": "3da8c865",
   "metadata": {},
   "outputs": [],
   "source": []
  },
  {
   "cell_type": "code",
   "execution_count": null,
   "id": "00f501e6",
   "metadata": {},
   "outputs": [],
   "source": [
    "!dir"
   ]
  },
  {
   "cell_type": "code",
   "execution_count": null,
   "id": "c6a84305",
   "metadata": {},
   "outputs": [],
   "source": [
    "import pandas as pd\n",
    "import numpy as np\n",
    "import openpyxl\n",
    "import re \n",
    "\n",
    "pd.set_option('display.max_colwidth', None)\n",
    "file = 'sheet.xlsx'\n",
    "planilha = pd.read_excel(file,header=None)\n",
    "\n",
    "h = ['IMPACT']\n",
    "planilha.columns = h\n",
    "\n",
    "planilha = pd.DataFrame(planilha)\n",
    "\n",
    "valor = planilha[\"IMPACT\"].str.findall(r\"(?<=IMPACT\\:).*$\")\n",
    "\n",
    "\n",
    "\n",
    "print(valor)"
   ]
  },
  {
   "cell_type": "code",
   "execution_count": null,
   "id": "ebddcf48",
   "metadata": {},
   "outputs": [],
   "source": [
    "with open('sheet.xlsx')as file:\n",
    "    contents = file.read()\n",
    "    print(contents)"
   ]
  },
  {
   "cell_type": "code",
   "execution_count": null,
   "id": "54a9126c",
   "metadata": {},
   "outputs": [],
   "source": [
    "import pandas as pd\n",
    "import openpyxl\n",
    "import numpy as np\n",
    "\n",
    "pd.set_option('display.max_colwidth', None)\n",
    "file = 'sheet.xlsx'\n",
    "planilha = pd.read_excel(file,header=None,names=['Description','IMPACT'])\n",
    "\n",
    "def my_function(text):\n",
    "  key_string = 'IMPACT:'\n",
    "  if '[' and ']' in text:   \n",
    "    my_slice = text[text.find(key_string)+len(key_string):text.find(']')]\n",
    "  else:\n",
    "    my_slice = text[text.find(key_string)+len(key_string):]\n",
    "  return my_slice\n",
    "\n",
    "planilha['IMPACT'] = planilha['Description'].apply(lambda x: my_function(x))\n",
    "     \n",
    "planilha"
   ]
  },
  {
   "cell_type": "code",
   "execution_count": null,
   "id": "ca9bc4b5",
   "metadata": {},
   "outputs": [],
   "source": [
    "planilha.groupby(['Description','IMPACT']).sum()\n"
   ]
  },
  {
   "cell_type": "code",
   "execution_count": null,
   "id": "2479c99e",
   "metadata": {},
   "outputs": [],
   "source": []
  },
  {
   "cell_type": "code",
   "execution_count": null,
   "metadata": {},
   "outputs": [],
   "source": []
  },
  {
   "cell_type": "code",
   "execution_count": null,
   "metadata": {},
   "outputs": [],
   "source": []
  },
  {
   "cell_type": "code",
   "execution_count": null,
   "id": "b8f8a63e",
   "metadata": {},
   "outputs": [],
   "source": []
  },
  {
   "cell_type": "code",
   "execution_count": null,
   "id": "b9142568",
   "metadata": {},
   "outputs": [],
   "source": []
  },
  {
   "cell_type": "code",
   "execution_count": null,
   "id": "9e7b0182",
   "metadata": {},
   "outputs": [],
   "source": [
    "planilha.info()"
   ]
  },
  {
   "cell_type": "code",
   "execution_count": null,
   "id": "20c24fa5",
   "metadata": {},
   "outputs": [],
   "source": []
  },
  {
   "cell_type": "code",
   "execution_count": null,
   "id": "f09e3a02",
   "metadata": {},
   "outputs": [],
   "source": []
  },
  {
   "cell_type": "code",
   "execution_count": null,
   "id": "922065c3",
   "metadata": {},
   "outputs": [],
   "source": []
  },
  {
   "cell_type": "code",
   "execution_count": null,
   "id": "6798d14c",
   "metadata": {},
   "outputs": [],
   "source": []
  },
  {
   "cell_type": "code",
   "execution_count": null,
   "id": "a1de4eda",
   "metadata": {},
   "outputs": [],
   "source": []
  },
  {
   "cell_type": "code",
   "execution_count": null,
   "id": "d1c184b5",
   "metadata": {},
   "outputs": [],
   "source": []
  },
  {
   "cell_type": "code",
   "execution_count": null,
   "id": "6f589503",
   "metadata": {},
   "outputs": [],
   "source": []
  },
  {
   "cell_type": "code",
   "execution_count": null,
   "id": "a2a09cd0",
   "metadata": {},
   "outputs": [],
   "source": []
  },
  {
   "cell_type": "code",
   "execution_count": null,
   "id": "e96c9e70",
   "metadata": {},
   "outputs": [],
   "source": []
  },
  {
   "cell_type": "code",
   "execution_count": null,
   "id": "46d95c55",
   "metadata": {},
   "outputs": [],
   "source": []
  },
  {
   "cell_type": "code",
   "execution_count": null,
   "id": "4fc17c4a",
   "metadata": {},
   "outputs": [],
   "source": []
  },
  {
   "cell_type": "code",
   "execution_count": null,
   "id": "0109e5fa",
   "metadata": {},
   "outputs": [],
   "source": []
  },
  {
   "cell_type": "code",
   "execution_count": null,
   "id": "917160dd",
   "metadata": {},
   "outputs": [],
   "source": []
  },
  {
   "cell_type": "code",
   "execution_count": null,
   "id": "acd88539",
   "metadata": {},
   "outputs": [],
   "source": []
  },
  {
   "cell_type": "code",
   "execution_count": null,
   "id": "6c8f1cc8",
   "metadata": {},
   "outputs": [],
   "source": []
  },
  {
   "cell_type": "code",
   "execution_count": null,
   "id": "42022076",
   "metadata": {},
   "outputs": [],
   "source": []
  },
  {
   "cell_type": "code",
   "execution_count": null,
   "id": "fb98dd29",
   "metadata": {},
   "outputs": [],
   "source": []
  },
  {
   "cell_type": "code",
   "execution_count": null,
   "id": "e831c618",
   "metadata": {},
   "outputs": [],
   "source": []
  },
  {
   "cell_type": "code",
   "execution_count": null,
   "id": "a1bc8b25",
   "metadata": {},
   "outputs": [],
   "source": []
  },
  {
   "cell_type": "code",
   "execution_count": null,
   "id": "add31495",
   "metadata": {},
   "outputs": [],
   "source": []
  },
  {
   "cell_type": "code",
   "execution_count": null,
   "id": "516693aa",
   "metadata": {},
   "outputs": [],
   "source": []
  },
  {
   "cell_type": "code",
   "execution_count": null,
   "id": "b64a2c60",
   "metadata": {},
   "outputs": [],
   "source": []
  },
  {
   "cell_type": "code",
   "execution_count": null,
   "id": "3455420a",
   "metadata": {},
   "outputs": [],
   "source": []
  },
  {
   "cell_type": "code",
   "execution_count": null,
   "id": "b49343e1",
   "metadata": {},
   "outputs": [],
   "source": []
  },
  {
   "cell_type": "code",
   "execution_count": null,
   "id": "9130aba6",
   "metadata": {},
   "outputs": [],
   "source": []
  },
  {
   "cell_type": "code",
   "execution_count": null,
   "id": "7788074b",
   "metadata": {},
   "outputs": [],
   "source": []
  },
  {
   "cell_type": "code",
   "execution_count": null,
   "id": "b8997300",
   "metadata": {},
   "outputs": [],
   "source": []
  },
  {
   "cell_type": "code",
   "execution_count": null,
   "id": "e7b3eb0f",
   "metadata": {},
   "outputs": [],
   "source": []
  },
  {
   "cell_type": "code",
   "execution_count": null,
   "id": "eb0e72bf",
   "metadata": {},
   "outputs": [],
   "source": []
  },
  {
   "cell_type": "code",
   "execution_count": null,
   "id": "99e87fba",
   "metadata": {},
   "outputs": [],
   "source": []
  },
  {
   "cell_type": "code",
   "execution_count": null,
   "id": "9a65bb13",
   "metadata": {},
   "outputs": [],
   "source": []
  },
  {
   "cell_type": "code",
   "execution_count": null,
   "id": "be8385fe",
   "metadata": {},
   "outputs": [],
   "source": []
  },
  {
   "cell_type": "code",
   "execution_count": null,
   "id": "afd602d3",
   "metadata": {},
   "outputs": [],
   "source": []
  },
  {
   "cell_type": "code",
   "execution_count": null,
   "id": "8f42f101",
   "metadata": {},
   "outputs": [],
   "source": []
  },
  {
   "cell_type": "code",
   "execution_count": null,
   "id": "33e5c202",
   "metadata": {},
   "outputs": [],
   "source": []
  },
  {
   "cell_type": "code",
   "execution_count": null,
   "id": "b0dbf245",
   "metadata": {},
   "outputs": [],
   "source": [
    "!pip install pandas_datareader"
   ]
  },
  {
   "cell_type": "code",
   "execution_count": null,
   "id": "f70a2b48",
   "metadata": {},
   "outputs": [],
   "source": [
    "\"\"\"Gather select Stock Data\"\"\"\n",
    "\n",
    "import datetime as dt\n",
    "import re\n",
    "import pandas as pd\n",
    "import pandas_datareader.data as web\n",
    "from .utils import label_sanitizer"
   ]
  },
  {
   "cell_type": "code",
   "execution_count": null,
   "id": "098df941",
   "metadata": {},
   "outputs": [],
   "source": [
    "import requests\n",
    "from bs4 import BeautifulSoup\n",
    "import pandas as pd\n",
    "\n",
    "baseurl = \"https://www.thewhiskyexchange.com\"\n",
    "\n",
    "headers = {'User-Agent': 'Mozilla/5.0 (Windows NT 10.0; Win64; x64) AppleWebKit/537.36 (KHTML, like Gecko) Chrome/89.0.4389.82 Safari/537.36'}\n",
    "productlinks = []\n",
    "data=[]\n",
    "for x in range(1,6):\n",
    "    k = requests.get('https://www.thewhiskyexchange.com/c/35/japanese-whisky?pg={}&psize=24&sort=pasc'.format(x)).text\n",
    "    soup=BeautifulSoup(k,'html.parser')\n",
    "    productlist = soup.find_all(\"li\",{\"class\":\"product-grid__item\"})\n",
    "    for product in productlist:\n",
    "        link = product.find(\"container\").get('href')\n",
    "        productlinks.append(baseurl + link)\n",
    "\n",
    "\n",
    "\n",
    "\n",
    "for link in productlinks:\n",
    "    f = requests.get(link,headers=headers).text\n",
    "    hun=BeautifulSoup(f,'html.parser')\n",
    "\n",
    "    try:\n",
    "        price = hun.find(\"p\",{\"class\":\"product-action__price\"}).text.replace('\\n',\" \")\n",
    "    except:\n",
    "        price = None\n",
    "\n",
    "    try:\n",
    "        about = hun.find(\"div\",{\"class\":\"product-main__description\"}).text.replace('\\n',\" \")\n",
    "    except:\n",
    "        about = None\n",
    "\n",
    "    try:\n",
    "        rating = hun.find(\"div\",{\"class\":\"review-overview\"}).text.replace('\\n',\" \")\n",
    "    except:\n",
    "        rating = None\n",
    "\n",
    "    try:\n",
    "        name = hun.find(\"h1\",{\"class\":\"product-main__name\"}).text.replace('\\n',\" \")\n",
    "    except:\n",
    "        name = None\n",
    "\n",
    "    whisky = {\"name\":name,\"price\":price,\"rating\":rating,\"about\":about}\n",
    "    list(whisky.keys())\n",
    "    list(whisky.values())\n",
    "    data.append(whisky)\n",
    "\n",
    "\n",
    "df = pd.DataFrame(data)\n",
    "\n",
    "print(df)\n",
    "\n",
    "nome_arquivo = 'Whisky.txt'\n",
    "\n",
    "with open(nome_arquivo,'w') as fp:\n",
    "    fp.write('\\n \\n'.join(str(x)for x in data))\n"
   ]
  }
 ],
 "metadata": {
  "kernelspec": {
   "display_name": "Python 3 (ipykernel)",
   "language": "python",
   "name": "python3"
  },
  "language_info": {
   "codemirror_mode": {
    "name": "ipython",
    "version": 3
   },
   "file_extension": ".py",
   "mimetype": "text/x-python",
   "name": "python",
   "nbconvert_exporter": "python",
   "pygments_lexer": "ipython3",
   "version": "3.10.8"
  },
  "vscode": {
   "interpreter": {
    "hash": "582ce796faf498658236dc6c4c7e0fe8081b61e65e76d55250e9a9323d12417d"
   }
  },
  "widgets": {
   "application/vnd.jupyter.widget-state+json": {
    "state": {},
    "version_major": 2,
    "version_minor": 0
   }
  }
 },
 "nbformat": 4,
 "nbformat_minor": 5
}
