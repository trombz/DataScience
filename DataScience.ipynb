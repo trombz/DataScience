{
 "cells": [
  {
   "cell_type": "code",
   "execution_count": 15,
   "id": "10e21497-f8ff-48b7-b013-1851871bf38a",
   "metadata": {},
   "outputs": [
    {
     "name": "stdout",
     "output_type": "stream",
     "text": [
      "The minimium valor is:  \n",
      "9\n",
      "The maximum valor is:  \n",
      "98\n",
      "Saída desse script está descrita abaixo\n",
      "\n",
      " 1    1050.00\n",
      " 2    1102.50\n",
      " 3    1157.62\n",
      " 4    1215.51\n",
      " 5    1276.28\n",
      " 6    1340.10\n",
      " 7    1407.10\n",
      " 8    1477.46\n",
      " 9    1551.33\n",
      "10    1628.89\n"
     ]
    }
   ],
   "source": [
    "########DATA SCIENCE SNIPPETS/SCRIPTS/EXAMPLES########\n",
    "\n",
    "# Functions --->>>min,max,sum,range\n",
    "# Functions --->>>mean,media,mode\n",
    "\n",
    "\"Mean significa a media de um valor em um conjunto de valores\"\n",
    "\"Media significa o valor medio entre todos os valores arranjados de forma sortida\"\n",
    "\"Mode significa o valor mais frequente/ocorrente\"\n",
    "\n",
    "\n",
    "minimum = min(45,67,76,24,98,9)\n",
    "print('The minimium valor is: ', minimum,sep=' \\n')\n",
    "\n",
    "maximum = max(45,67,76,24,98,9)\n",
    "print('The maximum valor is: ', maximum,sep=' \\n')\n",
    "\n",
    "\n",
    "from decimal import Decimal\n",
    "\n",
    "principal = Decimal('1000.00')\n",
    "rate = Decimal('0.05')\n",
    "\n",
    "print('Saída desse script está descrita abaixo\\n')\n",
    "for year in range(1,11):\n",
    "    amount = principal * (1 + rate) ** year\n",
    "    print(f'{year:>2} {amount:>10.2f}')"
   ]
  },
  {
   "cell_type": "code",
   "execution_count": 16,
   "id": "8b3a9bce-e0df-438b-b80e-6d8efdb7dac8",
   "metadata": {},
   "outputs": [
    {
     "data": {
      "text/plain": [
       "79.16666666666667"
      ]
     },
     "execution_count": 20,
     "metadata": {},
     "output_type": "execute_result"
    }
   ],
   "source": [
    "grades = [45,467,894,379,903,45]\n",
    "sum(grades) / len(grades)\n",
    "\n",
    "import statistics\n",
    "statistics.mean(grades)"
   ]
  },
  {
   "cell_type": "code",
   "execution_count": 17,
   "id": "772d7fd1-1547-4803-87da-1aa27bbbd8a5",
   "metadata": {},
   "outputs": [
    {
     "data": {
      "text/plain": [
       "88"
      ]
     },
     "execution_count": 21,
     "metadata": {},
     "output_type": "execute_result"
    }
   ],
   "source": [
    "import statistics\n",
    "statistics.mode(grades)\n",
    "\n"
   ]
  },
  {
   "cell_type": "code",
   "execution_count": 18,
   "id": "6bfb95ad-d3e2-46c0-b492-aadb73991941",
   "metadata": {},
   "outputs": [
    {
     "data": {
      "text/plain": [
       "86.0"
      ]
     },
     "execution_count": 22,
     "metadata": {},
     "output_type": "execute_result"
    }
   ],
   "source": [
    "import statistics\n",
    "statistics.median(grades)"
   ]
  },
  {
   "cell_type": "code",
   "execution_count": 19,
   "id": "a53e6796-3877-4104-bbed-a08105ccfcf2",
   "metadata": {},
   "outputs": [
    {
     "data": {
      "text/plain": [
       "[47, 73, 84, 88, 88, 95]"
      ]
     },
     "execution_count": 23,
     "metadata": {},
     "output_type": "execute_result"
    }
   ],
   "source": [
    "sorted(grades)"
   ]
  },
  {
   "cell_type": "code",
   "execution_count": 34,
   "id": "6add13f5-55e7-42f0-b1f8-f97fb1e99f3f",
   "metadata": {},
   "outputs": [
    {
     "data": {
      "text/plain": [
       "79.16666666666667"
      ]
     },
     "execution_count": 34,
     "metadata": {},
     "output_type": "execute_result"
    }
   ],
   "source": [
    "import statistics\n",
    "\n",
    "valores = [47,95,88,73,88,84]\n",
    "\n",
    "statistics.mean(valores)"
   ]
  },
  {
   "cell_type": "code",
   "execution_count": 35,
   "id": "b3989955-fc25-48c3-b2e0-d26031af1f7f",
   "metadata": {},
   "outputs": [
    {
     "data": {
      "text/plain": [
       "86.0"
      ]
     },
     "execution_count": 35,
     "metadata": {},
     "output_type": "execute_result"
    }
   ],
   "source": [
    "import statistics\n",
    "\n",
    "valores = [47,95,88,73,88,84]\n",
    "\n",
    "statistics.median(valores)"
   ]
  },
  {
   "cell_type": "code",
   "execution_count": 36,
   "id": "b5272d29-7cac-4c89-b7bc-11b6ae3b807c",
   "metadata": {},
   "outputs": [
    {
     "data": {
      "text/plain": [
       "88"
      ]
     },
     "execution_count": 36,
     "metadata": {},
     "output_type": "execute_result"
    }
   ],
   "source": [
    "import statistics\n",
    "\n",
    "valores = [47,95,88,73,88,84]\n",
    "\n",
    "statistics.mode(valores)"
   ]
  },
  {
   "cell_type": "code",
   "execution_count": 37,
   "id": "0a73a5fb-1127-42da-adb5-8e93dec9bf1c",
   "metadata": {
    "tags": []
   },
   "outputs": [
    {
     "data": {
      "text/plain": [
       "[47, 73, 84, 88, 88, 95]"
      ]
     },
     "execution_count": 37,
     "metadata": {},
     "output_type": "execute_result"
    }
   ],
   "source": [
    "sorted(valores)"
   ]
  },
  {
   "cell_type": "code",
   "execution_count": 39,
   "id": "793f3756-2f04-4b28-91df-beee908ed10a",
   "metadata": {},
   "outputs": [
    {
     "data": {
      "text/plain": [
       "[66.5, 86.0, 89.75]"
      ]
     },
     "execution_count": 39,
     "metadata": {},
     "output_type": "execute_result"
    }
   ],
   "source": [
    "statistics.quantiles(valores)"
   ]
  },
  {
   "cell_type": "code",
   "execution_count": 41,
   "id": "4f0c6129-bb09-4675-b6a0-809eae6b1b0d",
   "metadata": {},
   "outputs": [
    {
     "data": {
      "text/plain": [
       "300.56666666666666"
      ]
     },
     "execution_count": 41,
     "metadata": {},
     "output_type": "execute_result"
    }
   ],
   "source": [
    "statistics.variance(valores)"
   ]
  },
  {
   "cell_type": "code",
   "execution_count": 55,
   "id": "7e59d4d6-8740-4bfc-a117-a6627b42ae19",
   "metadata": {},
   "outputs": [
    {
     "ename": "SyntaxError",
     "evalue": "invalid syntax (2931891987.py, line 1)",
     "output_type": "error",
     "traceback": [
      "\u001b[1;36m  Input \u001b[1;32mIn [55]\u001b[1;36m\u001b[0m\n\u001b[1;33m    statistics.stdev(f'{(valores)}':.2f)\u001b[0m\n\u001b[1;37m                                   ^\u001b[0m\n\u001b[1;31mSyntaxError\u001b[0m\u001b[1;31m:\u001b[0m invalid syntax\n"
     ]
    }
   ],
   "source": [
    "statistics.stdev(valores)"
   ]
  },
  {
   "cell_type": "markdown",
   "id": "50cc15bc-e8be-4608-a92c-6341c7c79fb9",
   "metadata": {},
   "source": [
    "###MEASURES OF DISPERSION###\n",
    "\n",
    "measures of central tendency - mean,median and mode\n",
    "An entire group is called a population\n",
    "A subset of population is called a sample\n",
    "\n",
    "Variance\n",
    "\n",
    "\n",
    "Standard Deviation"
   ]
  },
  {
   "cell_type": "code",
   "execution_count": 2,
   "id": "e3f53b22-7b76-496e-a53c-970f329a2183",
   "metadata": {},
   "outputs": [
    {
     "data": {
      "text/plain": [
       "2.25"
      ]
     },
     "execution_count": 2,
     "metadata": {},
     "output_type": "execute_result"
    }
   ],
   "source": [
    "import statistics\n",
    "\n",
    "statistics.pvariance([1,3,4,2,6,5,3,4,5,2])"
   ]
  },
  {
   "cell_type": "code",
   "execution_count": 3,
   "id": "9c01a80c-59d5-47d5-aba0-8ad8d315ead1",
   "metadata": {},
   "outputs": [
    {
     "data": {
      "text/plain": [
       "1.5"
      ]
     },
     "execution_count": 3,
     "metadata": {},
     "output_type": "execute_result"
    }
   ],
   "source": [
    "import statistics\n",
    "\n",
    "statistics.pstdev([1,3,4,2,6,5,3,4,5,2])"
   ]
  },
  {
   "cell_type": "markdown",
   "id": "c11f900f-d02f-4acc-b851-bdbcf74b0fae",
   "metadata": {},
   "source": [
    "#Data\n",
    "\n",
    "Sensor data:\n",
    "RFID\n",
    "GPS\n",
    "Industrial\n",
    "IoT\n",
    "\n",
    "Web data:\n",
    "Application logs\n",
    "Transactions\n",
    "Advertising\n",
    "Social Media\n",
    "\n",
    "Mobile:\n",
    "Location\n",
    "Photos\n",
    "Messages\n",
    "Metadata\n",
    "\n",
    "\n",
    "Personal:\n",
    "Fitbit\n",
    "23andMe\n",
    "MyFitnessPal\n",
    "Smart Meter\n"
   ]
  },
  {
   "cell_type": "code",
   "execution_count": 1,
   "id": "8c004aa0-5f4a-4677-8d4d-11660f040596",
   "metadata": {},
   "outputs": [],
   "source": [
    "a_var = 4\n",
    "\n",
    "lista1 = [1, \"tromba\", [1,2,4], a_var]"
   ]
  },
  {
   "cell_type": "code",
   "execution_count": 2,
   "id": "77756554-555e-4014-b3ff-0c083db2b826",
   "metadata": {},
   "outputs": [
    {
     "data": {
      "text/plain": [
       "[1, 'tromba', [1, 2, 4], 4]"
      ]
     },
     "execution_count": 2,
     "metadata": {},
     "output_type": "execute_result"
    }
   ],
   "source": [
    "lista1"
   ]
  },
  {
   "cell_type": "code",
   "execution_count": 3,
   "id": "901ce9ff-780d-4c45-af10-25524b8756cb",
   "metadata": {},
   "outputs": [
    {
     "data": {
      "text/plain": [
       "[1, 'tromba']"
      ]
     },
     "execution_count": 3,
     "metadata": {},
     "output_type": "execute_result"
    }
   ],
   "source": [
    "lista1[:2]"
   ]
  },
  {
   "cell_type": "code",
   "execution_count": 4,
   "id": "05af93c0-542c-4993-843f-f005f682b15f",
   "metadata": {},
   "outputs": [
    {
     "data": {
      "text/plain": [
       "[1, 'tromba', [1, 2, 4]]"
      ]
     },
     "execution_count": 4,
     "metadata": {},
     "output_type": "execute_result"
    }
   ],
   "source": [
    "lista1[:-1]"
   ]
  },
  {
   "cell_type": "code",
   "execution_count": 5,
   "id": "56b47e55-18c0-48d9-9f45-dc0b137631c1",
   "metadata": {},
   "outputs": [],
   "source": [
    "lista1.append(10)"
   ]
  },
  {
   "cell_type": "code",
   "execution_count": 6,
   "id": "4ec21e3d-959a-4655-84b8-b8b9255a166e",
   "metadata": {},
   "outputs": [
    {
     "data": {
      "text/plain": [
       "[1, 'tromba', [1, 2, 4], 4, 10]"
      ]
     },
     "execution_count": 6,
     "metadata": {},
     "output_type": "execute_result"
    }
   ],
   "source": [
    "lista1"
   ]
  },
  {
   "cell_type": "code",
   "execution_count": 7,
   "id": "7fb9500e-5ff8-4261-ba88-c0ec89817313",
   "metadata": {},
   "outputs": [],
   "source": [
    "lista1[2] = \"tromba\""
   ]
  },
  {
   "cell_type": "code",
   "execution_count": 8,
   "id": "74837681-0957-4bd7-8798-0e189ff56387",
   "metadata": {},
   "outputs": [
    {
     "data": {
      "text/plain": [
       "[1, 'tromba', 'tromba', 4, 10]"
      ]
     },
     "execution_count": 8,
     "metadata": {},
     "output_type": "execute_result"
    }
   ],
   "source": [
    "lista1"
   ]
  },
  {
   "cell_type": "code",
   "execution_count": 9,
   "id": "6e46f726-3e28-4329-94c1-060470f76962",
   "metadata": {},
   "outputs": [
    {
     "data": {
      "text/plain": [
       "[1, 'tromba', 'tromba', 4, 10, 1, 2, 3]"
      ]
     },
     "execution_count": 9,
     "metadata": {},
     "output_type": "execute_result"
    }
   ],
   "source": [
    "lista1 + [1,2,3]"
   ]
  },
  {
   "cell_type": "code",
   "execution_count": 10,
   "id": "b7fb0888-bbbe-41ab-a327-b969209d6b84",
   "metadata": {},
   "outputs": [],
   "source": [
    "lista1 += [11,12,13]"
   ]
  },
  {
   "cell_type": "code",
   "execution_count": 11,
   "id": "b108bae9-3afc-4d7c-bac5-5ba4004d9fe3",
   "metadata": {},
   "outputs": [
    {
     "data": {
      "text/plain": [
       "[1, 'tromba', 'tromba', 4, 10, 11, 12, 13]"
      ]
     },
     "execution_count": 11,
     "metadata": {},
     "output_type": "execute_result"
    }
   ],
   "source": [
    "lista1"
   ]
  },
  {
   "cell_type": "code",
   "execution_count": 12,
   "id": "ccbc6524-443c-4179-be93-178de95ecc99",
   "metadata": {},
   "outputs": [
    {
     "data": {
      "text/plain": [
       "[2, 3, 6, 7, 8, 9, 22, 43, 45, 53, 98, 454]"
      ]
     },
     "execution_count": 12,
     "metadata": {},
     "output_type": "execute_result"
    }
   ],
   "source": [
    "nu1 = [3,45,6,7,8,98,9,454,53,43,2,22]\n",
    "\n",
    "sorted(nu1)"
   ]
  },
  {
   "cell_type": "code",
   "execution_count": 13,
   "id": "17582ac8-4454-4241-956f-49d16666ca1a",
   "metadata": {},
   "outputs": [],
   "source": [
    "nu1.sort()"
   ]
  },
  {
   "cell_type": "code",
   "execution_count": 14,
   "id": "f7bb386e-69e8-44d9-8f19-ebf823c92c1c",
   "metadata": {},
   "outputs": [
    {
     "data": {
      "text/plain": [
       "[2, 3, 6, 7, 8, 9, 22, 43, 45, 53, 98, 454]"
      ]
     },
     "execution_count": 14,
     "metadata": {},
     "output_type": "execute_result"
    }
   ],
   "source": [
    "nu1"
   ]
  },
  {
   "cell_type": "code",
   "execution_count": 15,
   "id": "c5801582-7ac4-48df-97be-b86918deb210",
   "metadata": {},
   "outputs": [],
   "source": [
    "tup = (\"satan\",234,56,7)"
   ]
  },
  {
   "cell_type": "code",
   "execution_count": 16,
   "id": "63238fa3-b4b5-4839-af07-871d3d875356",
   "metadata": {},
   "outputs": [
    {
     "data": {
      "text/plain": [
       "'satan'"
      ]
     },
     "execution_count": 16,
     "metadata": {},
     "output_type": "execute_result"
    }
   ],
   "source": [
    "tup[0]"
   ]
  },
  {
   "cell_type": "code",
   "execution_count": 17,
   "id": "025ca977-d906-412a-8a5f-eae497106bb8",
   "metadata": {},
   "outputs": [
    {
     "ename": "TypeError",
     "evalue": "'tuple' object does not support item assignment",
     "output_type": "error",
     "traceback": [
      "\u001b[1;31m---------------------------------------------------------------------------\u001b[0m",
      "\u001b[1;31mTypeError\u001b[0m                                 Traceback (most recent call last)",
      "Input \u001b[1;32mIn [17]\u001b[0m, in \u001b[0;36m<cell line: 1>\u001b[1;34m()\u001b[0m\n\u001b[1;32m----> 1\u001b[0m tup[\u001b[38;5;241m1\u001b[39m] \u001b[38;5;241m=\u001b[39m \u001b[38;5;241m5\u001b[39m\n",
      "\u001b[1;31mTypeError\u001b[0m: 'tuple' object does not support item assignment"
     ]
    }
   ],
   "source": [
    "tup[1] = 5"
   ]
  },
  {
   "cell_type": "code",
   "execution_count": 18,
   "id": "8f9718d7-b665-4941-b845-b70dddeff130",
   "metadata": {},
   "outputs": [],
   "source": [
    "emplo = {'Tromba':35,'Anna':45}"
   ]
  },
  {
   "cell_type": "code",
   "execution_count": 20,
   "id": "bd22d592-6fcb-4979-b6b5-a7d5002a23df",
   "metadata": {},
   "outputs": [],
   "source": [
    "emplo['SaThan'] = 666"
   ]
  },
  {
   "cell_type": "code",
   "execution_count": 21,
   "id": "6567b502-fadc-48b5-bb06-b2389962f48d",
   "metadata": {},
   "outputs": [
    {
     "data": {
      "text/plain": [
       "{'Tromba': 35, 'Anna': 45, 'SaThan': 666}"
      ]
     },
     "execution_count": 21,
     "metadata": {},
     "output_type": "execute_result"
    }
   ],
   "source": [
    "emplo"
   ]
  },
  {
   "cell_type": "code",
   "execution_count": 23,
   "id": "e6937fd0-290f-425c-986f-d0b27cf3296f",
   "metadata": {},
   "outputs": [
    {
     "data": {
      "text/plain": [
       "True"
      ]
     },
     "execution_count": 23,
     "metadata": {},
     "output_type": "execute_result"
    }
   ],
   "source": [
    "'SaThan' in emplo"
   ]
  },
  {
   "cell_type": "code",
   "execution_count": 24,
   "id": "0f5c97ec-ccf2-474f-bfd5-1d3d0455fca4",
   "metadata": {},
   "outputs": [],
   "source": [
    "del emplo ['Tromba']"
   ]
  },
  {
   "cell_type": "code",
   "execution_count": 25,
   "id": "9c784243-55b2-4803-ab07-eb21c7665db7",
   "metadata": {},
   "outputs": [
    {
     "data": {
      "text/plain": [
       "{'Anna': 45, 'SaThan': 666}"
      ]
     },
     "execution_count": 25,
     "metadata": {},
     "output_type": "execute_result"
    }
   ],
   "source": [
    "emplo"
   ]
  },
  {
   "cell_type": "code",
   "execution_count": 26,
   "id": "ecaa4962-e0e0-4880-a22c-c8fb564150c6",
   "metadata": {},
   "outputs": [
    {
     "data": {
      "text/plain": [
       "dict_items([('Anna', 45), ('SaThan', 666)])"
      ]
     },
     "execution_count": 26,
     "metadata": {},
     "output_type": "execute_result"
    }
   ],
   "source": [
    "emplo.items()"
   ]
  },
  {
   "cell_type": "code",
   "execution_count": 27,
   "id": "1b2694b2-9dd5-4b3c-90f9-cf6819dd71de",
   "metadata": {},
   "outputs": [],
   "source": [
    "emplo[tup] = 345"
   ]
  },
  {
   "cell_type": "code",
   "execution_count": 28,
   "id": "1ec86de5-8b0f-405f-9f8d-0cb0e79c4093",
   "metadata": {},
   "outputs": [
    {
     "data": {
      "text/plain": [
       "{'Anna': 45, 'SaThan': 666, ('satan', 234, 56, 7): 345}"
      ]
     },
     "execution_count": 28,
     "metadata": {},
     "output_type": "execute_result"
    }
   ],
   "source": [
    "emplo"
   ]
  },
  {
   "cell_type": "code",
   "execution_count": 30,
   "id": "66f840c5-8b97-46ea-bd16-630557911a4f",
   "metadata": {},
   "outputs": [],
   "source": [
    "palavras = set(['Minha', 'rola' ,'é', 'gigante', 'porém', 'não' ,'tanto', 'assim', 'porque', 'não', 'pode', 'ser', 'assim', 'e', 'palavras', 'repetidas', 'não', 'serão', 'printadas', 'no', 'conjunto', 'set', 'e'])"
   ]
  },
  {
   "cell_type": "code",
   "execution_count": 31,
   "id": "38f292d5-f057-4ef3-b074-a7424ee7b4de",
   "metadata": {},
   "outputs": [
    {
     "name": "stdout",
     "output_type": "stream",
     "text": [
      "{'tanto', 'e', 'printadas', 'set', 'não', 'repetidas', 'Minha', 'gigante', 'palavras', 'é', 'porém', 'porque', 'pode', 'ser', 'assim', 'rola', 'conjunto', 'serão', 'no'}\n"
     ]
    }
   ],
   "source": [
    "print(palavras)"
   ]
  },
  {
   "cell_type": "code",
   "execution_count": 33,
   "id": "04a5086b-ce08-4f82-ac85-9e6b14204daa",
   "metadata": {},
   "outputs": [
    {
     "data": {
      "text/plain": [
       "False"
      ]
     },
     "execution_count": 33,
     "metadata": {},
     "output_type": "execute_result"
    }
   ],
   "source": [
    "'galinah' in palavras"
   ]
  },
  {
   "cell_type": "code",
   "execution_count": 41,
   "id": "607f4914-a78b-4fca-8e43-158a88a11b0c",
   "metadata": {},
   "outputs": [],
   "source": [
    "nu2 = set([2,3,4,4,5,56,7,8,8,'rola' ,'é', 'gigante', 'porém', 'não' ,'tanto',])"
   ]
  },
  {
   "cell_type": "code",
   "execution_count": 37,
   "id": "c828803a-e1e4-422e-9d9a-f1a3cf665f8d",
   "metadata": {},
   "outputs": [
    {
     "data": {
      "text/plain": [
       "{'Minha',\n",
       " 'assim',\n",
       " 'conjunto',\n",
       " 'e',\n",
       " 'gigante',\n",
       " 'no',\n",
       " 'não',\n",
       " 'palavras',\n",
       " 'pode',\n",
       " 'porque',\n",
       " 'porém',\n",
       " 'printadas',\n",
       " 'repetidas',\n",
       " 'rola',\n",
       " 'ser',\n",
       " 'serão',\n",
       " 'set',\n",
       " 'tanto',\n",
       " 'é'}"
      ]
     },
     "execution_count": 37,
     "metadata": {},
     "output_type": "execute_result"
    }
   ],
   "source": [
    "palavras - nu2#Difference"
   ]
  },
  {
   "cell_type": "code",
   "execution_count": 38,
   "id": "95463574-3196-4bfc-89f3-db4291a1199f",
   "metadata": {},
   "outputs": [
    {
     "data": {
      "text/plain": [
       "{2, 3, 4, 5, 7, 8, 56}"
      ]
     },
     "execution_count": 38,
     "metadata": {},
     "output_type": "execute_result"
    }
   ],
   "source": [
    "nu2 - palavras"
   ]
  },
  {
   "cell_type": "code",
   "execution_count": 39,
   "id": "cfb38df8-2749-460d-b153-8aba3af58347",
   "metadata": {},
   "outputs": [
    {
     "data": {
      "text/plain": [
       "{2,\n",
       " 3,\n",
       " 4,\n",
       " 5,\n",
       " 56,\n",
       " 7,\n",
       " 8,\n",
       " 'Minha',\n",
       " 'assim',\n",
       " 'conjunto',\n",
       " 'e',\n",
       " 'gigante',\n",
       " 'no',\n",
       " 'não',\n",
       " 'palavras',\n",
       " 'pode',\n",
       " 'porque',\n",
       " 'porém',\n",
       " 'printadas',\n",
       " 'repetidas',\n",
       " 'rola',\n",
       " 'ser',\n",
       " 'serão',\n",
       " 'set',\n",
       " 'tanto',\n",
       " 'é'}"
      ]
     },
     "execution_count": 39,
     "metadata": {},
     "output_type": "execute_result"
    }
   ],
   "source": [
    "nu2 | palavras #Union"
   ]
  },
  {
   "cell_type": "code",
   "execution_count": 42,
   "id": "68686f5b-a7ab-4d0a-91f3-e5733196e17c",
   "metadata": {},
   "outputs": [
    {
     "data": {
      "text/plain": [
       "{'gigante', 'não', 'porém', 'rola', 'tanto', 'é'}"
      ]
     },
     "execution_count": 42,
     "metadata": {},
     "output_type": "execute_result"
    }
   ],
   "source": [
    "nu2 & palavras#Intersection"
   ]
  },
  {
   "cell_type": "code",
   "execution_count": 45,
   "id": "f45f264d-4e51-484f-bd9a-893055bcdf25",
   "metadata": {},
   "outputs": [
    {
     "data": {
      "text/plain": [
       "'Numbers work'"
      ]
     },
     "execution_count": 45,
     "metadata": {},
     "output_type": "execute_result"
    }
   ],
   "source": [
    "'Numbers work' if 666 == 666 else 'Sadly,this shit is not working!'#ternary operator!"
   ]
  },
  {
   "cell_type": "code",
   "execution_count": 46,
   "id": "e10f6dd8-5c06-41bd-8aea-93a4b5786c84",
   "metadata": {},
   "outputs": [
    {
     "name": "stdout",
     "output_type": "stream",
     "text": [
      "8\n",
      "9\n",
      "22\n",
      "43\n",
      "45\n",
      "53\n",
      "98\n",
      "454\n"
     ]
    }
   ],
   "source": [
    "for i in nu1[4:]:\n",
    "    print(i)"
   ]
  },
  {
   "cell_type": "code",
   "execution_count": 47,
   "id": "a75e6080-1f64-4fd0-84e3-f06754c4926a",
   "metadata": {},
   "outputs": [
    {
     "name": "stdout",
     "output_type": "stream",
     "text": [
      "2\n",
      "3\n",
      "6\n"
     ]
    }
   ],
   "source": [
    "for idx in range(3):\n",
    "    print(nu1[idx])"
   ]
  },
  {
   "cell_type": "code",
   "execution_count": null,
   "id": "f0b917b4-1392-4517-9515-84ec50fca329",
   "metadata": {},
   "outputs": [],
   "source": []
  },
  {
   "cell_type": "code",
   "execution_count": null,
   "id": "0b23129e-d786-462a-a7a8-c8e64a11512b",
   "metadata": {},
   "outputs": [],
   "source": []
  },
  {
   "cell_type": "code",
   "execution_count": null,
   "id": "324a3b33-9aa4-4a4a-a158-8cb0d862b687",
   "metadata": {},
   "outputs": [],
   "source": []
  },
  {
   "cell_type": "code",
   "execution_count": null,
   "id": "3bd53bef-4a5d-47a3-931a-c49b2b560577",
   "metadata": {},
   "outputs": [],
   "source": []
  },
  {
   "cell_type": "code",
   "execution_count": null,
   "id": "5b980180-a2c0-4687-987f-d91a51713c6b",
   "metadata": {},
   "outputs": [],
   "source": []
  },
  {
   "cell_type": "code",
   "execution_count": null,
   "id": "14f73557-73a1-42d7-9524-b17116ff6c02",
   "metadata": {},
   "outputs": [],
   "source": []
  },
  {
   "cell_type": "code",
   "execution_count": null,
   "id": "0980fc3e-2cab-4638-bc91-3f2ed8dde954",
   "metadata": {},
   "outputs": [],
   "source": []
  },
  {
   "cell_type": "code",
   "execution_count": null,
   "id": "06f9cefc-d87d-4c28-ba7e-b8609c67d40d",
   "metadata": {},
   "outputs": [],
   "source": []
  },
  {
   "cell_type": "code",
   "execution_count": null,
   "id": "6193d7e0-4b6b-47d1-aa17-ec3609a1fbe2",
   "metadata": {},
   "outputs": [],
   "source": []
  },
  {
   "cell_type": "code",
   "execution_count": null,
   "id": "24c9246a-3662-4f3b-ad1d-e82471d34600",
   "metadata": {},
   "outputs": [],
   "source": []
  },
  {
   "cell_type": "code",
   "execution_count": null,
   "id": "74836492-ef86-4611-bb76-c71dd3de3db8",
   "metadata": {},
   "outputs": [],
   "source": []
  }
 ],
 "metadata": {
  "kernelspec": {
   "display_name": "Python 3 (ipykernel)",
   "language": "python",
   "name": "python3"
  },
  "language_info": {
   "codemirror_mode": {
    "name": "ipython",
    "version": 3
   },
   "file_extension": ".py",
   "mimetype": "text/x-python",
   "name": "python",
   "nbconvert_exporter": "python",
   "pygments_lexer": "ipython3",
   "version": "3.9.12"
  },
  "widgets": {
   "application/vnd.jupyter.widget-state+json": {
    "state": {},
    "version_major": 2,
    "version_minor": 0
   }
  }
 },
 "nbformat": 4,
 "nbformat_minor": 5
}
