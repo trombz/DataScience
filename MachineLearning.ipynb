{
  "nbformat": 4,
  "nbformat_minor": 0,
  "metadata": {
    "colab": {
      "name": "MachineLearning.ipynb",
      "provenance": [],
      "collapsed_sections": [],
      "authorship_tag": "ABX9TyMxUglEJ7uLwa3a85AQAQ5G",
      "include_colab_link": true
    },
    "kernelspec": {
      "name": "python3",
      "display_name": "Python 3"
    },
    "language_info": {
      "name": "python"
    }
  },
  "cells": [
    {
      "cell_type": "markdown",
      "metadata": {
        "id": "view-in-github",
        "colab_type": "text"
      },
      "source": [
        "<a href=\"https://colab.research.google.com/github/trombz/DataScience/blob/main/MachineLearning.ipynb\" target=\"_parent\"><img src=\"https://colab.research.google.com/assets/colab-badge.svg\" alt=\"Open In Colab\"/></a>"
      ]
    },
    {
      "cell_type": "code",
      "source": [
        "x = 25\n",
        "x"
      ],
      "metadata": {
        "colab": {
          "base_uri": "https://localhost:8080/"
        },
        "id": "JBDL-54DxexS",
        "outputId": "0a491a90-b326-4323-8ef8-b1afe1c19a7c"
      },
      "execution_count": null,
      "outputs": [
        {
          "output_type": "execute_result",
          "data": {
            "text/plain": [
              "25"
            ]
          },
          "metadata": {},
          "execution_count": 2
        }
      ]
    },
    {
      "cell_type": "code",
      "source": [
        "type(x)"
      ],
      "metadata": {
        "colab": {
          "base_uri": "https://localhost:8080/"
        },
        "id": "pnjJoHKQxeln",
        "outputId": "b5129567-a5cd-4a78-c007-c3ac6f51b47f"
      },
      "execution_count": null,
      "outputs": [
        {
          "output_type": "execute_result",
          "data": {
            "text/plain": [
              "int"
            ]
          },
          "metadata": {},
          "execution_count": 3
        }
      ]
    },
    {
      "cell_type": "code",
      "source": [
        "y = 3"
      ],
      "metadata": {
        "id": "4R5C-ConxzHI"
      },
      "execution_count": null,
      "outputs": []
    },
    {
      "cell_type": "code",
      "source": [
        "py_sum = x+y\n",
        "py_sum"
      ],
      "metadata": {
        "colab": {
          "base_uri": "https://localhost:8080/"
        },
        "id": "2RVgsdp2xzEX",
        "outputId": "9d9fe6db-95a7-4d06-d260-24b04f9b0a84"
      },
      "execution_count": null,
      "outputs": [
        {
          "output_type": "execute_result",
          "data": {
            "text/plain": [
              "28"
            ]
          },
          "metadata": {},
          "execution_count": 6
        }
      ]
    },
    {
      "cell_type": "code",
      "source": [
        "type(py_sum)"
      ],
      "metadata": {
        "colab": {
          "base_uri": "https://localhost:8080/"
        },
        "id": "0uUf1EDpxzB1",
        "outputId": "5dcae41c-4df4-436c-ad95-0d8e69738bae"
      },
      "execution_count": null,
      "outputs": [
        {
          "output_type": "execute_result",
          "data": {
            "text/plain": [
              "int"
            ]
          },
          "metadata": {},
          "execution_count": 7
        }
      ]
    },
    {
      "cell_type": "code",
      "source": [
        "x_float = 25.0\n",
        "float_sum = x_float + y\n",
        "float_sum"
      ],
      "metadata": {
        "colab": {
          "base_uri": "https://localhost:8080/"
        },
        "id": "OTq7Uo3Qxy_c",
        "outputId": "c6a209b3-6f5a-4b34-f214-7f48527450d8"
      },
      "execution_count": null,
      "outputs": [
        {
          "output_type": "execute_result",
          "data": {
            "text/plain": [
              "28.0"
            ]
          },
          "metadata": {},
          "execution_count": 8
        }
      ]
    },
    {
      "cell_type": "code",
      "source": [
        "type(float_sum)"
      ],
      "metadata": {
        "colab": {
          "base_uri": "https://localhost:8080/"
        },
        "id": "8uQ3EO1Hxy9D",
        "outputId": "d6004809-358b-4041-ed3f-f603816a87f8"
      },
      "execution_count": null,
      "outputs": [
        {
          "output_type": "execute_result",
          "data": {
            "text/plain": [
              "float"
            ]
          },
          "metadata": {},
          "execution_count": 9
        }
      ]
    },
    {
      "cell_type": "code",
      "source": [
        "import torch\n",
        "xxx = torch.tensor(25)\n",
        "xxx"
      ],
      "metadata": {
        "colab": {
          "base_uri": "https://localhost:8080/"
        },
        "id": "OM6BmHf-xy6Z",
        "outputId": "7cf953ac-e900-47b4-d322-a07a28e6ec5a"
      },
      "execution_count": null,
      "outputs": [
        {
          "output_type": "execute_result",
          "data": {
            "text/plain": [
              "tensor(25)"
            ]
          },
          "metadata": {},
          "execution_count": 10
        }
      ]
    },
    {
      "cell_type": "code",
      "source": [
        "xxx.shape"
      ],
      "metadata": {
        "colab": {
          "base_uri": "https://localhost:8080/"
        },
        "id": "yQlc7As0xy33",
        "outputId": "589d7491-487a-449a-bd18-814d73080df0"
      },
      "execution_count": null,
      "outputs": [
        {
          "output_type": "execute_result",
          "data": {
            "text/plain": [
              "torch.Size([])"
            ]
          },
          "metadata": {},
          "execution_count": 11
        }
      ]
    },
    {
      "cell_type": "code",
      "source": [
        "import tensorflow as tf"
      ],
      "metadata": {
        "id": "EfgTTlSdxy1X"
      },
      "execution_count": null,
      "outputs": []
    },
    {
      "cell_type": "code",
      "source": [
        "xxx_tf = tf.Variable(25, dtype=tf.int32)\n",
        "xxx_tf"
      ],
      "metadata": {
        "colab": {
          "base_uri": "https://localhost:8080/"
        },
        "id": "1k8HxFLIxyyz",
        "outputId": "0f696078-7f49-4b79-9520-4b764843a332"
      },
      "execution_count": null,
      "outputs": [
        {
          "output_type": "execute_result",
          "data": {
            "text/plain": [
              "<tf.Variable 'Variable:0' shape=() dtype=int32, numpy=25>"
            ]
          },
          "metadata": {},
          "execution_count": 13
        }
      ]
    },
    {
      "cell_type": "code",
      "source": [
        "xxx.shape"
      ],
      "metadata": {
        "colab": {
          "base_uri": "https://localhost:8080/"
        },
        "id": "lsIiAPDXxywS",
        "outputId": "a94f038f-4c5e-4f05-87f7-86e34ee92e61"
      },
      "execution_count": null,
      "outputs": [
        {
          "output_type": "execute_result",
          "data": {
            "text/plain": [
              "torch.Size([])"
            ]
          },
          "metadata": {},
          "execution_count": 14
        }
      ]
    },
    {
      "cell_type": "code",
      "source": [
        "yyy_tf = tf.Variable(3, dtype=tf.int32)"
      ],
      "metadata": {
        "id": "891r3m8Qxyty"
      },
      "execution_count": null,
      "outputs": []
    },
    {
      "cell_type": "code",
      "source": [
        "xxx_tf + yyy_tf"
      ],
      "metadata": {
        "colab": {
          "base_uri": "https://localhost:8080/"
        },
        "id": "Myy7K-CixyrT",
        "outputId": "badb50ed-73c5-422a-9563-b5ab9b4e42d0"
      },
      "execution_count": null,
      "outputs": [
        {
          "output_type": "execute_result",
          "data": {
            "text/plain": [
              "<tf.Tensor: shape=(), dtype=int32, numpy=28>"
            ]
          },
          "metadata": {},
          "execution_count": 16
        }
      ]
    },
    {
      "cell_type": "code",
      "source": [
        "soma = xxx_tf + yyy_tf\n",
        "soma"
      ],
      "metadata": {
        "colab": {
          "base_uri": "https://localhost:8080/"
        },
        "id": "cQfyGOH-xyo-",
        "outputId": "f3f2ecec-d5e6-4363-86e6-773439179b44"
      },
      "execution_count": null,
      "outputs": [
        {
          "output_type": "execute_result",
          "data": {
            "text/plain": [
              "<tf.Tensor: shape=(), dtype=int32, numpy=28>"
            ]
          },
          "metadata": {},
          "execution_count": 18
        }
      ]
    },
    {
      "cell_type": "code",
      "source": [
        "soma.numpy()"
      ],
      "metadata": {
        "colab": {
          "base_uri": "https://localhost:8080/"
        },
        "id": "kQlczX1DxymZ",
        "outputId": "85b40840-d141-409e-c30b-e3138693557a"
      },
      "execution_count": null,
      "outputs": [
        {
          "output_type": "execute_result",
          "data": {
            "text/plain": [
              "28"
            ]
          },
          "metadata": {},
          "execution_count": 19
        }
      ]
    },
    {
      "cell_type": "code",
      "source": [
        "type(soma.numpy())"
      ],
      "metadata": {
        "colab": {
          "base_uri": "https://localhost:8080/"
        },
        "id": "MhiDXUiJxykB",
        "outputId": "75881c3a-e02f-40b3-f3f6-ed825560853c"
      },
      "execution_count": null,
      "outputs": [
        {
          "output_type": "execute_result",
          "data": {
            "text/plain": [
              "numpy.int32"
            ]
          },
          "metadata": {},
          "execution_count": 21
        }
      ]
    },
    {
      "cell_type": "code",
      "source": [
        "xxxf_tf = tf.Variable(25, dtype=tf.float32)\n",
        "xxxf_tf"
      ],
      "metadata": {
        "colab": {
          "base_uri": "https://localhost:8080/"
        },
        "id": "o82o-pb6xyhd",
        "outputId": "0dc66026-058a-44a4-ddad-d989e2f07433"
      },
      "execution_count": null,
      "outputs": [
        {
          "output_type": "execute_result",
          "data": {
            "text/plain": [
              "<tf.Variable 'Variable:0' shape=() dtype=float32, numpy=25.0>"
            ]
          },
          "metadata": {},
          "execution_count": 23
        }
      ]
    },
    {
      "cell_type": "code",
      "source": [
        "Hey"
      ],
      "metadata": {
        "id": "utItJWMLxye_"
      },
      "execution_count": null,
      "outputs": []
    },
    {
      "cell_type": "code",
      "source": [
        ""
      ],
      "metadata": {
        "id": "fBW_9-e4xycs"
      },
      "execution_count": null,
      "outputs": []
    },
    {
      "cell_type": "code",
      "source": [
        "import nltk\n",
        "\n",
        "sentence = \"I'm not feeling so well today\"\n",
        "\n",
        "tokens = nltk.word_tokenize(sentence)\n",
        "tokens\n",
        "[\"I'm\",'not','feeling','so','well','today']\n",
        "\n",
        "tagged = ntlk.pos_tag(tokens)\n",
        "tagged[0:6]\n",
        "[(\"I'm\",'IN'),('not','CD'),('feeling','JJ'),('so','IN'),('well','NNP'),('today','NN')]\n",
        "\n",
        "entities = nltk.chunk.ne_chunk(tagged)\n",
        "entities\n",
        "Tree('S',[(\"I'm\",'IN'),('not','CD'),('feeling','JJ'),Tree('so','IN'),('well','NNP'),('today','NN')])\n",
        "\n",
        "from ntlk.corpus import treebank\n",
        "\n",
        "t = treebank.parsed_sents('wsj_001.mrg')[0]\n",
        "\n",
        "t.draw()"
      ],
      "metadata": {
        "id": "OpBo5FmWxyaP",
        "colab": {
          "base_uri": "https://localhost:8080/",
          "height": 675
        },
        "outputId": "00aa6ea4-2c8f-4432-d7f0-51678f162b12"
      },
      "execution_count": null,
      "outputs": [
        {
          "output_type": "error",
          "ename": "LookupError",
          "evalue": "ignored",
          "traceback": [
            "\u001b[0;31m---------------------------------------------------------------------------\u001b[0m",
            "\u001b[0;31mLookupError\u001b[0m                               Traceback (most recent call last)",
            "\u001b[0;32m<ipython-input-1-3ff88bc93d65>\u001b[0m in \u001b[0;36m<module>\u001b[0;34m()\u001b[0m\n\u001b[1;32m      3\u001b[0m \u001b[0msentence\u001b[0m \u001b[0;34m=\u001b[0m \u001b[0;34m\"I'm not feeling so well today\"\u001b[0m\u001b[0;34m\u001b[0m\u001b[0;34m\u001b[0m\u001b[0m\n\u001b[1;32m      4\u001b[0m \u001b[0;34m\u001b[0m\u001b[0m\n\u001b[0;32m----> 5\u001b[0;31m \u001b[0mtokens\u001b[0m \u001b[0;34m=\u001b[0m \u001b[0mnltk\u001b[0m\u001b[0;34m.\u001b[0m\u001b[0mword_tokenize\u001b[0m\u001b[0;34m(\u001b[0m\u001b[0msentence\u001b[0m\u001b[0;34m)\u001b[0m\u001b[0;34m\u001b[0m\u001b[0;34m\u001b[0m\u001b[0m\n\u001b[0m\u001b[1;32m      6\u001b[0m \u001b[0mtokens\u001b[0m\u001b[0;34m\u001b[0m\u001b[0;34m\u001b[0m\u001b[0m\n\u001b[1;32m      7\u001b[0m \u001b[0;34m[\u001b[0m\u001b[0;34m\"I'm\"\u001b[0m\u001b[0;34m,\u001b[0m\u001b[0;34m'not'\u001b[0m\u001b[0;34m,\u001b[0m\u001b[0;34m'feeling'\u001b[0m\u001b[0;34m,\u001b[0m\u001b[0;34m'so'\u001b[0m\u001b[0;34m,\u001b[0m\u001b[0;34m'well'\u001b[0m\u001b[0;34m,\u001b[0m\u001b[0;34m'today'\u001b[0m\u001b[0;34m]\u001b[0m\u001b[0;34m\u001b[0m\u001b[0;34m\u001b[0m\u001b[0m\n",
            "\u001b[0;32m/usr/local/lib/python3.7/dist-packages/nltk/tokenize/__init__.py\u001b[0m in \u001b[0;36mword_tokenize\u001b[0;34m(text, language, preserve_line)\u001b[0m\n\u001b[1;32m    126\u001b[0m     \u001b[0;34m:\u001b[0m\u001b[0mtype\u001b[0m \u001b[0mpreserver_line\u001b[0m\u001b[0;34m:\u001b[0m \u001b[0mbool\u001b[0m\u001b[0;34m\u001b[0m\u001b[0;34m\u001b[0m\u001b[0m\n\u001b[1;32m    127\u001b[0m     \"\"\"\n\u001b[0;32m--> 128\u001b[0;31m     \u001b[0msentences\u001b[0m \u001b[0;34m=\u001b[0m \u001b[0;34m[\u001b[0m\u001b[0mtext\u001b[0m\u001b[0;34m]\u001b[0m \u001b[0;32mif\u001b[0m \u001b[0mpreserve_line\u001b[0m \u001b[0;32melse\u001b[0m \u001b[0msent_tokenize\u001b[0m\u001b[0;34m(\u001b[0m\u001b[0mtext\u001b[0m\u001b[0;34m,\u001b[0m \u001b[0mlanguage\u001b[0m\u001b[0;34m)\u001b[0m\u001b[0;34m\u001b[0m\u001b[0;34m\u001b[0m\u001b[0m\n\u001b[0m\u001b[1;32m    129\u001b[0m     return [token for sent in sentences\n\u001b[1;32m    130\u001b[0m             for token in _treebank_word_tokenizer.tokenize(sent)]\n",
            "\u001b[0;32m/usr/local/lib/python3.7/dist-packages/nltk/tokenize/__init__.py\u001b[0m in \u001b[0;36msent_tokenize\u001b[0;34m(text, language)\u001b[0m\n\u001b[1;32m     92\u001b[0m     \u001b[0;34m:\u001b[0m\u001b[0mparam\u001b[0m \u001b[0mlanguage\u001b[0m\u001b[0;34m:\u001b[0m \u001b[0mthe\u001b[0m \u001b[0mmodel\u001b[0m \u001b[0mname\u001b[0m \u001b[0;32min\u001b[0m \u001b[0mthe\u001b[0m \u001b[0mPunkt\u001b[0m \u001b[0mcorpus\u001b[0m\u001b[0;34m\u001b[0m\u001b[0;34m\u001b[0m\u001b[0m\n\u001b[1;32m     93\u001b[0m     \"\"\"\n\u001b[0;32m---> 94\u001b[0;31m     \u001b[0mtokenizer\u001b[0m \u001b[0;34m=\u001b[0m \u001b[0mload\u001b[0m\u001b[0;34m(\u001b[0m\u001b[0;34m'tokenizers/punkt/{0}.pickle'\u001b[0m\u001b[0;34m.\u001b[0m\u001b[0mformat\u001b[0m\u001b[0;34m(\u001b[0m\u001b[0mlanguage\u001b[0m\u001b[0;34m)\u001b[0m\u001b[0;34m)\u001b[0m\u001b[0;34m\u001b[0m\u001b[0;34m\u001b[0m\u001b[0m\n\u001b[0m\u001b[1;32m     95\u001b[0m     \u001b[0;32mreturn\u001b[0m \u001b[0mtokenizer\u001b[0m\u001b[0;34m.\u001b[0m\u001b[0mtokenize\u001b[0m\u001b[0;34m(\u001b[0m\u001b[0mtext\u001b[0m\u001b[0;34m)\u001b[0m\u001b[0;34m\u001b[0m\u001b[0;34m\u001b[0m\u001b[0m\n\u001b[1;32m     96\u001b[0m \u001b[0;34m\u001b[0m\u001b[0m\n",
            "\u001b[0;32m/usr/local/lib/python3.7/dist-packages/nltk/data.py\u001b[0m in \u001b[0;36mload\u001b[0;34m(resource_url, format, cache, verbose, logic_parser, fstruct_reader, encoding)\u001b[0m\n\u001b[1;32m    832\u001b[0m \u001b[0;34m\u001b[0m\u001b[0m\n\u001b[1;32m    833\u001b[0m     \u001b[0;31m# Load the resource.\u001b[0m\u001b[0;34m\u001b[0m\u001b[0;34m\u001b[0m\u001b[0;34m\u001b[0m\u001b[0m\n\u001b[0;32m--> 834\u001b[0;31m     \u001b[0mopened_resource\u001b[0m \u001b[0;34m=\u001b[0m \u001b[0m_open\u001b[0m\u001b[0;34m(\u001b[0m\u001b[0mresource_url\u001b[0m\u001b[0;34m)\u001b[0m\u001b[0;34m\u001b[0m\u001b[0;34m\u001b[0m\u001b[0m\n\u001b[0m\u001b[1;32m    835\u001b[0m \u001b[0;34m\u001b[0m\u001b[0m\n\u001b[1;32m    836\u001b[0m     \u001b[0;32mif\u001b[0m \u001b[0mformat\u001b[0m \u001b[0;34m==\u001b[0m \u001b[0;34m'raw'\u001b[0m\u001b[0;34m:\u001b[0m\u001b[0;34m\u001b[0m\u001b[0;34m\u001b[0m\u001b[0m\n",
            "\u001b[0;32m/usr/local/lib/python3.7/dist-packages/nltk/data.py\u001b[0m in \u001b[0;36m_open\u001b[0;34m(resource_url)\u001b[0m\n\u001b[1;32m    950\u001b[0m \u001b[0;34m\u001b[0m\u001b[0m\n\u001b[1;32m    951\u001b[0m     \u001b[0;32mif\u001b[0m \u001b[0mprotocol\u001b[0m \u001b[0;32mis\u001b[0m \u001b[0;32mNone\u001b[0m \u001b[0;32mor\u001b[0m \u001b[0mprotocol\u001b[0m\u001b[0;34m.\u001b[0m\u001b[0mlower\u001b[0m\u001b[0;34m(\u001b[0m\u001b[0;34m)\u001b[0m \u001b[0;34m==\u001b[0m \u001b[0;34m'nltk'\u001b[0m\u001b[0;34m:\u001b[0m\u001b[0;34m\u001b[0m\u001b[0;34m\u001b[0m\u001b[0m\n\u001b[0;32m--> 952\u001b[0;31m         \u001b[0;32mreturn\u001b[0m \u001b[0mfind\u001b[0m\u001b[0;34m(\u001b[0m\u001b[0mpath_\u001b[0m\u001b[0;34m,\u001b[0m \u001b[0mpath\u001b[0m \u001b[0;34m+\u001b[0m \u001b[0;34m[\u001b[0m\u001b[0;34m''\u001b[0m\u001b[0;34m]\u001b[0m\u001b[0;34m)\u001b[0m\u001b[0;34m.\u001b[0m\u001b[0mopen\u001b[0m\u001b[0;34m(\u001b[0m\u001b[0;34m)\u001b[0m\u001b[0;34m\u001b[0m\u001b[0;34m\u001b[0m\u001b[0m\n\u001b[0m\u001b[1;32m    953\u001b[0m     \u001b[0;32melif\u001b[0m \u001b[0mprotocol\u001b[0m\u001b[0;34m.\u001b[0m\u001b[0mlower\u001b[0m\u001b[0;34m(\u001b[0m\u001b[0;34m)\u001b[0m \u001b[0;34m==\u001b[0m \u001b[0;34m'file'\u001b[0m\u001b[0;34m:\u001b[0m\u001b[0;34m\u001b[0m\u001b[0;34m\u001b[0m\u001b[0m\n\u001b[1;32m    954\u001b[0m         \u001b[0;31m# urllib might not use mode='rb', so handle this one ourselves:\u001b[0m\u001b[0;34m\u001b[0m\u001b[0;34m\u001b[0m\u001b[0;34m\u001b[0m\u001b[0m\n",
            "\u001b[0;32m/usr/local/lib/python3.7/dist-packages/nltk/data.py\u001b[0m in \u001b[0;36mfind\u001b[0;34m(resource_name, paths)\u001b[0m\n\u001b[1;32m    671\u001b[0m     \u001b[0msep\u001b[0m \u001b[0;34m=\u001b[0m \u001b[0;34m'*'\u001b[0m \u001b[0;34m*\u001b[0m \u001b[0;36m70\u001b[0m\u001b[0;34m\u001b[0m\u001b[0;34m\u001b[0m\u001b[0m\n\u001b[1;32m    672\u001b[0m     \u001b[0mresource_not_found\u001b[0m \u001b[0;34m=\u001b[0m \u001b[0;34m'\\n%s\\n%s\\n%s\\n'\u001b[0m \u001b[0;34m%\u001b[0m \u001b[0;34m(\u001b[0m\u001b[0msep\u001b[0m\u001b[0;34m,\u001b[0m \u001b[0mmsg\u001b[0m\u001b[0;34m,\u001b[0m \u001b[0msep\u001b[0m\u001b[0;34m)\u001b[0m\u001b[0;34m\u001b[0m\u001b[0;34m\u001b[0m\u001b[0m\n\u001b[0;32m--> 673\u001b[0;31m     \u001b[0;32mraise\u001b[0m \u001b[0mLookupError\u001b[0m\u001b[0;34m(\u001b[0m\u001b[0mresource_not_found\u001b[0m\u001b[0;34m)\u001b[0m\u001b[0;34m\u001b[0m\u001b[0;34m\u001b[0m\u001b[0m\n\u001b[0m\u001b[1;32m    674\u001b[0m \u001b[0;34m\u001b[0m\u001b[0m\n\u001b[1;32m    675\u001b[0m \u001b[0;34m\u001b[0m\u001b[0m\n",
            "\u001b[0;31mLookupError\u001b[0m: \n**********************************************************************\n  Resource \u001b[93mpunkt\u001b[0m not found.\n  Please use the NLTK Downloader to obtain the resource:\n\n  \u001b[31m>>> import nltk\n  >>> nltk.download('punkt')\n  \u001b[0m\n  Searched in:\n    - '/root/nltk_data'\n    - '/usr/share/nltk_data'\n    - '/usr/local/share/nltk_data'\n    - '/usr/lib/nltk_data'\n    - '/usr/local/lib/nltk_data'\n    - '/usr/nltk_data'\n    - '/usr/lib/nltk_data'\n    - ''\n**********************************************************************\n"
          ]
        }
      ]
    },
    {
      "cell_type": "code",
      "source": [
        "\n"
      ],
      "metadata": {
        "id": "YunEd6kkxyXn"
      },
      "execution_count": null,
      "outputs": []
    },
    {
      "cell_type": "code",
      "source": [
        ""
      ],
      "metadata": {
        "id": "Wxd_e6T5xyU2",
        "colab": {
          "base_uri": "https://localhost:8080/"
        },
        "outputId": "b7f635c2-865d-468a-c574-f1daca8568bb"
      },
      "execution_count": null,
      "outputs": [
        {
          "output_type": "stream",
          "name": "stdout",
          "text": [
            "Looking in indexes: https://pypi.org/simple, https://us-python.pkg.dev/colab-wheels/public/simple/\n",
            "Requirement already satisfied: BeautifulSoup4 in /usr/local/lib/python3.7/dist-packages (4.6.3)\n"
          ]
        }
      ]
    },
    {
      "cell_type": "code",
      "source": [
        "import requests\n",
        "\n",
        "from bs4 import BeautifulSoup\n",
        " \n",
        "\n",
        "URL = \"http://www.values.com/inspirational-quotes\"\n",
        "\n",
        "r = requests.get(URL)\n",
        " \n",
        "\n",
        "soup = BeautifulSoup(r.content, 'html5lib') # If this line causes an error, run 'pip install html5lib' or install html5lib\n",
        "\n",
        "print(soup.prettify())"
      ],
      "metadata": {
        "id": "SdXCnfxdxySj",
        "colab": {
          "base_uri": "https://localhost:8080/"
        },
        "outputId": "ba652f5c-4394-4611-9b3d-21f964a054ac"
      },
      "execution_count": null,
      "outputs": [
        {
          "output_type": "stream",
          "name": "stderr",
          "text": [
            "/usr/local/lib/python3.7/dist-packages/requests/__init__.py:91: RequestsDependencyWarning: urllib3 (1.26.9) or chardet (3.0.4) doesn't match a supported version!\n",
            "  RequestsDependencyWarning)\n"
          ]
        },
        {
          "output_type": "stream",
          "name": "stdout",
          "text": [
            "<!DOCTYPE html>\n",
            "<html class=\"no-js\" dir=\"ltr\" lang=\"en-US\">\n",
            " <head>\n",
            "  <title>\n",
            "   Inspirational Quotes - Motivational Quotes - Leadership Quotes | PassItOn.com\n",
            "  </title>\n",
            "  <meta charset=\"utf-8\"/>\n",
            "  <meta content=\"text/html; charset=utf-8\" http-equiv=\"content-type\"/>\n",
            "  <meta content=\"IE=edge\" http-equiv=\"X-UA-Compatible\"/>\n",
            "  <meta content=\"width=device-width,initial-scale=1.0\" name=\"viewport\"/>\n",
            "  <meta content=\"The Foundation for a Better Life | Pass It On.com\" name=\"description\"/>\n",
            "  <link href=\"/apple-touch-icon.png\" rel=\"apple-touch-icon\" sizes=\"180x180\"/>\n",
            "  <link href=\"/favicon-32x32.png\" rel=\"icon\" sizes=\"32x32\" type=\"image/png\"/>\n",
            "  <link href=\"/favicon-16x16.png\" rel=\"icon\" sizes=\"16x16\" type=\"image/png\"/>\n",
            "  <link href=\"/site.webmanifest\" rel=\"manifest\"/>\n",
            "  <link color=\"#c8102e\" href=\"/safari-pinned-tab.svg\" rel=\"mask-icon\"/>\n",
            "  <meta content=\"#c8102e\" name=\"msapplication-TileColor\"/>\n",
            "  <meta content=\"#ffffff\" name=\"theme-color\"/>\n",
            "  <link crossorigin=\"anonymous\" href=\"https://stackpath.bootstrapcdn.com/bootstrap/4.3.1/css/bootstrap.min.css\" integrity=\"sha384-ggOyR0iXCbMQv3Xipma34MD+dH/1fQ784/j6cY/iJTQUOhcWr7x9JvoRxT2MZw1T\" rel=\"stylesheet\"/>\n",
            "  <link href=\"/assets/application-2a7a8e6a1c3f620bac9efa66420f5579.css\" media=\"all\" rel=\"stylesheet\"/>\n",
            "  <meta content=\"authenticity_token\" name=\"csrf-param\"/>\n",
            "  <meta content=\"G9v9/99W6jnS43yHYXBWIi7jHPH2XwrU2VeDmPrEcn97WgyBy1gH5VzWv9I4UEOMDCXvw23Ey1cTzhZLXyE1tQ==\" name=\"csrf-token\"/>\n",
            "  <!-- Global site tag (gtag.js) - Google Analytics -->\n",
            "  <script async=\"\" src=\"https://www.googletagmanager.com/gtag/js?id=UA-1179606-29\">\n",
            "  </script>\n",
            "  <script>\n",
            "   window.dataLayer = window.dataLayer || [];\n",
            "          function gtag(){dataLayer.push(arguments);}\n",
            "          gtag('js', new Date());\n",
            "          gtag('config', 'UA-1179606-29');\n",
            "  </script>\n",
            " </head>\n",
            " <body class=\"no-transition quotes_index\">\n",
            "  <div id=\"fb-root\">\n",
            "  </div>\n",
            "  <script>\n",
            "   window.fbAsyncInit = function() {\n",
            "            FB.init({\n",
            "              appId            : '483774921971842',\n",
            "              autoLogAppEvents : true,\n",
            "              xfbml            : true,\n",
            "              version          : 'v6.0'\n",
            "            });\n",
            "          };\n",
            "  </script>\n",
            "  <script async=\"\" crossorigin=\"anonymous\" defer=\"\" nonce=\"iEAX4Taz\" src=\"https://connect.facebook.net/en_US/sdk.js#xfbml=1&amp;version=v13.0\">\n",
            "  </script>\n",
            "  <meta content=\"passiton.com\" property=\"og:site_name\"/>\n",
            "  <meta content=\"Inspirational Quotes - Motivational Quotes - Leadership Quotes\" property=\"og:title\"/>\n",
            "  <meta content=\"website\" property=\"og:type\"/>\n",
            "  <meta content=\"https://www.passiton.com/passiton.jpg\" property=\"og:image\"/>\n",
            "  <meta content=\"https://www.passiton.com/inspirational-quotes\" property=\"og:url\"/>\n",
            "  <meta content=\"Find the perfect quotation from our hand-picked collection of inspiring quotes by hundreds of authors.\" property=\"og:description\"/>\n",
            "  <meta content=\"483774921971842\" property=\"fb:app_id\"/>\n",
            "  <meta content=\"summary_large_image\" name=\"twitter:card\"/>\n",
            "  <meta content=\"@passiton\" name=\"twitter:site\"/>\n",
            "  <meta content=\"@passiton\" name=\"twitter:creator\"/>\n",
            "  <meta content=\"Inspirational Quotes - Motivational Quotes - Leadership Quotes\" name=\"twitter:title\"/>\n",
            "  <meta content=\"Find the perfect quotation from our hand-picked collection of inspiring quotes by hundreds of authors.\" name=\"twitter:description\"/>\n",
            "  <meta content=\"https://www.passiton.com/passiton.jpg\" name=\"twitter:image\"/>\n",
            "  <meta content=\"https://www.passiton.com/inspirational-quotes\" name=\"twitter:url\"/>\n",
            "  <meta content=\"passiton.com\" itemprop=\"name\"/>\n",
            "  <meta content=\"Find the perfect quotation from our hand-picked collection of inspiring quotes by hundreds of authors.\" itemprop=\"description\"/>\n",
            "  <meta content=\"https://www.passiton.com/passiton.jpg\" itemprop=\"image\"/>\n",
            "  <link href=\"/apple-touch-icon.png\" rel=\"apple-touch-icon\" sizes=\"180x180\"/>\n",
            "  <link href=\"/favicon-32x32.png\" rel=\"icon\" sizes=\"32x32\" type=\"image/png\"/>\n",
            "  <link href=\"/favicon-16x16.png\" rel=\"icon\" sizes=\"16x16\" type=\"image/png\"/>\n",
            "  <link color=\"#C8102E\" href=\"/passiton_arrow.svg\" rel=\"mask-icon\"/>\n",
            "  <link href=\"/manifest.json\" rel=\"manifest\"/>\n",
            "  <link color=\"#5bbad5\" href=\"/safari-pinned-tab.svg\" rel=\"mask-icon\"/>\n",
            "  <meta content=\"passiton\" name=\"apple-mobile-web-app-title\"/>\n",
            "  <meta content=\"passiton\" name=\"application-name\"/>\n",
            "  <meta content=\"#f1f1f1\" name=\"theme-color\"/>\n",
            "  <link href=\"https://www.passiton.com/inspirational-quotes.atom\" rel=\"alternate\" title=\"RSS\" type=\"application/rss+xml\"/>\n",
            "  <header>\n",
            "   <nav class=\"navbar navbar-default bootsnav background-transparent header-dark white-link navbar-fixed-top navbar-expand-lg nav-box-width\">\n",
            "    <div class=\"container-fluid nav-header-container\">\n",
            "     <div class=\"col-auto pl-0\">\n",
            "      <a class=\"logo\" href=\"/\" title=\"Pass It On®\">\n",
            "       <img alt=\"Pass It On\" class=\"logo-dark\" data-rjs=\"/assets/site/logo@2x-77b9f4fa1e4bafa6ff119f8f162b7bd9.png\" src=\"/assets/site/logo-6d680decaadef58e4fbb586e147bc135.png\"/>\n",
            "       <img alt=\"Pass It On\" class=\"logo-light default\" data-rjs=\"/assets/site/logo-white@2x-82bf2486063a48e9207811cc7f6d5e5f.png\" src=\"/assets/site/logo-white-2d99f390ad2f6d3bbf59a52aadb55d60.png\"/>\n",
            "      </a>\n",
            "     </div>\n",
            "     <div class=\"col accordion-menu pr-0 pr-md-3\">\n",
            "      <button class=\"navbar-toggler collapsed\" data-target=\"#navbar-collapse-toggle-1\" data-toggle=\"collapse\" type=\"button\">\n",
            "       <span class=\"sr-only\">\n",
            "        toggle navigation\n",
            "       </span>\n",
            "       <span class=\"icon-bar\">\n",
            "       </span>\n",
            "       <span class=\"icon-bar\">\n",
            "       </span>\n",
            "       <span class=\"icon-bar\">\n",
            "       </span>\n",
            "      </button>\n",
            "      <div class=\"navbar-collapse collapse justify-content-end\" id=\"navbar-collapse-toggle-1\">\n",
            "       <ul class=\"nav navbar-nav navbar-left no-margin alt-font text-normal\" data-in=\"fadeIn\" data-out=\"fadeOut\" id=\"accordion\">\n",
            "        <li>\n",
            "         <a href=\"/inspirational-quotes\">\n",
            "          Quotes\n",
            "         </a>\n",
            "        </li>\n",
            "        <li>\n",
            "         <a href=\"/inspirational-stories-tv-spots\">\n",
            "          Videos\n",
            "         </a>\n",
            "        </li>\n",
            "        <li class=\"dropdown simple-dropdown\">\n",
            "         <a href=\"/inspirational-sayings-billboards\">\n",
            "          Billboards\n",
            "          <i aria-hidden=\"true\" class=\"fas fa-caret-down d-none d-lg-inline\">\n",
            "          </i>\n",
            "         </a>\n",
            "         <i aria-hidden=\"true\" class=\"fas fa-caret-down dropdown-toggle\" data-toggle=\"dropdown\">\n",
            "         </i>\n",
            "         <ul class=\"dropdown-menu\" role=\"menu\">\n",
            "          <li>\n",
            "           <a href=\"/inspirational-sayings-billboards\">\n",
            "            Official Billboards\n",
            "           </a>\n",
            "          </li>\n",
            "          <li>\n",
            "           <a href=\"/is-in-you\">\n",
            "            Is In You® Billboards\n",
            "           </a>\n",
            "          </li>\n",
            "          <li>\n",
            "           <a href=\"/your-billboards\">\n",
            "            Create Your Own Billboard\n",
            "           </a>\n",
            "          </li>\n",
            "         </ul>\n",
            "        </li>\n",
            "        <li>\n",
            "         <a href=\"/positive-good-news-columns\">\n",
            "          Newspapers\n",
            "         </a>\n",
            "        </li>\n",
            "        <li>\n",
            "         <a href=\"/radio\">\n",
            "          Radio\n",
            "         </a>\n",
            "        </li>\n",
            "        <li>\n",
            "         <a href=\"/passiton-blog\">\n",
            "          Blog\n",
            "         </a>\n",
            "        </li>\n",
            "        <li>\n",
            "         <a href=\"/poster-requests/new\">\n",
            "          Schools\n",
            "         </a>\n",
            "        </li>\n",
            "        <li class=\"dropdown simple-dropdown\">\n",
            "         <a href=\"#\">\n",
            "          <i aria-hidden=\"true\" class=\"fas fa-globe d-none d-lg-inline text-normal\">\n",
            "          </i>\n",
            "          <i aria-hidden=\"true\" class=\"fas fa-caret-down d-none d-lg-inline\">\n",
            "          </i>\n",
            "         </a>\n",
            "         <i aria-hidden=\"true\" class=\"fas fa-caret-down dropdown-toggle\" data-toggle=\"dropdown\">\n",
            "         </i>\n",
            "         <ul class=\"dropdown-menu\" role=\"menu\">\n",
            "          <li>\n",
            "           <a href=\"https://www.pasala.org/\" target=\"_blank\">\n",
            "            Spanish | Español\n",
            "           </a>\n",
            "          </li>\n",
            "          <li>\n",
            "           <a href=\"https://www.umavidamelhor.org/\" target=\"_blank\">\n",
            "            Portuguese | Português\n",
            "           </a>\n",
            "          </li>\n",
            "          <li>\n",
            "           <a href=\"https://www.values.cn.com/\" target=\"_blank\">\n",
            "            Chinese | 中文\n",
            "           </a>\n",
            "          </li>\n",
            "         </ul>\n",
            "        </li>\n",
            "       </ul>\n",
            "      </div>\n",
            "     </div>\n",
            "     <div class=\"col-auto pr-0\">\n",
            "      <div class=\"header-searchbar\">\n",
            "       <a class=\"header-search-form\" href=\"#search-header\">\n",
            "        <i class=\"fas fa-search search-button\">\n",
            "        </i>\n",
            "       </a>\n",
            "       <form action=\"/search\" class=\"mfp-hide search-form-result\" id=\"search-header\" method=\"post\" name=\"search-header\">\n",
            "        <div class=\"search-form position-relative\">\n",
            "         <button class=\"fas fa-search close-search search-button\" type=\"submit\">\n",
            "         </button>\n",
            "         <input autocomplete=\"off\" class=\"search-input\" name=\"q\" placeholder=\"Search passiton.com...\" type=\"text\"/>\n",
            "        </div>\n",
            "       </form>\n",
            "      </div>\n",
            "     </div>\n",
            "    </div>\n",
            "   </nav>\n",
            "  </header>\n",
            "  <section class=\"parallax padding-six-all bg-black\" data-stellar-background-ratio=\"0.2\" style=\"background-image:url('/assets/backgrounds/flowers-8d19415bc3bc371f5beaed468d9a1970.jpg');\">\n",
            "   <div class=\"container\">\n",
            "    <div class=\"row justify-content-center\">\n",
            "     <div class=\"col-12 col-lg-10 text-center\">\n",
            "      <div class=\"shadow bg-extra-dark-gray padding-two-all border-radius-6 width-70 lg-width-80 sm-width-100 mx-auto lg-padding-30px-all sm-padding-15px-all sm-margin-40px-top\">\n",
            "       <h6 class=\"font-weight-300 text-white-2 margin-20px-bottom sm-margin-15px-bottom\">\n",
            "        Get our FREE daily quote emails!\n",
            "       </h6>\n",
            "       <p class=\"text-medium width-70 mx-auto margin-40px-bottom sm-width-100 sm-margin-15px-bottom\">\n",
            "        Get a daily inspirational quote in your inbox each weekday! Enter your email below to subscribe.\n",
            "       </p>\n",
            "       <form accept-charset=\"UTF-8\" action=\"/users\" class=\"simple_form search-box3 margin-10px-bottom\" id=\"new_user\" method=\"post\" novalidate=\"novalidate\">\n",
            "        <input name=\"utf8\" type=\"hidden\" value=\"✓\"/>\n",
            "        <input name=\"authenticity_token\" type=\"hidden\" value=\"tX8fLW7EpbscJ/0wmfJBgKOGXDveHgj0EIyYb+xRH0fV/u5TespIZ5ISPmXA0lQugUCvCUWFyXfaFQ28SbRYjQ==\"/>\n",
            "        <div class=\"input-group add-on width-75 mx-auto sm-width-100\">\n",
            "         <input class=\"string email optional form-control text-white\" id=\"user_email\" label=\"false\" name=\"user[email]\" placeholder=\"you@your-email.com\" type=\"text\"/>\n",
            "         <div class=\"input-group-append\">\n",
            "          <button class=\"btn btn-default\" type=\"submit\">\n",
            "           <i class=\"ti-arrow-right text-small m-0\">\n",
            "           </i>\n",
            "          </button>\n",
            "         </div>\n",
            "        </div>\n",
            "       </form>\n",
            "      </div>\n",
            "     </div>\n",
            "    </div>\n",
            "   </div>\n",
            "  </section>\n",
            "  <section class=\"half-section bg-extra-dark-gray half-section\">\n",
            "   <div class=\"container\">\n",
            "    <div class=\"row m-0\">\n",
            "     <div class=\"col-12 d-flex flex-column justify-content-center text-center wow fadeIn\" data-wow-delay=\"0.2s\">\n",
            "      <h5 class=\"text-white alt-font font-weight-400 letter-spacing-1 margin-10px-bottom\">\n",
            "       INSPIRATIONAL QUOTES\n",
            "      </h5>\n",
            "      <span class=\"text-white-2 opacity8 alt-font mb-0 padding-20px-bottom\">\n",
            "       Find the perfect quote... and Pass It On®\n",
            "      </span>\n",
            "      <form action=\"/inspirational-quotes\" class=\"search-box2 margin-30px-bottom\" method=\"get\">\n",
            "       <div class=\"input-group add-on width-75 mx-auto sm-width-100\">\n",
            "        <input class=\"form-control\" name=\"q\" placeholder=\"Search our inspiring quotes...\" type=\"text\" value=\"\"/>\n",
            "        <div class=\"input-group-append\">\n",
            "         <button class=\"btn btn-default\" type=\"submit\">\n",
            "          <i class=\"ti-search text-small m-0\">\n",
            "          </i>\n",
            "         </button>\n",
            "        </div>\n",
            "       </div>\n",
            "      </form>\n",
            "     </div>\n",
            "    </div>\n",
            "    <div class=\"row m-0\">\n",
            "     <div class=\"col-8 d-flex flex-column justify-content-center text-center\">\n",
            "      <div class=\"row\" id=\"all_quotes\">\n",
            "       <div class=\"col-6 col-lg-4 text-center margin-30px-bottom sm-margin-30px-top\">\n",
            "        <a href=\"/inspirational-quotes/8330-i-would-rather-walk-with-a-friend-in-the-dark\">\n",
            "         <img alt=\"I would rather walk with a friend in the dark, than alone in the light. #&lt;Author:0x00007fd6a593b8d0&gt;\" class=\"margin-10px-bottom shadow\" height=\"310\" src=\"https://assets.passiton.com/quotes/quote_artwork/8330/medium/20220527_friday_quote.jpg?1652392408\" width=\"310\"/>\n",
            "        </a>\n",
            "        <h5 class=\"value_on_red\">\n",
            "         <a href=\"/inspirational-quotes/8330-i-would-rather-walk-with-a-friend-in-the-dark\">\n",
            "          FRIENDSHIP\n",
            "         </a>\n",
            "        </h5>\n",
            "       </div>\n",
            "       <div class=\"col-6 col-lg-4 text-center margin-30px-bottom sm-margin-30px-top\">\n",
            "        <a href=\"/inspirational-quotes/8036-good-friends-are-like-stars-you-dont-always\">\n",
            "         <img alt=\"Good friends are like stars. You don't always see them, but you know they're always there. #&lt;Author:0x00007fd6a5961be8&gt;\" class=\"margin-10px-bottom shadow\" height=\"310\" src=\"https://assets.passiton.com/quotes/quote_artwork/8036/medium/20220526_thursday_quote.jpg?1652392380\" width=\"310\"/>\n",
            "        </a>\n",
            "        <h5 class=\"value_on_red\">\n",
            "         <a href=\"/inspirational-quotes/8036-good-friends-are-like-stars-you-dont-always\">\n",
            "          FRIENDSHIP\n",
            "         </a>\n",
            "        </h5>\n",
            "       </div>\n",
            "       <div class=\"col-6 col-lg-4 text-center margin-30px-bottom sm-margin-30px-top\">\n",
            "        <a href=\"/inspirational-quotes/8331-try-to-be-a-rainbow-in-someones-cloud\">\n",
            "         <img alt=\"Try to be a rainbow in someone's cloud. #&lt;Author:0x00007fd6a5973fa0&gt;\" class=\"margin-10px-bottom shadow\" height=\"310\" src=\"https://assets.passiton.com/quotes/quote_artwork/8331/medium/20220525_wednesday_quote.jpg?1652392349\" width=\"310\"/>\n",
            "        </a>\n",
            "        <h5 class=\"value_on_red\">\n",
            "         <a href=\"/inspirational-quotes/8331-try-to-be-a-rainbow-in-someones-cloud\">\n",
            "          FRIENDSHIP\n",
            "         </a>\n",
            "        </h5>\n",
            "       </div>\n",
            "       <div class=\"col-6 col-lg-4 text-center margin-30px-bottom sm-margin-30px-top\">\n",
            "        <a href=\"/inspirational-quotes/7641-friends-are-medicine-for-a-wounded-heart-and\">\n",
            "         <img alt=\"Friends are medicine for a wounded heart and vitamins for a hopeful soul. #&lt;Author:0x00007fd6a5981fd8&gt;\" class=\"margin-10px-bottom shadow\" height=\"310\" src=\"https://assets.passiton.com/quotes/quote_artwork/7641/medium/20220524_tuesday_quote.jpg?1652392319\" width=\"310\"/>\n",
            "        </a>\n",
            "        <h5 class=\"value_on_red\">\n",
            "         <a href=\"/inspirational-quotes/7641-friends-are-medicine-for-a-wounded-heart-and\">\n",
            "          FRIENDSHIP\n",
            "         </a>\n",
            "        </h5>\n",
            "       </div>\n",
            "       <div class=\"col-6 col-lg-4 text-center margin-30px-bottom sm-margin-30px-top\">\n",
            "        <a href=\"/inspirational-quotes/8192-anything-is-possible-when-you-have-the-right\">\n",
            "         <img alt=\"Anything is possible when you have the right people there to support you. #&lt;Author:0x00007fd6a598c5a0&gt;\" class=\"margin-10px-bottom shadow\" height=\"310\" src=\"https://assets.passiton.com/quotes/quote_artwork/8192/medium/20220523_monday_quote.jpg?1652392295\" width=\"310\"/>\n",
            "        </a>\n",
            "        <h5 class=\"value_on_red\">\n",
            "         <a href=\"/inspirational-quotes/8192-anything-is-possible-when-you-have-the-right\">\n",
            "          FRIENDSHIP\n",
            "         </a>\n",
            "        </h5>\n",
            "       </div>\n",
            "       <div class=\"col-6 col-lg-4 text-center margin-30px-bottom sm-margin-30px-top\">\n",
            "        <a href=\"/inspirational-quotes/4543-be-curious-not-judgmental\">\n",
            "         <img alt=\"Be curious, not judgmental.  #&lt;Author:0x00007fd6a59ad700&gt;\" class=\"margin-10px-bottom shadow\" height=\"310\" src=\"https://assets.passiton.com/quotes/quote_artwork/4543/medium/20220520_friday_quote.jpg?1652390708\" width=\"310\"/>\n",
            "        </a>\n",
            "        <h5 class=\"value_on_red\">\n",
            "         <a href=\"/inspirational-quotes/4543-be-curious-not-judgmental\">\n",
            "          CURIOSITY\n",
            "         </a>\n",
            "        </h5>\n",
            "       </div>\n",
            "       <div class=\"col-6 col-lg-4 text-center margin-30px-bottom sm-margin-30px-top\">\n",
            "        <a href=\"/inspirational-quotes/6799-above-all-watch-with-glittering-eyes-the-whole\">\n",
            "         <img alt=\"Above all, watch with glittering eyes the whole world around you, because the greatest secrets are always hidden in the most unlikely places. #&lt;Author:0x00007fd6a59bf400&gt;\" class=\"margin-10px-bottom shadow\" height=\"310\" src=\"https://assets.passiton.com/quotes/quote_artwork/6799/medium/20220519_thursday_quote.jpg?1652390687\" width=\"310\"/>\n",
            "        </a>\n",
            "        <h5 class=\"value_on_red\">\n",
            "         <a href=\"/inspirational-quotes/6799-above-all-watch-with-glittering-eyes-the-whole\">\n",
            "          CURIOSITY\n",
            "         </a>\n",
            "        </h5>\n",
            "       </div>\n",
            "       <div class=\"col-6 col-lg-4 text-center margin-30px-bottom sm-margin-30px-top\">\n",
            "        <a href=\"/inspirational-quotes/8329-curiosity-is-more-important-than-knowledge\">\n",
            "         <img alt=\"Curiosity is more important than knowledge. #&lt;Author:0x00007fd6a59c9fe0&gt;\" class=\"margin-10px-bottom shadow\" height=\"310\" src=\"https://assets.passiton.com/quotes/quote_artwork/8329/medium/20220518_wednesday_quote.jpg?1652390654\" width=\"310\"/>\n",
            "        </a>\n",
            "        <h5 class=\"value_on_red\">\n",
            "         <a href=\"/inspirational-quotes/8329-curiosity-is-more-important-than-knowledge\">\n",
            "          CURIOSITY\n",
            "         </a>\n",
            "        </h5>\n",
            "       </div>\n",
            "       <div class=\"col-6 col-lg-4 text-center margin-30px-bottom sm-margin-30px-top\">\n",
            "        <a href=\"/inspirational-quotes/8328-i-think-at-a-childs-birth-if-a-mother-could\">\n",
            "         <img alt=\"I think, at a child's birth, if a mother could ask a fairy godmother to endow it with the most useful gift, that gift would be curiosity. #&lt;Author:0x00007fd6a59d4c10&gt;\" class=\"margin-10px-bottom shadow\" height=\"310\" src=\"https://assets.passiton.com/quotes/quote_artwork/8328/medium/20220517_tuesday_quote.jpg?1652390623\" width=\"310\"/>\n",
            "        </a>\n",
            "        <h5 class=\"value_on_red\">\n",
            "         <a href=\"/inspirational-quotes/8328-i-think-at-a-childs-birth-if-a-mother-could\">\n",
            "          CURIOSITY\n",
            "         </a>\n",
            "        </h5>\n",
            "       </div>\n",
            "       <div class=\"col-6 col-lg-4 text-center margin-30px-bottom sm-margin-30px-top\">\n",
            "        <a href=\"/inspirational-quotes/4014-somewhere-something-incredible-is-waiting-to\">\n",
            "         <img alt=\"Somewhere, something incredible is waiting to be known. #&lt;Author:0x00007fd6a59e6d70&gt;\" class=\"margin-10px-bottom shadow\" height=\"310\" src=\"https://assets.passiton.com/quotes/quote_artwork/4014/medium/20220516_monday_quote.jpg?1652390606\" width=\"310\"/>\n",
            "        </a>\n",
            "        <h5 class=\"value_on_red\">\n",
            "         <a href=\"/inspirational-quotes/4014-somewhere-something-incredible-is-waiting-to\">\n",
            "          CURIOSITY\n",
            "         </a>\n",
            "        </h5>\n",
            "       </div>\n",
            "       <div class=\"col-6 col-lg-4 text-center margin-30px-bottom sm-margin-30px-top\">\n",
            "        <a href=\"/inspirational-quotes/7826-the-world-needs-dreamers-and-the-world-needs\">\n",
            "         <img alt=\"The world needs dreamers and the world needs doers. But above all, the world needs dreamers who do. #&lt;Author:0x00007fd6a59f1518&gt;\" class=\"margin-10px-bottom shadow\" height=\"310\" src=\"https://assets.passiton.com/quotes/quote_artwork/7826/medium/20220513_friday_quote.jpg?1651853654\" width=\"310\"/>\n",
            "        </a>\n",
            "        <h5 class=\"value_on_red\">\n",
            "         <a href=\"/inspirational-quotes/7826-the-world-needs-dreamers-and-the-world-needs\">\n",
            "          ENCOURAGEMENT\n",
            "         </a>\n",
            "        </h5>\n",
            "       </div>\n",
            "       <div class=\"col-6 col-lg-4 text-center margin-30px-bottom sm-margin-30px-top\">\n",
            "        <a href=\"/inspirational-quotes/7075-our-chief-want-is-someone-who-will-inspire-us\">\n",
            "         <img alt=\"Our chief want is someone who will inspire us to be what we know we could be. #&lt;Author:0x00007fd6a5a01b70&gt;\" class=\"margin-10px-bottom shadow\" height=\"310\" src=\"https://assets.passiton.com/quotes/quote_artwork/7075/medium/20220512_thursday_quote.jpg?1651853635\" width=\"310\"/>\n",
            "        </a>\n",
            "        <h5 class=\"value_on_red\">\n",
            "         <a href=\"/inspirational-quotes/7075-our-chief-want-is-someone-who-will-inspire-us\">\n",
            "          ENCOURAGEMENT\n",
            "         </a>\n",
            "        </h5>\n",
            "       </div>\n",
            "       <div class=\"col-6 col-lg-4 text-center margin-30px-bottom sm-margin-30px-top\">\n",
            "        <a href=\"/inspirational-quotes/5008-encouragement-is-oxygen-to-the-soul\">\n",
            "         <img alt=\"Encouragement is oxygen to the soul. #&lt;Author:0x00007fd6a5a12740&gt;\" class=\"margin-10px-bottom shadow\" height=\"310\" src=\"https://assets.passiton.com/quotes/quote_artwork/5008/medium/20220511_wednesday_quote.jpg?1651853616\" width=\"310\"/>\n",
            "        </a>\n",
            "        <h5 class=\"value_on_red\">\n",
            "         <a href=\"/inspirational-quotes/5008-encouragement-is-oxygen-to-the-soul\">\n",
            "          ENCOURAGEMENT\n",
            "         </a>\n",
            "        </h5>\n",
            "       </div>\n",
            "       <div class=\"col-6 col-lg-4 text-center margin-30px-bottom sm-margin-30px-top\">\n",
            "        <a href=\"/inspirational-quotes/3521-correction-does-much-but-encouragement-does-more\">\n",
            "         <img alt=\"Correction does much, but encouragement does more. #&lt;Author:0x00007fd6a5a33aa8&gt;\" class=\"margin-10px-bottom shadow\" height=\"310\" src=\"https://assets.passiton.com/quotes/quote_artwork/3521/medium/20220510_tuesday_quote.jpg?1651853598\" width=\"310\"/>\n",
            "        </a>\n",
            "        <h5 class=\"value_on_red\">\n",
            "         <a href=\"/inspirational-quotes/3521-correction-does-much-but-encouragement-does-more\">\n",
            "          ENCOURAGEMENT\n",
            "         </a>\n",
            "        </h5>\n",
            "       </div>\n",
            "       <div class=\"col-6 col-lg-4 text-center margin-30px-bottom sm-margin-30px-top\">\n",
            "        <a href=\"/inspirational-quotes/3434-most-of-us-swimming-against-the-tides-of\">\n",
            "         <img alt=\"Most of us, swimming against the tides of trouble the world knows nothing about, need only a bit of praise or encouragement—and we will make the goal. #&lt;Author:0x00007fd6a5a3e598&gt;\" class=\"margin-10px-bottom shadow\" height=\"310\" src=\"https://assets.passiton.com/quotes/quote_artwork/3434/medium/20220509_monday_quote.jpg?1651853509\" width=\"310\"/>\n",
            "        </a>\n",
            "        <h5 class=\"value_on_red\">\n",
            "         <a href=\"/inspirational-quotes/3434-most-of-us-swimming-against-the-tides-of\">\n",
            "          ENCOURAGEMENT\n",
            "         </a>\n",
            "        </h5>\n",
            "       </div>\n",
            "       <div class=\"col-6 col-lg-4 text-center margin-30px-bottom sm-margin-30px-top\">\n",
            "        <a href=\"/inspirational-quotes/8327-ive-been-absolutely-terrified-every-moment-of\">\n",
            "         <img alt=\"I've been absolutely terrified every moment of my life and I've never let it keep me from doing a single thing that I wanted to do. #&lt;Author:0x00007fd6a5a48480&gt;\" class=\"margin-10px-bottom shadow\" height=\"310\" src=\"https://assets.passiton.com/quotes/quote_artwork/8327/medium/20220506_friday_quote.jpg?1651176300\" width=\"310\"/>\n",
            "        </a>\n",
            "        <h5 class=\"value_on_red\">\n",
            "         <a href=\"/inspirational-quotes/8327-ive-been-absolutely-terrified-every-moment-of\">\n",
            "          SPREAD YOUR WINGS\n",
            "         </a>\n",
            "        </h5>\n",
            "       </div>\n",
            "       <div class=\"col-6 col-lg-4 text-center margin-30px-bottom sm-margin-30px-top\">\n",
            "        <a href=\"/inspirational-quotes/7884-embrace-uncertainty-some-of-the-most-beautiful\">\n",
            "         <img alt=\"Embrace uncertainty. Some of the most beautiful chapters in our lives won’t have a title until much later. #&lt;Author:0x00007fd6a5a5a630&gt;\" class=\"margin-10px-bottom shadow\" height=\"310\" src=\"https://assets.passiton.com/quotes/quote_artwork/7884/medium/20220505_thursday_quote.jpg?1651176276\" width=\"310\"/>\n",
            "        </a>\n",
            "        <h5 class=\"value_on_red\">\n",
            "         <a href=\"/inspirational-quotes/7884-embrace-uncertainty-some-of-the-most-beautiful\">\n",
            "          SPREAD YOUR WINGS\n",
            "         </a>\n",
            "        </h5>\n",
            "       </div>\n",
            "       <div class=\"col-6 col-lg-4 text-center margin-30px-bottom sm-margin-30px-top\">\n",
            "        <a href=\"/inspirational-quotes/3586-a-mind-that-is-stretched-by-a-new-experience\">\n",
            "         <img alt=\"A mind that is stretched by a new experience can never go back to its old dimensions. #&lt;Author:0x00007fd6a5a64680&gt;\" class=\"margin-10px-bottom shadow\" height=\"310\" src=\"https://assets.passiton.com/quotes/quote_artwork/3586/medium/20220504_wednesday_quote.jpg?1651176241\" width=\"310\"/>\n",
            "        </a>\n",
            "        <h5 class=\"value_on_red\">\n",
            "         <a href=\"/inspirational-quotes/3586-a-mind-that-is-stretched-by-a-new-experience\">\n",
            "          SPREAD YOUR WINGS\n",
            "         </a>\n",
            "        </h5>\n",
            "       </div>\n",
            "       <div class=\"col-6 col-lg-4 text-center margin-30px-bottom sm-margin-30px-top\">\n",
            "        <a href=\"/inspirational-quotes/8326-and-then-there-is-the-most-dangerous-risk-of\">\n",
            "         <img alt=\"And then there is the most dangerous risk of all...the risk of spending your life not doing what you want on the bet you can buy yourself the freedom to do it later. #&lt;Author:0x00007fd6a5a75ea8&gt;\" class=\"margin-10px-bottom shadow\" height=\"310\" src=\"https://assets.passiton.com/quotes/quote_artwork/8326/medium/20220503_tuesday_quote.jpg?1651176218\" width=\"310\"/>\n",
            "        </a>\n",
            "        <h5 class=\"value_on_red\">\n",
            "         <a href=\"/inspirational-quotes/8326-and-then-there-is-the-most-dangerous-risk-of\">\n",
            "          SPREAD YOUR WINGS\n",
            "         </a>\n",
            "        </h5>\n",
            "       </div>\n",
            "       <div class=\"col-6 col-lg-4 text-center margin-30px-bottom sm-margin-30px-top\">\n",
            "        <a href=\"/inspirational-quotes/6720-no-one-can-really-predict-to-what-heights-you\">\n",
            "         <img alt=\"No one can really predict to what heights you might soar. Even you will not know until you spread your wings. #&lt;Author:0x00007fd6a5a86988&gt;\" class=\"margin-10px-bottom shadow\" height=\"310\" src=\"https://assets.passiton.com/quotes/quote_artwork/6720/medium/20220502_monday_quote.jpg?1651176192\" width=\"310\"/>\n",
            "        </a>\n",
            "        <h5 class=\"value_on_red\">\n",
            "         <a href=\"/inspirational-quotes/6720-no-one-can-really-predict-to-what-heights-you\">\n",
            "          SPREAD YOUR WINGS\n",
            "         </a>\n",
            "        </h5>\n",
            "       </div>\n",
            "       <div class=\"col-6 col-lg-4 text-center margin-30px-bottom sm-margin-30px-top\">\n",
            "        <a href=\"/inspirational-quotes/8325-smile-at-the-obstacle-for-it-is-a-bridge\">\n",
            "         <img alt=\"Smile at the obstacle, for it is a bridge. #&lt;Author:0x00007fd6a5a9c030&gt;\" class=\"margin-10px-bottom shadow\" height=\"310\" src=\"https://assets.passiton.com/quotes/quote_artwork/8325/medium/20220429_friday_quote.jpg?1650648519\" width=\"310\"/>\n",
            "        </a>\n",
            "        <h5 class=\"value_on_red\">\n",
            "         <a href=\"/inspirational-quotes/8325-smile-at-the-obstacle-for-it-is-a-bridge\">\n",
            "          SMILE\n",
            "         </a>\n",
            "        </h5>\n",
            "       </div>\n",
            "       <div class=\"col-6 col-lg-4 text-center margin-30px-bottom sm-margin-30px-top\">\n",
            "        <a href=\"/inspirational-quotes/7043-we-shall-never-know-all-the-good-that-a-simple\">\n",
            "         <img alt=\"We shall never know all the good that a simple smile can do. #&lt;Author:0x00007fd6a5ac0908&gt;\" class=\"margin-10px-bottom shadow\" height=\"310\" src=\"https://assets.passiton.com/quotes/quote_artwork/7043/medium/20220428_thursday_quote.jpg?1650648496\" width=\"310\"/>\n",
            "        </a>\n",
            "        <h5 class=\"value_on_red\">\n",
            "         <a href=\"/inspirational-quotes/7043-we-shall-never-know-all-the-good-that-a-simple\">\n",
            "          SMILE\n",
            "         </a>\n",
            "        </h5>\n",
            "       </div>\n",
            "       <div class=\"col-6 col-lg-4 text-center margin-30px-bottom sm-margin-30px-top\">\n",
            "        <a href=\"/inspirational-quotes/7530-a-warm-smile-is-the-universal-language-of\">\n",
            "         <img alt=\"A warm smile is the universal language of kindness. #&lt;Author:0x00007fd6a5aee8f8&gt;\" class=\"margin-10px-bottom shadow\" height=\"310\" src=\"https://assets.passiton.com/quotes/quote_artwork/7530/medium/20220427_wednesday_quote.jpg?1650648477\" width=\"310\"/>\n",
            "        </a>\n",
            "        <h5 class=\"value_on_red\">\n",
            "         <a href=\"/inspirational-quotes/7530-a-warm-smile-is-the-universal-language-of\">\n",
            "          SMILE\n",
            "         </a>\n",
            "        </h5>\n",
            "       </div>\n",
            "       <div class=\"col-6 col-lg-4 text-center margin-30px-bottom sm-margin-30px-top\">\n",
            "        <a href=\"/inspirational-quotes/7598-a-gentle-word-a-kind-look-a-good-natured\">\n",
            "         <img alt=\"A gentle word, a kind look, a good-natured smile can work wonders and accomplish miracles. #&lt;Author:0x00007fd6a5b086e0&gt;\" class=\"margin-10px-bottom shadow\" height=\"310\" src=\"https://assets.passiton.com/quotes/quote_artwork/7598/medium/20220426_tuesday_quote.jpg?1650648453\" width=\"310\"/>\n",
            "        </a>\n",
            "        <h5 class=\"value_on_red\">\n",
            "         <a href=\"/inspirational-quotes/7598-a-gentle-word-a-kind-look-a-good-natured\">\n",
            "          SMILE\n",
            "         </a>\n",
            "        </h5>\n",
            "       </div>\n",
            "       <div class=\"col-6 col-lg-4 text-center margin-30px-bottom sm-margin-30px-top\">\n",
            "        <a href=\"/inspirational-quotes/3549-if-it-wasnt-hard-everyone-would-do-it-its-the\">\n",
            "         <img alt=\"If it wasn't hard, everyone would do it. It's the hard that makes it great. #&lt;Author:0x00007fd6a5b314f0&gt;\" class=\"margin-10px-bottom shadow\" height=\"310\" src=\"https://assets.passiton.com/quotes/quote_artwork/3549/medium/20220422_friday_quote_updated.jpg?1650641875\" width=\"310\"/>\n",
            "        </a>\n",
            "        <h5 class=\"value_on_red\">\n",
            "         <a href=\"/inspirational-quotes/3549-if-it-wasnt-hard-everyone-would-do-it-its-the\">\n",
            "          HARD WORK\n",
            "         </a>\n",
            "        </h5>\n",
            "       </div>\n",
            "       <div class=\"col-6 col-lg-4 text-center margin-30px-bottom sm-margin-30px-top\">\n",
            "        <a href=\"/inspirational-quotes/6141-the-highest-reward-for-mans-toil-is-not-what-he\">\n",
            "         <img alt=\"The highest reward for man's toil is not what he gets for it, but what he becomes by it. #&lt;Author:0x00007fd6a5b64e90&gt;\" class=\"margin-10px-bottom shadow\" height=\"310\" src=\"https://assets.passiton.com/quotes/quote_artwork/6141/medium/20220421_thursday_quote.jpg?1650051980\" width=\"310\"/>\n",
            "        </a>\n",
            "        <h5 class=\"value_on_red\">\n",
            "         <a href=\"/inspirational-quotes/6141-the-highest-reward-for-mans-toil-is-not-what-he\">\n",
            "          HARD WORK\n",
            "         </a>\n",
            "        </h5>\n",
            "       </div>\n",
            "       <div class=\"col-6 col-lg-4 text-center margin-30px-bottom sm-margin-30px-top\">\n",
            "        <a href=\"/inspirational-quotes/7893-success-isnt-always-about-greatness-its-about\">\n",
            "         <img alt=\"Success isn't always about greatness. It's about consistency. Consistent hard work leads to success. Greatness will come. #&lt;Author:0x00007fd6a5b97cf0&gt;\" class=\"margin-10px-bottom shadow\" height=\"310\" src=\"https://assets.passiton.com/quotes/quote_artwork/7893/medium/20220420_wednesday_quote.jpg?1650051954\" width=\"310\"/>\n",
            "        </a>\n",
            "        <h5 class=\"value_on_red\">\n",
            "         <a href=\"/inspirational-quotes/7893-success-isnt-always-about-greatness-its-about\">\n",
            "          HARD WORK\n",
            "         </a>\n",
            "        </h5>\n",
            "       </div>\n",
            "       <div class=\"col-6 col-lg-4 text-center margin-30px-bottom sm-margin-30px-top\">\n",
            "        <a href=\"/inspirational-quotes/7750-a-dream-doesnt-become-reality-through-magic-it\">\n",
            "         <img alt=\"A dream doesn't become reality through magic; it takes sweat, determination, and hard work. #&lt;Author:0x00007fd6a5bbb8f8&gt;\" class=\"margin-10px-bottom shadow\" height=\"310\" src=\"https://assets.passiton.com/quotes/quote_artwork/7750/medium/20220419_tuesday_quote.jpg?1650051929\" width=\"310\"/>\n",
            "        </a>\n",
            "        <h5 class=\"value_on_red\">\n",
            "         <a href=\"/inspirational-quotes/7750-a-dream-doesnt-become-reality-through-magic-it\">\n",
            "          HARD WORK\n",
            "         </a>\n",
            "        </h5>\n",
            "       </div>\n",
            "       <div class=\"col-6 col-lg-4 text-center margin-30px-bottom sm-margin-30px-top\">\n",
            "        <a href=\"/inspirational-quotes/6188-far-and-away-the-best-prize-that-life-offers-is\">\n",
            "         <img alt=\"Far and away the best prize that life offers is the chance to work hard at work worth doing.  #&lt;Author:0x00007fd6a5be31c8&gt;\" class=\"margin-10px-bottom shadow\" height=\"310\" src=\"https://assets.passiton.com/quotes/quote_artwork/6188/medium/20220418_monday_quote.jpg?1650051893\" width=\"310\"/>\n",
            "        </a>\n",
            "        <h5 class=\"value_on_red\">\n",
            "         <a href=\"/inspirational-quotes/6188-far-and-away-the-best-prize-that-life-offers-is\">\n",
            "          HARD WORK\n",
            "         </a>\n",
            "        </h5>\n",
            "       </div>\n",
            "       <div class=\"col-6 col-lg-4 text-center margin-30px-bottom sm-margin-30px-top\">\n",
            "        <a href=\"/inspirational-quotes/4171-twenty-years-from-now-you-will-be-more\">\n",
            "         <img alt=\"Twenty years from now you will be more disappointed by the things you didn't do than by the ones you did. So throw off the bowlines. Sail away from the safe harbor. Catch the trade winds in your sails. Explore. Dream. Discover. #&lt;Author:0x00007fd6a5c0d158&gt;\" class=\"margin-10px-bottom shadow\" height=\"310\" src=\"https://assets.passiton.com/quotes/quote_artwork/4171/medium/20220415_friday_quote.jpg?1649602334\" width=\"310\"/>\n",
            "        </a>\n",
            "        <h5 class=\"value_on_red\">\n",
            "         <a href=\"/inspirational-quotes/4171-twenty-years-from-now-you-will-be-more\">\n",
            "          LIVE LIFE\n",
            "         </a>\n",
            "        </h5>\n",
            "       </div>\n",
            "       <div class=\"col-6 col-lg-4 text-center margin-30px-bottom sm-margin-30px-top\">\n",
            "        <a href=\"/inspirational-quotes/7773-be-fearless-in-the-pursuit-of-what-sets-your\">\n",
            "         <img alt=\"Be fearless in the pursuit of what sets your soul on fire. #&lt;Author:0x00007fd6a5c329a8&gt;\" class=\"margin-10px-bottom shadow\" height=\"310\" src=\"https://assets.passiton.com/quotes/quote_artwork/7773/medium/20220414_thursday_quote.jpg?1649602309\" width=\"310\"/>\n",
            "        </a>\n",
            "        <h5 class=\"value_on_red\">\n",
            "         <a href=\"/inspirational-quotes/7773-be-fearless-in-the-pursuit-of-what-sets-your\">\n",
            "          LIVE LIFE\n",
            "         </a>\n",
            "        </h5>\n",
            "       </div>\n",
            "       <div class=\"col-6 col-lg-4 text-center margin-30px-bottom sm-margin-30px-top\">\n",
            "        <a href=\"/inspirational-quotes/7595-its-your-place-in-the-world-its-your-life-go\">\n",
            "         <img alt=\"It's your place in the world; it's your life. Go on and do all you can with it, and make it the life you want to live. #&lt;Author:0x00007fd6a5c50bb0&gt;\" class=\"margin-10px-bottom shadow\" height=\"310\" src=\"https://assets.passiton.com/quotes/quote_artwork/7595/medium/20220413_wednesday_quote.jpg?1649602286\" width=\"310\"/>\n",
            "        </a>\n",
            "        <h5 class=\"value_on_red\">\n",
            "         <a href=\"/inspirational-quotes/7595-its-your-place-in-the-world-its-your-life-go\">\n",
            "          LIVE LIFE\n",
            "         </a>\n",
            "        </h5>\n",
            "       </div>\n",
            "      </div>\n",
            "     </div>\n",
            "     <div class=\"col-4 d-flex flex-column text-center\">\n",
            "      <div class=\"row\" id=\"all_quotes\">\n",
            "       <span class=\"text-white text-left alt-font font-weight-400 letter-spacing-1 margin-20px-bottom\" style=\"font-size:  20px;\">\n",
            "        We publish our quotes and other inspirational stories on Facebook. Please 'like' our page to get daily inspiration.\n",
            "       </span>\n",
            "       <div class=\"fb-page\" data-adapt-container-width=\"true\" data-height=\"3000\" data-hide-cover=\"false\" data-href=\"https://www.facebook.com/valuescom\" data-show-facepile=\"true\" data-small-header=\"true\" data-tabs=\"timeline\" data-width=\"\">\n",
            "        <blockquote cite=\"https://www.facebook.com/valuescom\" class=\"fb-xfbml-parse-ignore\">\n",
            "         <a href=\"https://www.facebook.com/valuescom\">\n",
            "          Foundation for A Better Life\n",
            "         </a>\n",
            "        </blockquote>\n",
            "       </div>\n",
            "      </div>\n",
            "     </div>\n",
            "    </div>\n",
            "    <div class=\"row\">\n",
            "     <div class=\"col-12 text-center\">\n",
            "      <div class=\"quotes_pagination\">\n",
            "       <span class=\"previous_page disabled\">\n",
            "        ← Previous\n",
            "       </span>\n",
            "       <em class=\"current\">\n",
            "        1\n",
            "       </em>\n",
            "       <a href=\"/inspirational-quotes?page=2\" rel=\"next\">\n",
            "        2\n",
            "       </a>\n",
            "       <a href=\"/inspirational-quotes?page=3\">\n",
            "        3\n",
            "       </a>\n",
            "       <a href=\"/inspirational-quotes?page=4\">\n",
            "        4\n",
            "       </a>\n",
            "       <a href=\"/inspirational-quotes?page=5\">\n",
            "        5\n",
            "       </a>\n",
            "       <a href=\"/inspirational-quotes?page=6\">\n",
            "        6\n",
            "       </a>\n",
            "       <a href=\"/inspirational-quotes?page=7\">\n",
            "        7\n",
            "       </a>\n",
            "       <a href=\"/inspirational-quotes?page=8\">\n",
            "        8\n",
            "       </a>\n",
            "       <a href=\"/inspirational-quotes?page=9\">\n",
            "        9\n",
            "       </a>\n",
            "       <span class=\"gap\">\n",
            "        …\n",
            "       </span>\n",
            "       <a href=\"/inspirational-quotes?page=124\">\n",
            "        124\n",
            "       </a>\n",
            "       <a href=\"/inspirational-quotes?page=125\">\n",
            "        125\n",
            "       </a>\n",
            "       <a class=\"next_page\" href=\"/inspirational-quotes?page=2\" rel=\"next\">\n",
            "        Next →\n",
            "       </a>\n",
            "      </div>\n",
            "     </div>\n",
            "    </div>\n",
            "   </div>\n",
            "  </section>\n",
            "  <footer class=\"footer-classic-dark bg-extra-dark-gray padding-five-bottom sm-padding-30px-bottom\">\n",
            "   <div class=\"bg-dark-footer padding-50px-tb sm-padding-30px-tb\">\n",
            "    <div class=\"container\">\n",
            "     <div class=\"row align-items-center\">\n",
            "      <div class=\"col-lg-4 col-md-4 sm-text-center lg-text-left alt-font sm-margin-15px-bottom\">\n",
            "       <a href=\"/\">\n",
            "        <img alt=\"PassItOn.com The Foundation for a Better Life\" class=\"footer_logo\" data-rjs=\"/assets/site/passiton_fbl_logo-17c0ab162b56f1251713b3401d313c8d.png\" src=\"/assets/site/passiton_fbl_logo-17c0ab162b56f1251713b3401d313c8d.png\" style=\"max-width: 200px;\"/>\n",
            "       </a>\n",
            "      </div>\n",
            "      <div class=\"col-lg-4 col-md-4 text-center sm-margin-10px-bottom\">\n",
            "      </div>\n",
            "      <div class=\"col-lg-4 col-md-4 text-center\">\n",
            "       <span class=\"alt-font margin-20px-right\">\n",
            "        Follow us on social\n",
            "       </span>\n",
            "       <div class=\"social-icon-style-8 d-inline-block vertical-align-middle\">\n",
            "        <ul class=\"small-icon mb-0\">\n",
            "         <li>\n",
            "          <a class=\"facebook text-white-2\" href=\"https://www.facebook.com/valuescom\" target=\"_blank\">\n",
            "           <i aria-hidden=\"true\" class=\"fab fa-facebook-f\">\n",
            "           </i>\n",
            "          </a>\n",
            "         </li>\n",
            "         <li>\n",
            "          <a class=\"twitter text-white-2\" href=\"https://twitter.com/passiton_values\" target=\"_blank\">\n",
            "           <i class=\"fab fa-twitter\">\n",
            "           </i>\n",
            "          </a>\n",
            "         </li>\n",
            "         <li>\n",
            "          <a class=\"instagram text-white-2\" href=\"https://www.instagram.com/passiton_values/\" target=\"_blank\">\n",
            "           <i aria-hidden=\"true\" class=\"fab fa-instagram no-margin-right\">\n",
            "           </i>\n",
            "          </a>\n",
            "         </li>\n",
            "         <li>\n",
            "          <a class=\"pinterest text-white-2\" href=\"https://www.pinterest.com/passiton_values/\" target=\"_blank\">\n",
            "           <i aria-hidden=\"true\" class=\"fab fa-pinterest no-margin-right\">\n",
            "           </i>\n",
            "          </a>\n",
            "         </li>\n",
            "         <li>\n",
            "          <a class=\"youtube text-white-2\" href=\"https://www.youtube.com/c/passiton_values\" target=\"_blank\">\n",
            "           <i aria-hidden=\"true\" class=\"fab fa-youtube no-margin-right\">\n",
            "           </i>\n",
            "          </a>\n",
            "         </li>\n",
            "        </ul>\n",
            "       </div>\n",
            "      </div>\n",
            "     </div>\n",
            "    </div>\n",
            "   </div>\n",
            "   <div class=\"footer-widget-area padding-five-top padding-30px-bottom sm-padding-30px-top\">\n",
            "    <div class=\"container\">\n",
            "     <div class=\"row\">\n",
            "      <div class=\"col-lg-3 col-md-6 widget border-right border-color-medium-dark-gray padding-45px-left md-padding-15px-left md-no-border-right md-margin-30px-bottom text-center text-md-left\">\n",
            "       <div class=\"widget-title alt-font text-small text-medium-gray text-uppercase margin-10px-bottom font-weight-600\">\n",
            "        About Us\n",
            "       </div>\n",
            "       <ul class=\"list-unstyled\">\n",
            "        <li>\n",
            "         <a class=\"text-small\" href=\"/who-we-are\">\n",
            "          About The Foundation for a Better Life\n",
            "         </a>\n",
            "        </li>\n",
            "        <li>\n",
            "         <a class=\"text-small\" href=\"/faqs\">\n",
            "          FAQs\n",
            "         </a>\n",
            "        </li>\n",
            "        <li>\n",
            "         <a class=\"text-small\" href=\"/foundation-recognition\">\n",
            "          Foundation Recognition\n",
            "         </a>\n",
            "        </li>\n",
            "        <li>\n",
            "         <a class=\"text-small\" href=\"/contact-us\">\n",
            "          Contact Us\n",
            "         </a>\n",
            "        </li>\n",
            "       </ul>\n",
            "      </div>\n",
            "      <div class=\"col-lg-3 col-md-6 widget border-right border-color-medium-dark-gray padding-45px-left md-padding-15px-left md-no-border-right md-margin-30px-bottom text-center text-md-left\">\n",
            "       <div class=\"widget-title alt-font text-small text-medium-gray text-uppercase margin-10px-bottom font-weight-600\">\n",
            "        Be Inspired\n",
            "       </div>\n",
            "       <ul class=\"list-unstyled\">\n",
            "        <li>\n",
            "         <a class=\"text-small\" href=\"/teaching-values\">\n",
            "          Teaching Values\n",
            "         </a>\n",
            "        </li>\n",
            "        <li>\n",
            "         <a class=\"text-small\" href=\"/inspirational-quotes\">\n",
            "          Inspirational Quotations\n",
            "         </a>\n",
            "        </li>\n",
            "        <li>\n",
            "         <a class=\"text-small\" href=\"/inspirational-stories-tv-spots\">\n",
            "          Pass It On® Videos\n",
            "         </a>\n",
            "        </li>\n",
            "        <li>\n",
            "         <a class=\"text-small\" href=\"/positive-good-news-columns\">\n",
            "          Free Newspaper Stories\n",
            "         </a>\n",
            "        </li>\n",
            "        <li>\n",
            "         <a class=\"text-small\" href=\"/your-everyday-heroes\">\n",
            "          Who's Your Hero Stories\n",
            "         </a>\n",
            "        </li>\n",
            "        <li>\n",
            "         <a class=\"text-small\" href=\"/inspirational-sayings-billboards\">\n",
            "          Official Billboard Campaign\n",
            "         </a>\n",
            "        </li>\n",
            "        <li>\n",
            "         <a class=\"text-small\" href=\"/your-billboards\">\n",
            "          Create Your Own Billboard\n",
            "         </a>\n",
            "        </li>\n",
            "        <li>\n",
            "         <a class=\"text-small\" href=\"/radio\">\n",
            "          Radio Ads\n",
            "         </a>\n",
            "        </li>\n",
            "        <li>\n",
            "         <a class=\"text-small\" href=\"/passiton-blog\">\n",
            "          Pass It On® Blog\n",
            "         </a>\n",
            "        </li>\n",
            "        <li>\n",
            "         <a class=\"text-small\" href=\"/inspirational-audio-stories\">\n",
            "          Podcasts\n",
            "         </a>\n",
            "        </li>\n",
            "        <li>\n",
            "         <a class=\"text-small\" href=\"/pass-it-on-ecards\">\n",
            "          Send an Ecard\n",
            "         </a>\n",
            "        </li>\n",
            "       </ul>\n",
            "      </div>\n",
            "      <div class=\"col-lg-3 col-md-6 widget border-right border-color-medium-dark-gray padding-45px-left md-padding-15px-left md-no-border-right md-margin-30px-bottom text-center text-md-left\">\n",
            "       <div class=\"widget-title alt-font text-small text-medium-gray text-uppercase margin-10px-bottom font-weight-600\">\n",
            "        For Schools\n",
            "       </div>\n",
            "       <ul class=\"list-unstyled\">\n",
            "        <li>\n",
            "         <a class=\"text-small\" href=\"/poster-requests/new\">\n",
            "          Free Posters &amp; DVD for Schools\n",
            "         </a>\n",
            "        </li>\n",
            "        <li>\n",
            "         <a class=\"text-small\" href=\"/pass-it-on-downloads\">\n",
            "          Downloads\n",
            "         </a>\n",
            "        </li>\n",
            "       </ul>\n",
            "      </div>\n",
            "      <div class=\"col-lg-3 col-md-6 widget padding-45px-left md-padding-15px-left md-no-border-right md-margin-30px-bottom text-center text-md-left\">\n",
            "       <div class=\"widget-title alt-font text-small text-medium-gray text-uppercase margin-10px-bottom font-weight-600\">\n",
            "        For Media Companies\n",
            "       </div>\n",
            "       <ul class=\"list-unstyled\">\n",
            "        <li>\n",
            "         <a class=\"text-small\" href=\"/for-media-companies\">\n",
            "          For Media Companies\n",
            "         </a>\n",
            "        </li>\n",
            "        <li>\n",
            "         <a class=\"text-small\" href=\"https://www.passiton-media.com\">\n",
            "          Broadcast Quality PSA Downloads\n",
            "         </a>\n",
            "        </li>\n",
            "        <li>\n",
            "         <a class=\"text-small\" href=\"https://www.passiton-media.com\">\n",
            "          Pass It On Radio Ads\n",
            "         </a>\n",
            "        </li>\n",
            "        <li>\n",
            "         <a class=\"text-small\" href=\"https://www.passiton-media.com\">\n",
            "          Live Reads\n",
            "         </a>\n",
            "        </li>\n",
            "        <li>\n",
            "         <a class=\"text-small\" href=\"https://www.passiton-media.com\">\n",
            "          Out of Home Materials\n",
            "         </a>\n",
            "        </li>\n",
            "       </ul>\n",
            "       <div class=\"row sm-margin-30px-top\">\n",
            "        <div class=\"col-lg-4\">\n",
            "         <a href=\"/\">\n",
            "          <img alt=\"Values logo\" src=\"/assets/site/values_logo-cd29ec5f2f086673ac42962263d07e02.png\" style=\"max-width: 70px;\"/>\n",
            "         </a>\n",
            "        </div>\n",
            "        <div class=\"col-lg-7\">\n",
            "         <p class=\"text-medium-gray text-small padding-10px-top\">\n",
            "          VALUES.COM\n",
            "          <small>\n",
            "           ®\n",
            "          </small>\n",
            "          is now PassItOn.com\n",
            "          <small>\n",
            "           ®\n",
            "          </small>\n",
            "         </p>\n",
            "        </div>\n",
            "       </div>\n",
            "      </div>\n",
            "     </div>\n",
            "    </div>\n",
            "   </div>\n",
            "   <div class=\"container\">\n",
            "    <div class=\"footer-bottom border-top border-color-medium-dark-gray padding-30px-top\">\n",
            "     <div class=\"row\">\n",
            "      <div class=\"col-lg-6 col-md-6 text-small text-md-left text-center\">\n",
            "       ©1999-2022 The Foundation for a Better Life.\n",
            "      </div>\n",
            "      <div class=\"col-lg-6 col-md-6 text-small text-md-right text-center\">\n",
            "       <a href=\"/privacy-policy\">\n",
            "        Privacy Policy\n",
            "       </a>\n",
            "       |\n",
            "       <a href=\"/terms-of-use\">\n",
            "        Terms of Use\n",
            "       </a>\n",
            "      </div>\n",
            "     </div>\n",
            "    </div>\n",
            "   </div>\n",
            "  </footer>\n",
            "  <a class=\"scroll-top-arrow\" href=\"javascript:void(0);\">\n",
            "   <i class=\"ti-arrow-up\">\n",
            "   </i>\n",
            "  </a>\n",
            "  <script src=\"https://cdnjs.cloudflare.com/ajax/libs/jquery/1.12.4/jquery.js\">\n",
            "  </script>\n",
            "  <script crossorigin=\"anonymous\" integrity=\"sha384-UO2eT0CpHqdSJQ6hJty5KVphtPhzWj9WO1clHTMGa3JDZwrnQq4sF86dIHNDz0W1\" src=\"https://cdnjs.cloudflare.com/ajax/libs/popper.js/1.14.7/umd/popper.min.js\">\n",
            "  </script>\n",
            "  <script crossorigin=\"anonymous\" integrity=\"sha384-JjSmVgyd0p3pXB1rRibZUAYoIIy6OrQ6VrjIEaFf/nJGzIxFDsf4x0xIM+B07jRM\" src=\"https://stackpath.bootstrapcdn.com/bootstrap/4.3.1/js/bootstrap.min.js\">\n",
            "  </script>\n",
            "  <script src=\"/assets/pofo-a4dbe385403061795895066fbc319fa2.js\">\n",
            "  </script>\n",
            "  <div class=\"zoom-anim-dialog mfp-hide col-xl-6 col-lg-6 col-md-7 col-11 mx-auto bg-white text-center modal-popup-main padding-50px-all\" id=\"please_like_us_on_facebook\">\n",
            "   <span class=\"text-extra-dark-gray text-uppercase alt-font text-extra-large font-weight-600 margin-15px-bottom d-block\">\n",
            "    LIKE US ON FACEBOOK FOR A DAILY DOSE OF POSITIVITY\n",
            "   </span>\n",
            "   <iframe allow=\"autoplay; clipboard-write; encrypted-media; picture-in-picture; web-share\" allowfullscreen=\"true\" frameborder=\"0\" height=\"45\" scrolling=\"no\" src=\"https://www.facebook.com/plugins/like.php?href=https%3A%2F%2Fwww.facebook.com%2Fvaluescom&amp;width=450&amp;layout=standard&amp;action=like&amp;size=large&amp;share=true&amp;height=45&amp;appId\" style=\"border:none;overflow:hidden;font-size:1.4rem;\" width=\"450\">\n",
            "   </iframe>\n",
            "   <p class=\"padding-20px-all\">\n",
            "    We post our daily quotes and inspiring blog posts on Facebook. Click the like button above to get a daily dose of positivity in your feed.\n",
            "   </p>\n",
            "   <a class=\"text-small alt-font popup-modal-dismiss text-decoration-underline\" href=\"#\">\n",
            "    No thanks\n",
            "   </a>\n",
            "  </div>\n",
            " </body>\n",
            "</html>\n"
          ]
        }
      ]
    },
    {
      "cell_type": "code",
      "source": [
        "import requests\n",
        "from bs4 import BeautifulSoup as bs\n",
        "import pandas as pd\n",
        "from pandas.core.api import DataFrame\n",
        "\n",
        "baseurl = \"https://www.thewhiskyexchange.com\"\n",
        "\n",
        "headers = {'User-Agent': 'Mozilla/5.0 (Windows NT 10.0; Win64; x64) AppleWebKit/537.36 (KHTML, like Gecko) Chrome/89.0.4389.82 Safari/537.36'}\n",
        "\n",
        "\n",
        "\n",
        "productlinks = []\n",
        "data = []\n",
        "t = {}\n",
        "\n",
        "\n",
        "for x in range(1,6):\n",
        "    k = requests.get('https://www.thewhiskyexchange.com/c/35/japanese-whisky?pg={}&psize=120&sort=pasc'.format(x)).text\n",
        "    soup = bs(k,'html.parser')\n",
        "    productlist  = soup.find_all(\"li\",{\"class\":\"product-grid__item\"})\n",
        "    \n",
        "    for product in productlist:\n",
        "        link = product.find(\"a\",{\"class\":\"product-card\"}).get('href')\n",
        "        productlinks.append(baseurl + link)\n",
        "        \n",
        "\n",
        "\n",
        "for link in productlinks:\n",
        "    f = requests.get(link,headers = headers).text\n",
        "    hun = bs(f,'html.parser')\n",
        "    try:\n",
        "        price = hun.find(\"p\",{\"class\":\"product-action__price\"}).text.replace('\\n',\"\")\n",
        "    except:\n",
        "        price = None\n",
        "    try:\n",
        "        about = hun.find('div',{\"class\":\"product-main__description\"}).text.replace('\\n',\"\")\n",
        "    except:\n",
        "        about = None\n",
        "    try:\n",
        "        rating = hun.find('div',{\"class\":\"review-overview\"}).text.replace('\\n',\"\")    \n",
        "    except:\n",
        "        rating = None        \n",
        "    try:\n",
        "        name = hun.find('h1',{\"class\":\"product-main__name\"}).text.replace('\\n',\"\")\n",
        "    except:\n",
        "        name = None\n",
        "    whisky = {\"name\":name,\"price\":price,\"rating\":rating,\"about\":about}\n",
        "    data.append(whisky)\n",
        "            \n",
        "presentation = pd.DataFrame(data)        \n",
        "        \n",
        "print(presentation) "
      ],
      "metadata": {
        "id": "LQhlfQDpxyQA",
        "colab": {
          "base_uri": "https://localhost:8080/"
        },
        "outputId": "96a160dc-3f51-40a6-913b-8e66decd2f6e"
      },
      "execution_count": null,
      "outputs": [
        {
          "output_type": "stream",
          "name": "stdout",
          "text": [
            "                                                  name    price  \\\n",
            "0                                Suntory Torys Classic   £30.45   \n",
            "1                                         Suntory Toki   £33.95   \n",
            "2             The House of Suntory Triology Pack3x20cl   £44.95   \n",
            "3                                     The Chita Whisky   £51.95   \n",
            "4                            Nikka Coffey Grain Whisky   £57.95   \n",
            "..                                                 ...      ...   \n",
            "100  Shizuoka Single Malt Prologue K and Prologue W...     £199   \n",
            "101  Nikka Coffey Grain Whisky Show Package2 Sunday...     £264   \n",
            "102                                Hakushu 10 Year Old     £375   \n",
            "103  Chichibu 200910 Year Old Artist International ...   £3,500   \n",
            "104               Hanyu 1985 The JokerMonochrome Label  £60,000   \n",
            "\n",
            "              rating                                              about  \n",
            "0     3.5(2 Reviews)  Suntory Torys Classic is a light and easy-drin...  \n",
            "1      4(33 Reviews)  Toki is a blended whisky from Suntory's three ...  \n",
            "2               None  Explore the spirits of the House of Suntory wi...  \n",
            "3    4.5(41 Reviews)  Chita is Suntory's grain distillery. The flags...  \n",
            "4    4.5(51 Reviews)  A release of grain whisky from Japan's Nikka, ...  \n",
            "..               ...                                                ...  \n",
            "100             None  A pair of Japanese single malts from Shizuoka ...  \n",
            "101             None  A great ticket bundle to get you in the mood f...  \n",
            "102      5(1 Review)  A younger expression of Hakushu, this well-man...  \n",
            "103             None                                                     \n",
            "104             None  The last and final release from the Ichiro's M...  \n",
            "\n",
            "[105 rows x 4 columns]\n"
          ]
        }
      ]
    },
    {
      "cell_type": "code",
      "source": [
        "import requests\n",
        "from bs4 import BeautifulSoup\n",
        "import pandas as pd\n",
        "\n",
        "baseurl = \"https://www.thewhiskyexchange.com\"\n",
        "\n",
        "headers = {'User-Agent': 'Mozilla/5.0 (Windows NT 10.0; Win64; x64) AppleWebKit/537.36 (KHTML, like Gecko) Chrome/89.0.4389.82 Safari/537.36'}\n",
        "productlinks = []\n",
        "data=[]\n",
        "for x in range(1,6):\n",
        "    k = requests.get('https://www.thewhiskyexchange.com/c/35/japanese-whisky?pg={}&psize=24&sort=pasc'.format(x)).text\n",
        "    soup=BeautifulSoup(k,'html.parser')\n",
        "    productlist = soup.find_all(\"li\",{\"class\":\"product-grid__item\"})\n",
        "    for product in productlist:\n",
        "        link = product.find(\"a\",{\"class\":\"product-card\"}).get('href')\n",
        "        productlinks.append(baseurl + link)\n",
        "\n",
        "\n",
        "\n",
        "\n",
        "for link in productlinks:\n",
        "    f = requests.get(link,headers=headers).text\n",
        "    hun=BeautifulSoup(f,'html.parser')\n",
        "\n",
        "    try:\n",
        "        price = hun.find(\"p\",{\"class\":\"product-action__price\"}).text.replace('\\n',\" \")\n",
        "    except:\n",
        "        price = None\n",
        "\n",
        "    try:\n",
        "        about = hun.find(\"div\",{\"class\":\"product-main__description\"}).text.replace('\\n',\" \")\n",
        "    except:\n",
        "        about = None\n",
        "\n",
        "    try:\n",
        "        rating = hun.find(\"div\",{\"class\":\"review-overview\"}).text.replace('\\n',\" \")\n",
        "    except:\n",
        "        rating = None\n",
        "\n",
        "    try:\n",
        "        name = hun.find(\"h1\",{\"class\":\"product-main__name\"}).text.replace('\\n',\" \")\n",
        "    except:\n",
        "        name = None\n",
        "\n",
        "    whisky = {\"name\":name,\"price\":price,\"rating\":rating,\"about\":about}\n",
        "\n",
        "    data.append(whisky)\n",
        "\n",
        "\n",
        "df = pd.DataFrame(data)\n",
        "\n",
        "print(df)\n",
        "\n",
        "nome_arquivo = 'Whisky.txt'\n",
        "\n",
        "with open(nome_arquivo,'w') as fp:\n",
        "    fp.write('\\n \\n'.join(str(x)for x in data))\n"
      ],
      "metadata": {
        "id": "I8WJvVirxyNb",
        "colab": {
          "base_uri": "https://localhost:8080/"
        },
        "outputId": "858926f9-65fa-43f4-94c6-8fbabf685f65"
      },
      "execution_count": 24,
      "outputs": [
        {
          "output_type": "stream",
          "name": "stdout",
          "text": [
            "                                                  name    price  \\\n",
            "0                               Suntory Torys Classic    £30.45   \n",
            "1                                        Suntory Toki    £33.95   \n",
            "2           The House of Suntory Triology Pack 3x20cl    £44.95   \n",
            "3                                    The Chita Whisky    £51.95   \n",
            "4                           Nikka Coffey Grain Whisky    £57.95   \n",
            "..                                                 ...      ...   \n",
            "100   Shizuoka Single Malt Prologue K and Prologue ...     £199   \n",
            "101   Nikka Coffey Grain Whisky Show Package 2 Sund...     £264   \n",
            "102                               Hakushu 10 Year Old      £375   \n",
            "103   Chichibu 2009 10 Year Old Artist Internationa...   £3,500   \n",
            "104             Hanyu 1985 The Joker Monochrome Label   £60,000   \n",
            "\n",
            "                        rating  \\\n",
            "0         3.5   (2 Reviews)      \n",
            "1          4   (33 Reviews)      \n",
            "2                         None   \n",
            "3        4.5   (41 Reviews)      \n",
            "4        4.5   (51 Reviews)      \n",
            "..                         ...   \n",
            "100                       None   \n",
            "101                       None   \n",
            "102          5   (1 Review)      \n",
            "103                       None   \n",
            "104                       None   \n",
            "\n",
            "                                                 about  \n",
            "0      Suntory Torys Classic is a light and easy-dr...  \n",
            "1      Toki is a blended whisky from Suntory's thre...  \n",
            "2      Explore the spirits of the House of Suntory ...  \n",
            "3      Chita is Suntory's grain distillery. The fla...  \n",
            "4      A release of grain whisky from Japan's Nikka...  \n",
            "..                                                 ...  \n",
            "100    A pair of Japanese single malts from Shizuok...  \n",
            "101    A great ticket bundle to get you in the mood...  \n",
            "102    A younger expression of Hakushu, this well-m...  \n",
            "103                                                     \n",
            "104    The last and final release from the Ichiro's...  \n",
            "\n",
            "[105 rows x 4 columns]\n"
          ]
        }
      ]
    },
    {
      "cell_type": "code",
      "source": [
        ""
      ],
      "metadata": {
        "id": "jvridc1lxyLE"
      },
      "execution_count": null,
      "outputs": []
    },
    {
      "cell_type": "code",
      "source": [
        ""
      ],
      "metadata": {
        "id": "aeKHHA0CxyIh"
      },
      "execution_count": null,
      "outputs": []
    },
    {
      "cell_type": "code",
      "source": [
        ""
      ],
      "metadata": {
        "id": "hua7KnpwxyGC"
      },
      "execution_count": null,
      "outputs": []
    },
    {
      "cell_type": "code",
      "source": [
        ""
      ],
      "metadata": {
        "id": "nTM9UIdcxyDe"
      },
      "execution_count": null,
      "outputs": []
    },
    {
      "cell_type": "code",
      "source": [
        ""
      ],
      "metadata": {
        "id": "9t2u6466xyBD"
      },
      "execution_count": null,
      "outputs": []
    },
    {
      "cell_type": "code",
      "source": [
        ""
      ],
      "metadata": {
        "id": "LyQaguDsxx-Y"
      },
      "execution_count": null,
      "outputs": []
    },
    {
      "cell_type": "code",
      "source": [
        ""
      ],
      "metadata": {
        "id": "AvbVOjiZxx7w"
      },
      "execution_count": null,
      "outputs": []
    },
    {
      "cell_type": "code",
      "source": [
        ""
      ],
      "metadata": {
        "id": "0Gz2cVsWxx5C"
      },
      "execution_count": null,
      "outputs": []
    },
    {
      "cell_type": "code",
      "source": [
        ""
      ],
      "metadata": {
        "id": "imkPVG1Yxx2Y"
      },
      "execution_count": null,
      "outputs": []
    },
    {
      "cell_type": "code",
      "source": [
        ""
      ],
      "metadata": {
        "id": "kMnp_od-xxzq"
      },
      "execution_count": null,
      "outputs": []
    },
    {
      "cell_type": "code",
      "source": [
        ""
      ],
      "metadata": {
        "id": "RDHaf2ouxxw-"
      },
      "execution_count": null,
      "outputs": []
    },
    {
      "cell_type": "code",
      "source": [
        ""
      ],
      "metadata": {
        "id": "2gIdfQEQxxub"
      },
      "execution_count": null,
      "outputs": []
    },
    {
      "cell_type": "code",
      "source": [
        ""
      ],
      "metadata": {
        "id": "zOsgrColxxr2"
      },
      "execution_count": null,
      "outputs": []
    },
    {
      "cell_type": "code",
      "source": [
        ""
      ],
      "metadata": {
        "id": "EVyqqKYvxxpN"
      },
      "execution_count": null,
      "outputs": []
    },
    {
      "cell_type": "code",
      "source": [
        ""
      ],
      "metadata": {
        "id": "1DcBIawExxm3"
      },
      "execution_count": null,
      "outputs": []
    },
    {
      "cell_type": "code",
      "source": [
        ""
      ],
      "metadata": {
        "id": "eMPy6-c7xxkX"
      },
      "execution_count": null,
      "outputs": []
    },
    {
      "cell_type": "code",
      "source": [
        ""
      ],
      "metadata": {
        "id": "A14lS5paxxh6"
      },
      "execution_count": null,
      "outputs": []
    },
    {
      "cell_type": "code",
      "source": [
        ""
      ],
      "metadata": {
        "id": "gmR4jEwPxxfX"
      },
      "execution_count": null,
      "outputs": []
    },
    {
      "cell_type": "code",
      "source": [
        ""
      ],
      "metadata": {
        "id": "lpdBVfyjxxdA"
      },
      "execution_count": null,
      "outputs": []
    },
    {
      "cell_type": "code",
      "source": [
        ""
      ],
      "metadata": {
        "id": "1i5YP13Kxxae"
      },
      "execution_count": null,
      "outputs": []
    },
    {
      "cell_type": "code",
      "source": [
        ""
      ],
      "metadata": {
        "id": "vOsi25HTxxYD"
      },
      "execution_count": null,
      "outputs": []
    },
    {
      "cell_type": "code",
      "source": [
        ""
      ],
      "metadata": {
        "id": "mhfHibzkxxVl"
      },
      "execution_count": null,
      "outputs": []
    },
    {
      "cell_type": "code",
      "source": [
        ""
      ],
      "metadata": {
        "id": "boKKu4cTxxTO"
      },
      "execution_count": null,
      "outputs": []
    },
    {
      "cell_type": "code",
      "source": [
        ""
      ],
      "metadata": {
        "id": "Bc5lv7ocxxQw"
      },
      "execution_count": null,
      "outputs": []
    },
    {
      "cell_type": "code",
      "source": [
        ""
      ],
      "metadata": {
        "id": "KToEYZ-6xxOY"
      },
      "execution_count": null,
      "outputs": []
    },
    {
      "cell_type": "code",
      "source": [
        ""
      ],
      "metadata": {
        "id": "Dh0tI7Y0xxMF"
      },
      "execution_count": null,
      "outputs": []
    },
    {
      "cell_type": "code",
      "source": [
        ""
      ],
      "metadata": {
        "id": "KbZil4UGxxJo"
      },
      "execution_count": null,
      "outputs": []
    },
    {
      "cell_type": "code",
      "source": [
        ""
      ],
      "metadata": {
        "id": "FfPyJgGsxxHM"
      },
      "execution_count": null,
      "outputs": []
    },
    {
      "cell_type": "code",
      "source": [
        ""
      ],
      "metadata": {
        "id": "XZW7dm0JxxEv"
      },
      "execution_count": null,
      "outputs": []
    },
    {
      "cell_type": "code",
      "source": [
        ""
      ],
      "metadata": {
        "id": "FPJFnmSmxxCJ"
      },
      "execution_count": null,
      "outputs": []
    },
    {
      "cell_type": "code",
      "source": [
        ""
      ],
      "metadata": {
        "id": "qe6UNA7uxw_r"
      },
      "execution_count": null,
      "outputs": []
    },
    {
      "cell_type": "code",
      "source": [
        ""
      ],
      "metadata": {
        "id": "Bx7mfDeZxw9B"
      },
      "execution_count": null,
      "outputs": []
    },
    {
      "cell_type": "code",
      "source": [
        ""
      ],
      "metadata": {
        "id": "ipOVAw5Wxw6L"
      },
      "execution_count": null,
      "outputs": []
    },
    {
      "cell_type": "code",
      "source": [
        ""
      ],
      "metadata": {
        "id": "Yk9KpbGGxw3l"
      },
      "execution_count": null,
      "outputs": []
    },
    {
      "cell_type": "code",
      "source": [
        ""
      ],
      "metadata": {
        "id": "Q9xUZ2wkxw0-"
      },
      "execution_count": null,
      "outputs": []
    },
    {
      "cell_type": "code",
      "source": [
        ""
      ],
      "metadata": {
        "id": "BxjApaS3xwyf"
      },
      "execution_count": null,
      "outputs": []
    },
    {
      "cell_type": "code",
      "source": [
        ""
      ],
      "metadata": {
        "id": "LXTnCfw1xwql"
      },
      "execution_count": null,
      "outputs": []
    },
    {
      "cell_type": "code",
      "source": [
        ""
      ],
      "metadata": {
        "id": "_DISoJQixv0C"
      },
      "execution_count": null,
      "outputs": []
    },
    {
      "cell_type": "markdown",
      "source": [
        "y = 3"
      ],
      "metadata": {
        "id": "5i4hKG61vWza"
      }
    },
    {
      "cell_type": "code",
      "source": [
        ""
      ],
      "metadata": {
        "id": "uyeJ8SSxxuzq"
      },
      "execution_count": null,
      "outputs": []
    },
    {
      "cell_type": "code",
      "source": [
        ""
      ],
      "metadata": {
        "id": "C89XCHGAxt1W"
      },
      "execution_count": null,
      "outputs": []
    },
    {
      "cell_type": "code",
      "source": [
        ""
      ],
      "metadata": {
        "id": "peB0TA7OxlkL"
      },
      "execution_count": null,
      "outputs": []
    },
    {
      "cell_type": "code",
      "source": [
        ""
      ],
      "metadata": {
        "id": "71YHyriGxb7Z"
      },
      "execution_count": null,
      "outputs": []
    }
  ]
}